{
 "cells": [
  {
   "source": [
    "# Biodiversity in National Parks\n",
    "\n",
    "For this project, I interpreted biodiversity data from the National Park Service, particularly around various species observed in different national park locations.\n",
    "\n",
    "I attempted to view my work from the perspective of a biodiversity analyst for the National Park Service. The National Park Service wants to ensure the survival of at-risk species and maintain biodiversity within their parks. Therefore, my main objectives were to understand species characteristics and their conservation status, and those species and their relationship to the national parks. The following are some questions I posed:\n",
    "\n",
    "- What is the distribution of conservation status for species?\n",
    "- Are certain types of species more likely to be endangered?\n",
    "- Are the differences between species and their conservation status significant?\n",
    "- Which animal is most prevalent, and what is their distribution amongst parks?\n",
    "\n",
    "You can find the data for this project [here](https://irma.nps.gov/NPSpecies/Search)."
   ],
   "cell_type": "markdown",
   "metadata": {}
  },
  {
   "source": [
    "## Preparation\n",
    "\n",
    "First, I imported **Pandas**, **NumPy**, **pyplot**, and **seaborn**."
   ],
   "cell_type": "markdown",
   "metadata": {}
  },
  {
   "cell_type": "code",
   "execution_count": 1,
   "metadata": {},
   "outputs": [],
   "source": [
    "import pandas as pd\n",
    "import numpy as np\n",
    "import matplotlib.pyplot as plt\n",
    "import seaborn as sns\n",
    "%matplotlib inline"
   ]
  },
  {
   "source": [
    "Then, I loaded the data into a data frame and glanced at its contents using `.head()`."
   ],
   "cell_type": "markdown",
   "metadata": {}
  },
  {
   "cell_type": "code",
   "execution_count": 2,
   "metadata": {},
   "outputs": [
    {
     "output_type": "execute_result",
     "data": {
      "text/plain": [
       "                    Park Name Category        Scientific Name   Common Names  \\\n",
       "0  Bryce Canyon National Park   Mammal  Antilocapra americana      Pronghorn   \n",
       "1  Bryce Canyon National Park   Mammal    Oreamnos americanus  Mountain Goat   \n",
       "2  Bryce Canyon National Park   Mammal        Ovis canadensis  Bighorn Sheep   \n",
       "3  Bryce Canyon National Park   Mammal      Cervus canadensis            Elk   \n",
       "4  Bryce Canyon National Park   Mammal    Odocoileus hemionus      Mule Deer   \n",
       "\n",
       "   Observations  T&E  \n",
       "0           NaN  NaN  \n",
       "1           NaN  NaN  \n",
       "2           NaN   SC  \n",
       "3           NaN  NaN  \n",
       "4           NaN  NaN  "
      ],
      "text/html": "<div>\n<style scoped>\n    .dataframe tbody tr th:only-of-type {\n        vertical-align: middle;\n    }\n\n    .dataframe tbody tr th {\n        vertical-align: top;\n    }\n\n    .dataframe thead th {\n        text-align: right;\n    }\n</style>\n<table border=\"1\" class=\"dataframe\">\n  <thead>\n    <tr style=\"text-align: right;\">\n      <th></th>\n      <th>Park Name</th>\n      <th>Category</th>\n      <th>Scientific Name</th>\n      <th>Common Names</th>\n      <th>Observations</th>\n      <th>T&amp;E</th>\n    </tr>\n  </thead>\n  <tbody>\n    <tr>\n      <th>0</th>\n      <td>Bryce Canyon National Park</td>\n      <td>Mammal</td>\n      <td>Antilocapra americana</td>\n      <td>Pronghorn</td>\n      <td>NaN</td>\n      <td>NaN</td>\n    </tr>\n    <tr>\n      <th>1</th>\n      <td>Bryce Canyon National Park</td>\n      <td>Mammal</td>\n      <td>Oreamnos americanus</td>\n      <td>Mountain Goat</td>\n      <td>NaN</td>\n      <td>NaN</td>\n    </tr>\n    <tr>\n      <th>2</th>\n      <td>Bryce Canyon National Park</td>\n      <td>Mammal</td>\n      <td>Ovis canadensis</td>\n      <td>Bighorn Sheep</td>\n      <td>NaN</td>\n      <td>SC</td>\n    </tr>\n    <tr>\n      <th>3</th>\n      <td>Bryce Canyon National Park</td>\n      <td>Mammal</td>\n      <td>Cervus canadensis</td>\n      <td>Elk</td>\n      <td>NaN</td>\n      <td>NaN</td>\n    </tr>\n    <tr>\n      <th>4</th>\n      <td>Bryce Canyon National Park</td>\n      <td>Mammal</td>\n      <td>Odocoileus hemionus</td>\n      <td>Mule Deer</td>\n      <td>NaN</td>\n      <td>NaN</td>\n    </tr>\n  </tbody>\n</table>\n</div>"
     },
     "metadata": {},
     "execution_count": 2
    }
   ],
   "source": [
    "df = pd.read_csv(\"NPSpecies_FullListWithDetails_20210605220758.csv\")\n",
    "df.head()"
   ]
  },
  {
   "source": [
    "I changed the name of column `T&E` (\"Threatened and Endangered\") to `Conservation Status` to make my analysis more clear."
   ],
   "cell_type": "markdown",
   "metadata": {}
  },
  {
   "cell_type": "code",
   "execution_count": 3,
   "metadata": {},
   "outputs": [
    {
     "output_type": "execute_result",
     "data": {
      "text/plain": [
       "                    Park Name Category        Scientific Name   Common Names  \\\n",
       "0  Bryce Canyon National Park   Mammal  Antilocapra americana      Pronghorn   \n",
       "1  Bryce Canyon National Park   Mammal    Oreamnos americanus  Mountain Goat   \n",
       "2  Bryce Canyon National Park   Mammal        Ovis canadensis  Bighorn Sheep   \n",
       "3  Bryce Canyon National Park   Mammal      Cervus canadensis            Elk   \n",
       "4  Bryce Canyon National Park   Mammal    Odocoileus hemionus      Mule Deer   \n",
       "\n",
       "   Observations Conservation Status  \n",
       "0           NaN                 NaN  \n",
       "1           NaN                 NaN  \n",
       "2           NaN                  SC  \n",
       "3           NaN                 NaN  \n",
       "4           NaN                 NaN  "
      ],
      "text/html": "<div>\n<style scoped>\n    .dataframe tbody tr th:only-of-type {\n        vertical-align: middle;\n    }\n\n    .dataframe tbody tr th {\n        vertical-align: top;\n    }\n\n    .dataframe thead th {\n        text-align: right;\n    }\n</style>\n<table border=\"1\" class=\"dataframe\">\n  <thead>\n    <tr style=\"text-align: right;\">\n      <th></th>\n      <th>Park Name</th>\n      <th>Category</th>\n      <th>Scientific Name</th>\n      <th>Common Names</th>\n      <th>Observations</th>\n      <th>Conservation Status</th>\n    </tr>\n  </thead>\n  <tbody>\n    <tr>\n      <th>0</th>\n      <td>Bryce Canyon National Park</td>\n      <td>Mammal</td>\n      <td>Antilocapra americana</td>\n      <td>Pronghorn</td>\n      <td>NaN</td>\n      <td>NaN</td>\n    </tr>\n    <tr>\n      <th>1</th>\n      <td>Bryce Canyon National Park</td>\n      <td>Mammal</td>\n      <td>Oreamnos americanus</td>\n      <td>Mountain Goat</td>\n      <td>NaN</td>\n      <td>NaN</td>\n    </tr>\n    <tr>\n      <th>2</th>\n      <td>Bryce Canyon National Park</td>\n      <td>Mammal</td>\n      <td>Ovis canadensis</td>\n      <td>Bighorn Sheep</td>\n      <td>NaN</td>\n      <td>SC</td>\n    </tr>\n    <tr>\n      <th>3</th>\n      <td>Bryce Canyon National Park</td>\n      <td>Mammal</td>\n      <td>Cervus canadensis</td>\n      <td>Elk</td>\n      <td>NaN</td>\n      <td>NaN</td>\n    </tr>\n    <tr>\n      <th>4</th>\n      <td>Bryce Canyon National Park</td>\n      <td>Mammal</td>\n      <td>Odocoileus hemionus</td>\n      <td>Mule Deer</td>\n      <td>NaN</td>\n      <td>NaN</td>\n    </tr>\n  </tbody>\n</table>\n</div>"
     },
     "metadata": {},
     "execution_count": 3
    }
   ],
   "source": [
    "df = df.rename({'T&E':'Conservation Status'}, axis = 'columns')\n",
    "df.head()"
   ]
  },
  {
   "source": [
    "Next, I performed a check of the dimensions of the data set. There are 35,953 rows and six columns."
   ],
   "cell_type": "markdown",
   "metadata": {}
  },
  {
   "cell_type": "code",
   "execution_count": 4,
   "metadata": {},
   "outputs": [
    {
     "output_type": "stream",
     "name": "stdout",
     "text": [
      "df shape: (35953, 6)\n"
     ]
    }
   ],
   "source": [
    "print(f\"df shape: {df.shape}\")"
   ]
  },
  {
   "source": [
    "As I explored the data more in-depth, I decided to find the number of distinct species present. There are 33,849 unique species listed—WOW!"
   ],
   "cell_type": "markdown",
   "metadata": {}
  },
  {
   "cell_type": "code",
   "execution_count": 5,
   "metadata": {},
   "outputs": [
    {
     "output_type": "stream",
     "name": "stdout",
     "text": [
      "number of species: 33849\n"
     ]
    }
   ],
   "source": [
    "print(f\"number of species: {df['Scientific Name'].nunique()}\")"
   ]
  },
  {
   "source": [
    "Next, I wanted to find the number of classified living creatures represented in the data. There are 16, including animals and plants."
   ],
   "cell_type": "markdown",
   "metadata": {}
  },
  {
   "cell_type": "code",
   "execution_count": 6,
   "metadata": {},
   "outputs": [
    {
     "output_type": "stream",
     "name": "stdout",
     "text": [
      "number of categories: 16\ncategories: ['Mammal' 'Bird' 'Reptile' 'Amphibian' 'Fish' 'Vascular Plant'\n 'Non-vascular Plant' 'Crab/Lobster/Shrimp' 'Slug/Snail' 'Spider/Scorpion'\n 'Insect' 'Other Non-vertebrates' 'Fungi' 'Protozoa' 'Chromista'\n 'Bacteria']\n"
     ]
    }
   ],
   "source": [
    "print(f\"number of categories: {df['Category'].nunique()}\")\n",
    "print(f\"categories: {df['Category'].unique()}\")"
   ]
  },
  {
   "source": [
    "Then, I wanted to drill down to see the size of each `Category`. *Insects* are the largest share of species with 14,053 in the data, with *Amphibians* being the smallest with 97."
   ],
   "cell_type": "markdown",
   "metadata": {}
  },
  {
   "cell_type": "code",
   "execution_count": 7,
   "metadata": {},
   "outputs": [
    {
     "output_type": "execute_result",
     "data": {
      "text/plain": [
       "Category\n",
       "Amphibian                   97\n",
       "Bacteria                   296\n",
       "Bird                      1060\n",
       "Chromista                  855\n",
       "Crab/Lobster/Shrimp        183\n",
       "Fish                       140\n",
       "Fungi                     5212\n",
       "Insect                   14053\n",
       "Mammal                     321\n",
       "Non-vascular Plant        1037\n",
       "Other Non-vertebrates     1063\n",
       "Protozoa                   275\n",
       "Reptile                     99\n",
       "Slug/Snail                 347\n",
       "Spider/Scorpion           4631\n",
       "Vascular Plant            6284\n",
       "dtype: int64"
      ]
     },
     "metadata": {},
     "execution_count": 7
    }
   ],
   "source": [
    "df.groupby(\"Category\").size()"
   ]
  },
  {
   "source": [
    "Another column I wanted to explore is `Conservation Status`. The column has four categories, `SC`, `T`, `DM`, `E`, and  `nan` (not a number) values.\n",
    "\n",
    "**Note:** Here, `nan` denotes that these species are not under a conservation status."
   ],
   "cell_type": "markdown",
   "metadata": {}
  },
  {
   "cell_type": "code",
   "execution_count": 8,
   "metadata": {},
   "outputs": [
    {
     "output_type": "stream",
     "name": "stdout",
     "text": [
      "number of conservation statuses: 4\n",
      "unique conservation statuses: [nan 'SC' 'T' 'DM' 'E']\n"
     ]
    }
   ],
   "source": [
    "print(f\"number of conservation statuses: {df['Conservation Status'].nunique()}\")\n",
    "print(f\"unique conservation statuses: {df['Conservation Status'].unique()}\")"
   ]
  },
  {
   "source": [
    "Instead of leaving the column names ambiguous, I decided to check the source for their proper terms and update the columns accordingly."
   ],
   "cell_type": "markdown",
   "metadata": {}
  },
  {
   "cell_type": "code",
   "execution_count": 9,
   "metadata": {},
   "outputs": [
    {
     "output_type": "stream",
     "name": "stdout",
     "text": [
      "unique conservation statuses: [nan 'Species of Concern' 'Threatened' 'In Recovery' 'Endangered']\n"
     ]
    }
   ],
   "source": [
    "df['Conservation Status'] = df['Conservation Status'].replace({'SC': 'Species of Concern',\n",
    "'T': 'Threatened',\n",
    "'DM': 'In Recovery',\n",
    "'E': 'Endangered'})\n",
    "print(f\"unique conservation statuses: {df['Conservation Status'].unique()}\")"
   ]
  },
  {
   "source": [
    "Next, I performed a count of the number of observations in the breakdown of the categories in `Conservation Status`. There are 35,308 `nan` values. There are also 605 species of concern, 16 endangered, 15 threatened, and 9 in recovery. "
   ],
   "cell_type": "markdown",
   "metadata": {}
  },
  {
   "cell_type": "code",
   "execution_count": 10,
   "metadata": {},
   "outputs": [
    {
     "output_type": "stream",
     "name": "stdout",
     "text": [
      "nan values: 35308\n"
     ]
    },
    {
     "output_type": "execute_result",
     "data": {
      "text/plain": [
       "Conservation Status\n",
       "Endangered             16\n",
       "In Recovery             9\n",
       "Species of Concern    605\n",
       "Threatened             15\n",
       "dtype: int64"
      ]
     },
     "metadata": {},
     "execution_count": 10
    }
   ],
   "source": [
    "print(f\"nan values: {df['Conservation Status'].isna().sum()}\")\n",
    "df.groupby(\"Conservation Status\").size()"
   ]
  },
  {
   "source": [
    "The next task was to check the number of parks in the dataset; there are only 4."
   ],
   "cell_type": "markdown",
   "metadata": {}
  },
  {
   "cell_type": "code",
   "execution_count": 11,
   "metadata": {},
   "outputs": [
    {
     "output_type": "stream",
     "name": "stdout",
     "text": [
      "number of parks: 4\nunique parks: ['Bryce Canyon National Park' 'Great Smoky Mountains National Park'\n 'Yellowstone National Park' 'Yosemite National Park']\n"
     ]
    }
   ],
   "source": [
    "print(f\"number of parks: {df['Park Name'].nunique()}\")\n",
    "print(f\"unique parks: {df['Park Name'].unique()}\")"
   ]
  },
  {
   "source": [
    "There are 321,095 total sightings logged  in the data set; that's a lot of observations!"
   ],
   "cell_type": "markdown",
   "metadata": {}
  },
  {
   "cell_type": "code",
   "execution_count": 12,
   "metadata": {},
   "outputs": [
    {
     "output_type": "stream",
     "name": "stdout",
     "text": [
      "number of observations: 321095.0\n"
     ]
    }
   ],
   "source": [
    "print(f\"number of observations: {df['Observations'].sum()}\")"
   ]
  },
  {
   "source": [
    "## Analysis\n",
    "\n",
    "As I began analyzing the data after my initial exploration, my first task was to clean and explore the `Conservation Status` column. \n",
    "\n",
    "The `Conservation Status` column has several possible values:\n",
    "- `Species of Concern`: declining or appear to need conservation\n",
    "- `Threatened`: vulnerable to endangerment soon\n",
    "- `Endangered`: seriously at risk of extinction\n",
    "- `In Recovery`: currently neither in danger of extinction throughout all or a significant portion of its range\n",
    "\n",
    "During my exploration, I detected a lot of `nan` values. I converted them to `No Intervention`."
   ],
   "cell_type": "markdown",
   "metadata": {}
  },
  {
   "cell_type": "code",
   "execution_count": 13,
   "metadata": {},
   "outputs": [
    {
     "output_type": "execute_result",
     "data": {
      "text/plain": [
       "Conservation Status\n",
       "Endangered               16\n",
       "In Recovery               4\n",
       "No Intervention       33473\n",
       "Species of Concern      344\n",
       "Threatened               13\n",
       "Name: Scientific Name, dtype: int64"
      ]
     },
     "metadata": {},
     "execution_count": 13
    }
   ],
   "source": [
    "df.fillna('No Intervention', inplace=True)\n",
    "df.groupby('Conservation Status')['Scientific Name'].nunique()"
   ]
  },
  {
   "source": [
    "Next, I examined the different categories nested in the `Conservation Status` column, except for those that do not require an intervention.\n",
    "\n",
    "For those in the `Endangered` status, 5 are **mammals**, and 4 were **birds**. There are six **birds** and three **mammals** in the `In Recovery` status, which could mean the **birds** are bouncing back more than the mammals. "
   ],
   "cell_type": "markdown",
   "metadata": {}
  },
  {
   "cell_type": "code",
   "execution_count": 14,
   "metadata": {},
   "outputs": [
    {
     "output_type": "execute_result",
     "data": {
      "text/plain": [
       "Category             Amphibian   Bird  Crab/Lobster/Shrimp  Fish  Fungi  \\\n",
       "Conservation Status                                                       \n",
       "Endangered                 1.0    4.0                  NaN   2.0    1.0   \n",
       "In Recovery                NaN    6.0                  NaN   NaN    NaN   \n",
       "Species of Concern         2.0  414.0                  3.0   6.0    8.0   \n",
       "Threatened                 2.0    NaN                  NaN   6.0    NaN   \n",
       "\n",
       "Category             Insect  Mammal  Non-vascular Plant  Reptile  Slug/Snail  \\\n",
       "Conservation Status                                                            \n",
       "Endangered              1.0     5.0                 NaN      NaN         NaN   \n",
       "In Recovery             NaN     3.0                 NaN      NaN         NaN   \n",
       "Species of Concern     34.0    53.0                11.0      5.0         8.0   \n",
       "Threatened              NaN     5.0                 NaN      NaN         1.0   \n",
       "\n",
       "Category             Spider/Scorpion  Vascular Plant  \n",
       "Conservation Status                                   \n",
       "Endangered                       1.0             1.0  \n",
       "In Recovery                      NaN             NaN  \n",
       "Species of Concern              10.0            51.0  \n",
       "Threatened                       NaN             1.0  "
      ],
      "text/html": "<div>\n<style scoped>\n    .dataframe tbody tr th:only-of-type {\n        vertical-align: middle;\n    }\n\n    .dataframe tbody tr th {\n        vertical-align: top;\n    }\n\n    .dataframe thead th {\n        text-align: right;\n    }\n</style>\n<table border=\"1\" class=\"dataframe\">\n  <thead>\n    <tr style=\"text-align: right;\">\n      <th>Category</th>\n      <th>Amphibian</th>\n      <th>Bird</th>\n      <th>Crab/Lobster/Shrimp</th>\n      <th>Fish</th>\n      <th>Fungi</th>\n      <th>Insect</th>\n      <th>Mammal</th>\n      <th>Non-vascular Plant</th>\n      <th>Reptile</th>\n      <th>Slug/Snail</th>\n      <th>Spider/Scorpion</th>\n      <th>Vascular Plant</th>\n    </tr>\n    <tr>\n      <th>Conservation Status</th>\n      <th></th>\n      <th></th>\n      <th></th>\n      <th></th>\n      <th></th>\n      <th></th>\n      <th></th>\n      <th></th>\n      <th></th>\n      <th></th>\n      <th></th>\n      <th></th>\n    </tr>\n  </thead>\n  <tbody>\n    <tr>\n      <th>Endangered</th>\n      <td>1.0</td>\n      <td>4.0</td>\n      <td>NaN</td>\n      <td>2.0</td>\n      <td>1.0</td>\n      <td>1.0</td>\n      <td>5.0</td>\n      <td>NaN</td>\n      <td>NaN</td>\n      <td>NaN</td>\n      <td>1.0</td>\n      <td>1.0</td>\n    </tr>\n    <tr>\n      <th>In Recovery</th>\n      <td>NaN</td>\n      <td>6.0</td>\n      <td>NaN</td>\n      <td>NaN</td>\n      <td>NaN</td>\n      <td>NaN</td>\n      <td>3.0</td>\n      <td>NaN</td>\n      <td>NaN</td>\n      <td>NaN</td>\n      <td>NaN</td>\n      <td>NaN</td>\n    </tr>\n    <tr>\n      <th>Species of Concern</th>\n      <td>2.0</td>\n      <td>414.0</td>\n      <td>3.0</td>\n      <td>6.0</td>\n      <td>8.0</td>\n      <td>34.0</td>\n      <td>53.0</td>\n      <td>11.0</td>\n      <td>5.0</td>\n      <td>8.0</td>\n      <td>10.0</td>\n      <td>51.0</td>\n    </tr>\n    <tr>\n      <th>Threatened</th>\n      <td>2.0</td>\n      <td>NaN</td>\n      <td>NaN</td>\n      <td>6.0</td>\n      <td>NaN</td>\n      <td>NaN</td>\n      <td>5.0</td>\n      <td>NaN</td>\n      <td>NaN</td>\n      <td>1.0</td>\n      <td>NaN</td>\n      <td>1.0</td>\n    </tr>\n  </tbody>\n</table>\n</div>"
     },
     "metadata": {},
     "execution_count": 14
    }
   ],
   "source": [
    "conservationCategory = df[df['Conservation Status'] != \"No Intervention\"]\\\n",
    "    .groupby([\"Conservation Status\", \"Category\"])['Scientific Name']\\\n",
    "    .count()\\\n",
    "    .unstack()\n",
    "\n",
    "conservationCategory"
   ]
  },
  {
   "cell_type": "code",
   "execution_count": 15,
   "metadata": {},
   "outputs": [
    {
     "output_type": "display_data",
     "data": {
      "text/plain": "<Figure size 576x432 with 1 Axes>",
      "image/svg+xml": "<?xml version=\"1.0\" encoding=\"utf-8\" standalone=\"no\"?>\n<!DOCTYPE svg PUBLIC \"-//W3C//DTD SVG 1.1//EN\"\n  \"http://www.w3.org/Graphics/SVG/1.1/DTD/svg11.dtd\">\n<svg height=\"457.086563pt\" version=\"1.1\" viewBox=\"0 0 500.565625 457.086563\" width=\"500.565625pt\" xmlns=\"http://www.w3.org/2000/svg\" xmlns:xlink=\"http://www.w3.org/1999/xlink\">\n <metadata>\n  <rdf:RDF xmlns:cc=\"http://creativecommons.org/ns#\" xmlns:dc=\"http://purl.org/dc/elements/1.1/\" xmlns:rdf=\"http://www.w3.org/1999/02/22-rdf-syntax-ns#\">\n   <cc:Work>\n    <dc:type rdf:resource=\"http://purl.org/dc/dcmitype/StillImage\"/>\n    <dc:date>2021-06-20T00:41:26.813511</dc:date>\n    <dc:format>image/svg+xml</dc:format>\n    <dc:creator>\n     <cc:Agent>\n      <dc:title>Matplotlib v3.4.2, https://matplotlib.org/</dc:title>\n     </cc:Agent>\n    </dc:creator>\n   </cc:Work>\n  </rdf:RDF>\n </metadata>\n <defs>\n  <style type=\"text/css\">*{stroke-linecap:butt;stroke-linejoin:round;}</style>\n </defs>\n <g id=\"figure_1\">\n  <g id=\"patch_1\">\n   <path d=\"M 0 457.086563 \nL 500.565625 457.086563 \nL 500.565625 -0 \nL 0 -0 \nz\n\" style=\"fill:none;\"/>\n  </g>\n  <g id=\"axes_1\">\n   <g id=\"patch_2\">\n    <path d=\"M 46.965625 333.36 \nL 493.365625 333.36 \nL 493.365625 7.2 \nL 46.965625 7.2 \nz\n\" style=\"fill:#ffffff;\"/>\n   </g>\n   <g id=\"patch_3\">\n    <path clip-path=\"url(#pfbd7608190)\" d=\"M 74.865625 333.36 \nL 130.665625 333.36 \nL 130.665625 332.846564 \nL 74.865625 332.846564 \nz\n\" style=\"fill:#1f77b4;\"/>\n   </g>\n   <g id=\"patch_4\">\n    <path clip-path=\"url(#pfbd7608190)\" d=\"M 186.465625 333.36 \nL 242.265625 333.36 \nL 242.265625 333.36 \nL 186.465625 333.36 \nz\n\" style=\"fill:#1f77b4;\"/>\n   </g>\n   <g id=\"patch_5\">\n    <path clip-path=\"url(#pfbd7608190)\" d=\"M 298.065625 333.36 \nL 353.865625 333.36 \nL 353.865625 332.333129 \nL 298.065625 332.333129 \nz\n\" style=\"fill:#1f77b4;\"/>\n   </g>\n   <g id=\"patch_6\">\n    <path clip-path=\"url(#pfbd7608190)\" d=\"M 409.665625 333.36 \nL 465.465625 333.36 \nL 465.465625 332.333129 \nL 409.665625 332.333129 \nz\n\" style=\"fill:#1f77b4;\"/>\n   </g>\n   <g id=\"patch_7\">\n    <path clip-path=\"url(#pfbd7608190)\" d=\"M 74.865625 332.846564 \nL 130.665625 332.846564 \nL 130.665625 330.792822 \nL 74.865625 330.792822 \nz\n\" style=\"fill:#ff7f0e;\"/>\n   </g>\n   <g id=\"patch_8\">\n    <path clip-path=\"url(#pfbd7608190)\" d=\"M 186.465625 333.36 \nL 242.265625 333.36 \nL 242.265625 330.279386 \nL 186.465625 330.279386 \nz\n\" style=\"fill:#ff7f0e;\"/>\n   </g>\n   <g id=\"patch_9\">\n    <path clip-path=\"url(#pfbd7608190)\" d=\"M 298.065625 332.333129 \nL 353.865625 332.333129 \nL 353.865625 119.770767 \nL 298.065625 119.770767 \nz\n\" style=\"fill:#ff7f0e;\"/>\n   </g>\n   <g id=\"patch_10\">\n    <path clip-path=\"url(#pfbd7608190)\" d=\"M 409.665625 333.36 \nL 465.465625 333.36 \nL 465.465625 333.36 \nL 409.665625 333.36 \nz\n\" style=\"fill:#ff7f0e;\"/>\n   </g>\n   <g id=\"patch_11\">\n    <path clip-path=\"url(#pfbd7608190)\" d=\"M 74.865625 333.36 \nL 130.665625 333.36 \nL 130.665625 333.36 \nL 74.865625 333.36 \nz\n\" style=\"fill:#2ca02c;\"/>\n   </g>\n   <g id=\"patch_12\">\n    <path clip-path=\"url(#pfbd7608190)\" d=\"M 186.465625 333.36 \nL 242.265625 333.36 \nL 242.265625 333.36 \nL 186.465625 333.36 \nz\n\" style=\"fill:#2ca02c;\"/>\n   </g>\n   <g id=\"patch_13\">\n    <path clip-path=\"url(#pfbd7608190)\" d=\"M 298.065625 119.770767 \nL 353.865625 119.770767 \nL 353.865625 118.23046 \nL 298.065625 118.23046 \nz\n\" style=\"fill:#2ca02c;\"/>\n   </g>\n   <g id=\"patch_14\">\n    <path clip-path=\"url(#pfbd7608190)\" d=\"M 409.665625 333.36 \nL 465.465625 333.36 \nL 465.465625 333.36 \nL 409.665625 333.36 \nz\n\" style=\"fill:#2ca02c;\"/>\n   </g>\n   <g id=\"patch_15\">\n    <path clip-path=\"url(#pfbd7608190)\" d=\"M 74.865625 330.792822 \nL 130.665625 330.792822 \nL 130.665625 329.76595 \nL 74.865625 329.76595 \nz\n\" style=\"fill:#d62728;\"/>\n   </g>\n   <g id=\"patch_16\">\n    <path clip-path=\"url(#pfbd7608190)\" d=\"M 186.465625 333.36 \nL 242.265625 333.36 \nL 242.265625 333.36 \nL 186.465625 333.36 \nz\n\" style=\"fill:#d62728;\"/>\n   </g>\n   <g id=\"patch_17\">\n    <path clip-path=\"url(#pfbd7608190)\" d=\"M 298.065625 118.23046 \nL 353.865625 118.23046 \nL 353.865625 115.149847 \nL 298.065625 115.149847 \nz\n\" style=\"fill:#d62728;\"/>\n   </g>\n   <g id=\"patch_18\">\n    <path clip-path=\"url(#pfbd7608190)\" d=\"M 409.665625 332.333129 \nL 465.465625 332.333129 \nL 465.465625 329.252515 \nL 409.665625 329.252515 \nz\n\" style=\"fill:#d62728;\"/>\n   </g>\n   <g id=\"patch_19\">\n    <path clip-path=\"url(#pfbd7608190)\" d=\"M 74.865625 329.76595 \nL 130.665625 329.76595 \nL 130.665625 329.252515 \nL 74.865625 329.252515 \nz\n\" style=\"fill:#9467bd;\"/>\n   </g>\n   <g id=\"patch_20\">\n    <path clip-path=\"url(#pfbd7608190)\" d=\"M 186.465625 333.36 \nL 242.265625 333.36 \nL 242.265625 333.36 \nL 186.465625 333.36 \nz\n\" style=\"fill:#9467bd;\"/>\n   </g>\n   <g id=\"patch_21\">\n    <path clip-path=\"url(#pfbd7608190)\" d=\"M 298.065625 115.149847 \nL 353.865625 115.149847 \nL 353.865625 111.042361 \nL 298.065625 111.042361 \nz\n\" style=\"fill:#9467bd;\"/>\n   </g>\n   <g id=\"patch_22\">\n    <path clip-path=\"url(#pfbd7608190)\" d=\"M 409.665625 333.36 \nL 465.465625 333.36 \nL 465.465625 333.36 \nL 409.665625 333.36 \nz\n\" style=\"fill:#9467bd;\"/>\n   </g>\n   <g id=\"patch_23\">\n    <path clip-path=\"url(#pfbd7608190)\" d=\"M 74.865625 329.252515 \nL 130.665625 329.252515 \nL 130.665625 328.739079 \nL 74.865625 328.739079 \nz\n\" style=\"fill:#8c564b;\"/>\n   </g>\n   <g id=\"patch_24\">\n    <path clip-path=\"url(#pfbd7608190)\" d=\"M 186.465625 333.36 \nL 242.265625 333.36 \nL 242.265625 333.36 \nL 186.465625 333.36 \nz\n\" style=\"fill:#8c564b;\"/>\n   </g>\n   <g id=\"patch_25\">\n    <path clip-path=\"url(#pfbd7608190)\" d=\"M 298.065625 111.042361 \nL 353.865625 111.042361 \nL 353.865625 93.585549 \nL 298.065625 93.585549 \nz\n\" style=\"fill:#8c564b;\"/>\n   </g>\n   <g id=\"patch_26\">\n    <path clip-path=\"url(#pfbd7608190)\" d=\"M 409.665625 333.36 \nL 465.465625 333.36 \nL 465.465625 333.36 \nL 409.665625 333.36 \nz\n\" style=\"fill:#8c564b;\"/>\n   </g>\n   <g id=\"patch_27\">\n    <path clip-path=\"url(#pfbd7608190)\" d=\"M 74.865625 328.739079 \nL 130.665625 328.739079 \nL 130.665625 326.171901 \nL 74.865625 326.171901 \nz\n\" style=\"fill:#e377c2;\"/>\n   </g>\n   <g id=\"patch_28\">\n    <path clip-path=\"url(#pfbd7608190)\" d=\"M 186.465625 330.279386 \nL 242.265625 330.279386 \nL 242.265625 328.739079 \nL 186.465625 328.739079 \nz\n\" style=\"fill:#e377c2;\"/>\n   </g>\n   <g id=\"patch_29\">\n    <path clip-path=\"url(#pfbd7608190)\" d=\"M 298.065625 93.585549 \nL 353.865625 93.585549 \nL 353.865625 66.373459 \nL 298.065625 66.373459 \nz\n\" style=\"fill:#e377c2;\"/>\n   </g>\n   <g id=\"patch_30\">\n    <path clip-path=\"url(#pfbd7608190)\" d=\"M 409.665625 329.252515 \nL 465.465625 329.252515 \nL 465.465625 326.685336 \nL 409.665625 326.685336 \nz\n\" style=\"fill:#e377c2;\"/>\n   </g>\n   <g id=\"patch_31\">\n    <path clip-path=\"url(#pfbd7608190)\" d=\"M 74.865625 333.36 \nL 130.665625 333.36 \nL 130.665625 333.36 \nL 74.865625 333.36 \nz\n\" style=\"fill:#7f7f7f;\"/>\n   </g>\n   <g id=\"patch_32\">\n    <path clip-path=\"url(#pfbd7608190)\" d=\"M 186.465625 333.36 \nL 242.265625 333.36 \nL 242.265625 333.36 \nL 186.465625 333.36 \nz\n\" style=\"fill:#7f7f7f;\"/>\n   </g>\n   <g id=\"patch_33\">\n    <path clip-path=\"url(#pfbd7608190)\" d=\"M 298.065625 66.373459 \nL 353.865625 66.373459 \nL 353.865625 60.725667 \nL 298.065625 60.725667 \nz\n\" style=\"fill:#7f7f7f;\"/>\n   </g>\n   <g id=\"patch_34\">\n    <path clip-path=\"url(#pfbd7608190)\" d=\"M 409.665625 333.36 \nL 465.465625 333.36 \nL 465.465625 333.36 \nL 409.665625 333.36 \nz\n\" style=\"fill:#7f7f7f;\"/>\n   </g>\n   <g id=\"patch_35\">\n    <path clip-path=\"url(#pfbd7608190)\" d=\"M 74.865625 333.36 \nL 130.665625 333.36 \nL 130.665625 333.36 \nL 74.865625 333.36 \nz\n\" style=\"fill:#bcbd22;\"/>\n   </g>\n   <g id=\"patch_36\">\n    <path clip-path=\"url(#pfbd7608190)\" d=\"M 186.465625 333.36 \nL 242.265625 333.36 \nL 242.265625 333.36 \nL 186.465625 333.36 \nz\n\" style=\"fill:#bcbd22;\"/>\n   </g>\n   <g id=\"patch_37\">\n    <path clip-path=\"url(#pfbd7608190)\" d=\"M 298.065625 60.725667 \nL 353.865625 60.725667 \nL 353.865625 58.158489 \nL 298.065625 58.158489 \nz\n\" style=\"fill:#bcbd22;\"/>\n   </g>\n   <g id=\"patch_38\">\n    <path clip-path=\"url(#pfbd7608190)\" d=\"M 409.665625 333.36 \nL 465.465625 333.36 \nL 465.465625 333.36 \nL 409.665625 333.36 \nz\n\" style=\"fill:#bcbd22;\"/>\n   </g>\n   <g id=\"patch_39\">\n    <path clip-path=\"url(#pfbd7608190)\" d=\"M 74.865625 333.36 \nL 130.665625 333.36 \nL 130.665625 333.36 \nL 74.865625 333.36 \nz\n\" style=\"fill:#17becf;\"/>\n   </g>\n   <g id=\"patch_40\">\n    <path clip-path=\"url(#pfbd7608190)\" d=\"M 186.465625 333.36 \nL 242.265625 333.36 \nL 242.265625 333.36 \nL 186.465625 333.36 \nz\n\" style=\"fill:#17becf;\"/>\n   </g>\n   <g id=\"patch_41\">\n    <path clip-path=\"url(#pfbd7608190)\" d=\"M 298.065625 58.158489 \nL 353.865625 58.158489 \nL 353.865625 54.051004 \nL 298.065625 54.051004 \nz\n\" style=\"fill:#17becf;\"/>\n   </g>\n   <g id=\"patch_42\">\n    <path clip-path=\"url(#pfbd7608190)\" d=\"M 409.665625 326.685336 \nL 465.465625 326.685336 \nL 465.465625 326.171901 \nL 409.665625 326.171901 \nz\n\" style=\"fill:#17becf;\"/>\n   </g>\n   <g id=\"patch_43\">\n    <path clip-path=\"url(#pfbd7608190)\" d=\"M 74.865625 326.171901 \nL 130.665625 326.171901 \nL 130.665625 325.658465 \nL 74.865625 325.658465 \nz\n\" style=\"fill:#1f77b4;\"/>\n   </g>\n   <g id=\"patch_44\">\n    <path clip-path=\"url(#pfbd7608190)\" d=\"M 186.465625 333.36 \nL 242.265625 333.36 \nL 242.265625 333.36 \nL 186.465625 333.36 \nz\n\" style=\"fill:#1f77b4;\"/>\n   </g>\n   <g id=\"patch_45\">\n    <path clip-path=\"url(#pfbd7608190)\" d=\"M 298.065625 54.051004 \nL 353.865625 54.051004 \nL 353.865625 48.916647 \nL 298.065625 48.916647 \nz\n\" style=\"fill:#1f77b4;\"/>\n   </g>\n   <g id=\"patch_46\">\n    <path clip-path=\"url(#pfbd7608190)\" d=\"M 409.665625 333.36 \nL 465.465625 333.36 \nL 465.465625 333.36 \nL 409.665625 333.36 \nz\n\" style=\"fill:#1f77b4;\"/>\n   </g>\n   <g id=\"patch_47\">\n    <path clip-path=\"url(#pfbd7608190)\" d=\"M 74.865625 325.658465 \nL 130.665625 325.658465 \nL 130.665625 325.14503 \nL 74.865625 325.14503 \nz\n\" style=\"fill:#ff7f0e;\"/>\n   </g>\n   <g id=\"patch_48\">\n    <path clip-path=\"url(#pfbd7608190)\" d=\"M 186.465625 333.36 \nL 242.265625 333.36 \nL 242.265625 333.36 \nL 186.465625 333.36 \nz\n\" style=\"fill:#ff7f0e;\"/>\n   </g>\n   <g id=\"patch_49\">\n    <path clip-path=\"url(#pfbd7608190)\" d=\"M 298.065625 48.916647 \nL 353.865625 48.916647 \nL 353.865625 22.731429 \nL 298.065625 22.731429 \nz\n\" style=\"fill:#ff7f0e;\"/>\n   </g>\n   <g id=\"patch_50\">\n    <path clip-path=\"url(#pfbd7608190)\" d=\"M 409.665625 326.171901 \nL 465.465625 326.171901 \nL 465.465625 325.658465 \nL 409.665625 325.658465 \nz\n\" style=\"fill:#ff7f0e;\"/>\n   </g>\n   <g id=\"matplotlib.axis_1\">\n    <g id=\"xtick_1\">\n     <g id=\"line2d_1\">\n      <defs>\n       <path d=\"M 0 0 \nL 0 3.5 \n\" id=\"m2aaed3f381\" style=\"stroke:#000000;stroke-width:0.8;\"/>\n      </defs>\n      <g>\n       <use style=\"stroke:#000000;stroke-width:0.8;\" x=\"102.765625\" xlink:href=\"#m2aaed3f381\" y=\"333.36\"/>\n      </g>\n     </g>\n     <g id=\"text_1\">\n      <!-- Endangered -->\n      <g transform=\"translate(105.525 400.719375)rotate(-90)scale(0.1 -0.1)\">\n       <defs>\n        <path d=\"M 628 4666 \nL 3578 4666 \nL 3578 4134 \nL 1259 4134 \nL 1259 2753 \nL 3481 2753 \nL 3481 2222 \nL 1259 2222 \nL 1259 531 \nL 3634 531 \nL 3634 0 \nL 628 0 \nL 628 4666 \nz\n\" id=\"DejaVuSans-45\" transform=\"scale(0.015625)\"/>\n        <path d=\"M 3513 2113 \nL 3513 0 \nL 2938 0 \nL 2938 2094 \nQ 2938 2591 2744 2837 \nQ 2550 3084 2163 3084 \nQ 1697 3084 1428 2787 \nQ 1159 2491 1159 1978 \nL 1159 0 \nL 581 0 \nL 581 3500 \nL 1159 3500 \nL 1159 2956 \nQ 1366 3272 1645 3428 \nQ 1925 3584 2291 3584 \nQ 2894 3584 3203 3211 \nQ 3513 2838 3513 2113 \nz\n\" id=\"DejaVuSans-6e\" transform=\"scale(0.015625)\"/>\n        <path d=\"M 2906 2969 \nL 2906 4863 \nL 3481 4863 \nL 3481 0 \nL 2906 0 \nL 2906 525 \nQ 2725 213 2448 61 \nQ 2172 -91 1784 -91 \nQ 1150 -91 751 415 \nQ 353 922 353 1747 \nQ 353 2572 751 3078 \nQ 1150 3584 1784 3584 \nQ 2172 3584 2448 3432 \nQ 2725 3281 2906 2969 \nz\nM 947 1747 \nQ 947 1113 1208 752 \nQ 1469 391 1925 391 \nQ 2381 391 2643 752 \nQ 2906 1113 2906 1747 \nQ 2906 2381 2643 2742 \nQ 2381 3103 1925 3103 \nQ 1469 3103 1208 2742 \nQ 947 2381 947 1747 \nz\n\" id=\"DejaVuSans-64\" transform=\"scale(0.015625)\"/>\n        <path d=\"M 2194 1759 \nQ 1497 1759 1228 1600 \nQ 959 1441 959 1056 \nQ 959 750 1161 570 \nQ 1363 391 1709 391 \nQ 2188 391 2477 730 \nQ 2766 1069 2766 1631 \nL 2766 1759 \nL 2194 1759 \nz\nM 3341 1997 \nL 3341 0 \nL 2766 0 \nL 2766 531 \nQ 2569 213 2275 61 \nQ 1981 -91 1556 -91 \nQ 1019 -91 701 211 \nQ 384 513 384 1019 \nQ 384 1609 779 1909 \nQ 1175 2209 1959 2209 \nL 2766 2209 \nL 2766 2266 \nQ 2766 2663 2505 2880 \nQ 2244 3097 1772 3097 \nQ 1472 3097 1187 3025 \nQ 903 2953 641 2809 \nL 641 3341 \nQ 956 3463 1253 3523 \nQ 1550 3584 1831 3584 \nQ 2591 3584 2966 3190 \nQ 3341 2797 3341 1997 \nz\n\" id=\"DejaVuSans-61\" transform=\"scale(0.015625)\"/>\n        <path d=\"M 2906 1791 \nQ 2906 2416 2648 2759 \nQ 2391 3103 1925 3103 \nQ 1463 3103 1205 2759 \nQ 947 2416 947 1791 \nQ 947 1169 1205 825 \nQ 1463 481 1925 481 \nQ 2391 481 2648 825 \nQ 2906 1169 2906 1791 \nz\nM 3481 434 \nQ 3481 -459 3084 -895 \nQ 2688 -1331 1869 -1331 \nQ 1566 -1331 1297 -1286 \nQ 1028 -1241 775 -1147 \nL 775 -588 \nQ 1028 -725 1275 -790 \nQ 1522 -856 1778 -856 \nQ 2344 -856 2625 -561 \nQ 2906 -266 2906 331 \nL 2906 616 \nQ 2728 306 2450 153 \nQ 2172 0 1784 0 \nQ 1141 0 747 490 \nQ 353 981 353 1791 \nQ 353 2603 747 3093 \nQ 1141 3584 1784 3584 \nQ 2172 3584 2450 3431 \nQ 2728 3278 2906 2969 \nL 2906 3500 \nL 3481 3500 \nL 3481 434 \nz\n\" id=\"DejaVuSans-67\" transform=\"scale(0.015625)\"/>\n        <path d=\"M 3597 1894 \nL 3597 1613 \nL 953 1613 \nQ 991 1019 1311 708 \nQ 1631 397 2203 397 \nQ 2534 397 2845 478 \nQ 3156 559 3463 722 \nL 3463 178 \nQ 3153 47 2828 -22 \nQ 2503 -91 2169 -91 \nQ 1331 -91 842 396 \nQ 353 884 353 1716 \nQ 353 2575 817 3079 \nQ 1281 3584 2069 3584 \nQ 2775 3584 3186 3129 \nQ 3597 2675 3597 1894 \nz\nM 3022 2063 \nQ 3016 2534 2758 2815 \nQ 2500 3097 2075 3097 \nQ 1594 3097 1305 2825 \nQ 1016 2553 972 2059 \nL 3022 2063 \nz\n\" id=\"DejaVuSans-65\" transform=\"scale(0.015625)\"/>\n        <path d=\"M 2631 2963 \nQ 2534 3019 2420 3045 \nQ 2306 3072 2169 3072 \nQ 1681 3072 1420 2755 \nQ 1159 2438 1159 1844 \nL 1159 0 \nL 581 0 \nL 581 3500 \nL 1159 3500 \nL 1159 2956 \nQ 1341 3275 1631 3429 \nQ 1922 3584 2338 3584 \nQ 2397 3584 2469 3576 \nQ 2541 3569 2628 3553 \nL 2631 2963 \nz\n\" id=\"DejaVuSans-72\" transform=\"scale(0.015625)\"/>\n       </defs>\n       <use xlink:href=\"#DejaVuSans-45\"/>\n       <use x=\"63.183594\" xlink:href=\"#DejaVuSans-6e\"/>\n       <use x=\"126.5625\" xlink:href=\"#DejaVuSans-64\"/>\n       <use x=\"190.039062\" xlink:href=\"#DejaVuSans-61\"/>\n       <use x=\"251.318359\" xlink:href=\"#DejaVuSans-6e\"/>\n       <use x=\"314.697266\" xlink:href=\"#DejaVuSans-67\"/>\n       <use x=\"378.173828\" xlink:href=\"#DejaVuSans-65\"/>\n       <use x=\"439.697266\" xlink:href=\"#DejaVuSans-72\"/>\n       <use x=\"478.560547\" xlink:href=\"#DejaVuSans-65\"/>\n       <use x=\"540.083984\" xlink:href=\"#DejaVuSans-64\"/>\n      </g>\n     </g>\n    </g>\n    <g id=\"xtick_2\">\n     <g id=\"line2d_2\">\n      <g>\n       <use style=\"stroke:#000000;stroke-width:0.8;\" x=\"214.365625\" xlink:href=\"#m2aaed3f381\" y=\"333.36\"/>\n      </g>\n     </g>\n     <g id=\"text_2\">\n      <!-- In Recovery -->\n      <g transform=\"translate(217.125 399.195938)rotate(-90)scale(0.1 -0.1)\">\n       <defs>\n        <path d=\"M 628 4666 \nL 1259 4666 \nL 1259 0 \nL 628 0 \nL 628 4666 \nz\n\" id=\"DejaVuSans-49\" transform=\"scale(0.015625)\"/>\n        <path id=\"DejaVuSans-20\" transform=\"scale(0.015625)\"/>\n        <path d=\"M 2841 2188 \nQ 3044 2119 3236 1894 \nQ 3428 1669 3622 1275 \nL 4263 0 \nL 3584 0 \nL 2988 1197 \nQ 2756 1666 2539 1819 \nQ 2322 1972 1947 1972 \nL 1259 1972 \nL 1259 0 \nL 628 0 \nL 628 4666 \nL 2053 4666 \nQ 2853 4666 3247 4331 \nQ 3641 3997 3641 3322 \nQ 3641 2881 3436 2590 \nQ 3231 2300 2841 2188 \nz\nM 1259 4147 \nL 1259 2491 \nL 2053 2491 \nQ 2509 2491 2742 2702 \nQ 2975 2913 2975 3322 \nQ 2975 3731 2742 3939 \nQ 2509 4147 2053 4147 \nL 1259 4147 \nz\n\" id=\"DejaVuSans-52\" transform=\"scale(0.015625)\"/>\n        <path d=\"M 3122 3366 \nL 3122 2828 \nQ 2878 2963 2633 3030 \nQ 2388 3097 2138 3097 \nQ 1578 3097 1268 2742 \nQ 959 2388 959 1747 \nQ 959 1106 1268 751 \nQ 1578 397 2138 397 \nQ 2388 397 2633 464 \nQ 2878 531 3122 666 \nL 3122 134 \nQ 2881 22 2623 -34 \nQ 2366 -91 2075 -91 \nQ 1284 -91 818 406 \nQ 353 903 353 1747 \nQ 353 2603 823 3093 \nQ 1294 3584 2113 3584 \nQ 2378 3584 2631 3529 \nQ 2884 3475 3122 3366 \nz\n\" id=\"DejaVuSans-63\" transform=\"scale(0.015625)\"/>\n        <path d=\"M 1959 3097 \nQ 1497 3097 1228 2736 \nQ 959 2375 959 1747 \nQ 959 1119 1226 758 \nQ 1494 397 1959 397 \nQ 2419 397 2687 759 \nQ 2956 1122 2956 1747 \nQ 2956 2369 2687 2733 \nQ 2419 3097 1959 3097 \nz\nM 1959 3584 \nQ 2709 3584 3137 3096 \nQ 3566 2609 3566 1747 \nQ 3566 888 3137 398 \nQ 2709 -91 1959 -91 \nQ 1206 -91 779 398 \nQ 353 888 353 1747 \nQ 353 2609 779 3096 \nQ 1206 3584 1959 3584 \nz\n\" id=\"DejaVuSans-6f\" transform=\"scale(0.015625)\"/>\n        <path d=\"M 191 3500 \nL 800 3500 \nL 1894 563 \nL 2988 3500 \nL 3597 3500 \nL 2284 0 \nL 1503 0 \nL 191 3500 \nz\n\" id=\"DejaVuSans-76\" transform=\"scale(0.015625)\"/>\n        <path d=\"M 2059 -325 \nQ 1816 -950 1584 -1140 \nQ 1353 -1331 966 -1331 \nL 506 -1331 \nL 506 -850 \nL 844 -850 \nQ 1081 -850 1212 -737 \nQ 1344 -625 1503 -206 \nL 1606 56 \nL 191 3500 \nL 800 3500 \nL 1894 763 \nL 2988 3500 \nL 3597 3500 \nL 2059 -325 \nz\n\" id=\"DejaVuSans-79\" transform=\"scale(0.015625)\"/>\n       </defs>\n       <use xlink:href=\"#DejaVuSans-49\"/>\n       <use x=\"29.492188\" xlink:href=\"#DejaVuSans-6e\"/>\n       <use x=\"92.871094\" xlink:href=\"#DejaVuSans-20\"/>\n       <use x=\"124.658203\" xlink:href=\"#DejaVuSans-52\"/>\n       <use x=\"189.640625\" xlink:href=\"#DejaVuSans-65\"/>\n       <use x=\"251.164062\" xlink:href=\"#DejaVuSans-63\"/>\n       <use x=\"306.144531\" xlink:href=\"#DejaVuSans-6f\"/>\n       <use x=\"367.326172\" xlink:href=\"#DejaVuSans-76\"/>\n       <use x=\"426.505859\" xlink:href=\"#DejaVuSans-65\"/>\n       <use x=\"488.029297\" xlink:href=\"#DejaVuSans-72\"/>\n       <use x=\"529.142578\" xlink:href=\"#DejaVuSans-79\"/>\n      </g>\n     </g>\n    </g>\n    <g id=\"xtick_3\">\n     <g id=\"line2d_3\">\n      <g>\n       <use style=\"stroke:#000000;stroke-width:0.8;\" x=\"325.965625\" xlink:href=\"#m2aaed3f381\" y=\"333.36\"/>\n      </g>\n     </g>\n     <g id=\"text_3\">\n      <!-- Species of Concern -->\n      <g transform=\"translate(328.725 436.208438)rotate(-90)scale(0.1 -0.1)\">\n       <defs>\n        <path d=\"M 3425 4513 \nL 3425 3897 \nQ 3066 4069 2747 4153 \nQ 2428 4238 2131 4238 \nQ 1616 4238 1336 4038 \nQ 1056 3838 1056 3469 \nQ 1056 3159 1242 3001 \nQ 1428 2844 1947 2747 \nL 2328 2669 \nQ 3034 2534 3370 2195 \nQ 3706 1856 3706 1288 \nQ 3706 609 3251 259 \nQ 2797 -91 1919 -91 \nQ 1588 -91 1214 -16 \nQ 841 59 441 206 \nL 441 856 \nQ 825 641 1194 531 \nQ 1563 422 1919 422 \nQ 2459 422 2753 634 \nQ 3047 847 3047 1241 \nQ 3047 1584 2836 1778 \nQ 2625 1972 2144 2069 \nL 1759 2144 \nQ 1053 2284 737 2584 \nQ 422 2884 422 3419 \nQ 422 4038 858 4394 \nQ 1294 4750 2059 4750 \nQ 2388 4750 2728 4690 \nQ 3069 4631 3425 4513 \nz\n\" id=\"DejaVuSans-53\" transform=\"scale(0.015625)\"/>\n        <path d=\"M 1159 525 \nL 1159 -1331 \nL 581 -1331 \nL 581 3500 \nL 1159 3500 \nL 1159 2969 \nQ 1341 3281 1617 3432 \nQ 1894 3584 2278 3584 \nQ 2916 3584 3314 3078 \nQ 3713 2572 3713 1747 \nQ 3713 922 3314 415 \nQ 2916 -91 2278 -91 \nQ 1894 -91 1617 61 \nQ 1341 213 1159 525 \nz\nM 3116 1747 \nQ 3116 2381 2855 2742 \nQ 2594 3103 2138 3103 \nQ 1681 3103 1420 2742 \nQ 1159 2381 1159 1747 \nQ 1159 1113 1420 752 \nQ 1681 391 2138 391 \nQ 2594 391 2855 752 \nQ 3116 1113 3116 1747 \nz\n\" id=\"DejaVuSans-70\" transform=\"scale(0.015625)\"/>\n        <path d=\"M 603 3500 \nL 1178 3500 \nL 1178 0 \nL 603 0 \nL 603 3500 \nz\nM 603 4863 \nL 1178 4863 \nL 1178 4134 \nL 603 4134 \nL 603 4863 \nz\n\" id=\"DejaVuSans-69\" transform=\"scale(0.015625)\"/>\n        <path d=\"M 2834 3397 \nL 2834 2853 \nQ 2591 2978 2328 3040 \nQ 2066 3103 1784 3103 \nQ 1356 3103 1142 2972 \nQ 928 2841 928 2578 \nQ 928 2378 1081 2264 \nQ 1234 2150 1697 2047 \nL 1894 2003 \nQ 2506 1872 2764 1633 \nQ 3022 1394 3022 966 \nQ 3022 478 2636 193 \nQ 2250 -91 1575 -91 \nQ 1294 -91 989 -36 \nQ 684 19 347 128 \nL 347 722 \nQ 666 556 975 473 \nQ 1284 391 1588 391 \nQ 1994 391 2212 530 \nQ 2431 669 2431 922 \nQ 2431 1156 2273 1281 \nQ 2116 1406 1581 1522 \nL 1381 1569 \nQ 847 1681 609 1914 \nQ 372 2147 372 2553 \nQ 372 3047 722 3315 \nQ 1072 3584 1716 3584 \nQ 2034 3584 2315 3537 \nQ 2597 3491 2834 3397 \nz\n\" id=\"DejaVuSans-73\" transform=\"scale(0.015625)\"/>\n        <path d=\"M 2375 4863 \nL 2375 4384 \nL 1825 4384 \nQ 1516 4384 1395 4259 \nQ 1275 4134 1275 3809 \nL 1275 3500 \nL 2222 3500 \nL 2222 3053 \nL 1275 3053 \nL 1275 0 \nL 697 0 \nL 697 3053 \nL 147 3053 \nL 147 3500 \nL 697 3500 \nL 697 3744 \nQ 697 4328 969 4595 \nQ 1241 4863 1831 4863 \nL 2375 4863 \nz\n\" id=\"DejaVuSans-66\" transform=\"scale(0.015625)\"/>\n        <path d=\"M 4122 4306 \nL 4122 3641 \nQ 3803 3938 3442 4084 \nQ 3081 4231 2675 4231 \nQ 1875 4231 1450 3742 \nQ 1025 3253 1025 2328 \nQ 1025 1406 1450 917 \nQ 1875 428 2675 428 \nQ 3081 428 3442 575 \nQ 3803 722 4122 1019 \nL 4122 359 \nQ 3791 134 3420 21 \nQ 3050 -91 2638 -91 \nQ 1578 -91 968 557 \nQ 359 1206 359 2328 \nQ 359 3453 968 4101 \nQ 1578 4750 2638 4750 \nQ 3056 4750 3426 4639 \nQ 3797 4528 4122 4306 \nz\n\" id=\"DejaVuSans-43\" transform=\"scale(0.015625)\"/>\n       </defs>\n       <use xlink:href=\"#DejaVuSans-53\"/>\n       <use x=\"63.476562\" xlink:href=\"#DejaVuSans-70\"/>\n       <use x=\"126.953125\" xlink:href=\"#DejaVuSans-65\"/>\n       <use x=\"188.476562\" xlink:href=\"#DejaVuSans-63\"/>\n       <use x=\"243.457031\" xlink:href=\"#DejaVuSans-69\"/>\n       <use x=\"271.240234\" xlink:href=\"#DejaVuSans-65\"/>\n       <use x=\"332.763672\" xlink:href=\"#DejaVuSans-73\"/>\n       <use x=\"384.863281\" xlink:href=\"#DejaVuSans-20\"/>\n       <use x=\"416.650391\" xlink:href=\"#DejaVuSans-6f\"/>\n       <use x=\"477.832031\" xlink:href=\"#DejaVuSans-66\"/>\n       <use x=\"513.037109\" xlink:href=\"#DejaVuSans-20\"/>\n       <use x=\"544.824219\" xlink:href=\"#DejaVuSans-43\"/>\n       <use x=\"614.648438\" xlink:href=\"#DejaVuSans-6f\"/>\n       <use x=\"675.830078\" xlink:href=\"#DejaVuSans-6e\"/>\n       <use x=\"739.208984\" xlink:href=\"#DejaVuSans-63\"/>\n       <use x=\"794.189453\" xlink:href=\"#DejaVuSans-65\"/>\n       <use x=\"855.712891\" xlink:href=\"#DejaVuSans-72\"/>\n       <use x=\"895.076172\" xlink:href=\"#DejaVuSans-6e\"/>\n      </g>\n     </g>\n    </g>\n    <g id=\"xtick_4\">\n     <g id=\"line2d_4\">\n      <g>\n       <use style=\"stroke:#000000;stroke-width:0.8;\" x=\"437.565625\" xlink:href=\"#m2aaed3f381\" y=\"333.36\"/>\n      </g>\n     </g>\n     <g id=\"text_4\">\n      <!-- Threatened -->\n      <g transform=\"translate(440.325 397.885)rotate(-90)scale(0.1 -0.1)\">\n       <defs>\n        <path d=\"M -19 4666 \nL 3928 4666 \nL 3928 4134 \nL 2272 4134 \nL 2272 0 \nL 1638 0 \nL 1638 4134 \nL -19 4134 \nL -19 4666 \nz\n\" id=\"DejaVuSans-54\" transform=\"scale(0.015625)\"/>\n        <path d=\"M 3513 2113 \nL 3513 0 \nL 2938 0 \nL 2938 2094 \nQ 2938 2591 2744 2837 \nQ 2550 3084 2163 3084 \nQ 1697 3084 1428 2787 \nQ 1159 2491 1159 1978 \nL 1159 0 \nL 581 0 \nL 581 4863 \nL 1159 4863 \nL 1159 2956 \nQ 1366 3272 1645 3428 \nQ 1925 3584 2291 3584 \nQ 2894 3584 3203 3211 \nQ 3513 2838 3513 2113 \nz\n\" id=\"DejaVuSans-68\" transform=\"scale(0.015625)\"/>\n        <path d=\"M 1172 4494 \nL 1172 3500 \nL 2356 3500 \nL 2356 3053 \nL 1172 3053 \nL 1172 1153 \nQ 1172 725 1289 603 \nQ 1406 481 1766 481 \nL 2356 481 \nL 2356 0 \nL 1766 0 \nQ 1100 0 847 248 \nQ 594 497 594 1153 \nL 594 3053 \nL 172 3053 \nL 172 3500 \nL 594 3500 \nL 594 4494 \nL 1172 4494 \nz\n\" id=\"DejaVuSans-74\" transform=\"scale(0.015625)\"/>\n       </defs>\n       <use xlink:href=\"#DejaVuSans-54\"/>\n       <use x=\"61.083984\" xlink:href=\"#DejaVuSans-68\"/>\n       <use x=\"124.462891\" xlink:href=\"#DejaVuSans-72\"/>\n       <use x=\"163.326172\" xlink:href=\"#DejaVuSans-65\"/>\n       <use x=\"224.849609\" xlink:href=\"#DejaVuSans-61\"/>\n       <use x=\"286.128906\" xlink:href=\"#DejaVuSans-74\"/>\n       <use x=\"325.337891\" xlink:href=\"#DejaVuSans-65\"/>\n       <use x=\"386.861328\" xlink:href=\"#DejaVuSans-6e\"/>\n       <use x=\"450.240234\" xlink:href=\"#DejaVuSans-65\"/>\n       <use x=\"511.763672\" xlink:href=\"#DejaVuSans-64\"/>\n      </g>\n     </g>\n    </g>\n    <g id=\"text_5\">\n     <!-- Conservation Status -->\n     <g transform=\"translate(219.5875 447.806875)scale(0.1 -0.1)\">\n      <defs>\n       <path d=\"M 544 1381 \nL 544 3500 \nL 1119 3500 \nL 1119 1403 \nQ 1119 906 1312 657 \nQ 1506 409 1894 409 \nQ 2359 409 2629 706 \nQ 2900 1003 2900 1516 \nL 2900 3500 \nL 3475 3500 \nL 3475 0 \nL 2900 0 \nL 2900 538 \nQ 2691 219 2414 64 \nQ 2138 -91 1772 -91 \nQ 1169 -91 856 284 \nQ 544 659 544 1381 \nz\nM 1991 3584 \nL 1991 3584 \nz\n\" id=\"DejaVuSans-75\" transform=\"scale(0.015625)\"/>\n      </defs>\n      <use xlink:href=\"#DejaVuSans-43\"/>\n      <use x=\"69.824219\" xlink:href=\"#DejaVuSans-6f\"/>\n      <use x=\"131.005859\" xlink:href=\"#DejaVuSans-6e\"/>\n      <use x=\"194.384766\" xlink:href=\"#DejaVuSans-73\"/>\n      <use x=\"246.484375\" xlink:href=\"#DejaVuSans-65\"/>\n      <use x=\"308.007812\" xlink:href=\"#DejaVuSans-72\"/>\n      <use x=\"349.121094\" xlink:href=\"#DejaVuSans-76\"/>\n      <use x=\"408.300781\" xlink:href=\"#DejaVuSans-61\"/>\n      <use x=\"469.580078\" xlink:href=\"#DejaVuSans-74\"/>\n      <use x=\"508.789062\" xlink:href=\"#DejaVuSans-69\"/>\n      <use x=\"536.572266\" xlink:href=\"#DejaVuSans-6f\"/>\n      <use x=\"597.753906\" xlink:href=\"#DejaVuSans-6e\"/>\n      <use x=\"661.132812\" xlink:href=\"#DejaVuSans-20\"/>\n      <use x=\"692.919922\" xlink:href=\"#DejaVuSans-53\"/>\n      <use x=\"756.396484\" xlink:href=\"#DejaVuSans-74\"/>\n      <use x=\"795.605469\" xlink:href=\"#DejaVuSans-61\"/>\n      <use x=\"856.884766\" xlink:href=\"#DejaVuSans-74\"/>\n      <use x=\"896.09375\" xlink:href=\"#DejaVuSans-75\"/>\n      <use x=\"959.472656\" xlink:href=\"#DejaVuSans-73\"/>\n     </g>\n    </g>\n   </g>\n   <g id=\"matplotlib.axis_2\">\n    <g id=\"ytick_1\">\n     <g id=\"line2d_5\">\n      <defs>\n       <path d=\"M 0 0 \nL -3.5 0 \n\" id=\"md8be836512\" style=\"stroke:#000000;stroke-width:0.8;\"/>\n      </defs>\n      <g>\n       <use style=\"stroke:#000000;stroke-width:0.8;\" x=\"46.965625\" xlink:href=\"#md8be836512\" y=\"333.36\"/>\n      </g>\n     </g>\n     <g id=\"text_6\">\n      <!-- 0 -->\n      <g transform=\"translate(33.603125 337.159219)scale(0.1 -0.1)\">\n       <defs>\n        <path d=\"M 2034 4250 \nQ 1547 4250 1301 3770 \nQ 1056 3291 1056 2328 \nQ 1056 1369 1301 889 \nQ 1547 409 2034 409 \nQ 2525 409 2770 889 \nQ 3016 1369 3016 2328 \nQ 3016 3291 2770 3770 \nQ 2525 4250 2034 4250 \nz\nM 2034 4750 \nQ 2819 4750 3233 4129 \nQ 3647 3509 3647 2328 \nQ 3647 1150 3233 529 \nQ 2819 -91 2034 -91 \nQ 1250 -91 836 529 \nQ 422 1150 422 2328 \nQ 422 3509 836 4129 \nQ 1250 4750 2034 4750 \nz\n\" id=\"DejaVuSans-30\" transform=\"scale(0.015625)\"/>\n       </defs>\n       <use xlink:href=\"#DejaVuSans-30\"/>\n      </g>\n     </g>\n    </g>\n    <g id=\"ytick_2\">\n     <g id=\"line2d_6\">\n      <g>\n       <use style=\"stroke:#000000;stroke-width:0.8;\" x=\"46.965625\" xlink:href=\"#md8be836512\" y=\"282.016434\"/>\n      </g>\n     </g>\n     <g id=\"text_7\">\n      <!-- 100 -->\n      <g transform=\"translate(20.878125 285.815653)scale(0.1 -0.1)\">\n       <defs>\n        <path d=\"M 794 531 \nL 1825 531 \nL 1825 4091 \nL 703 3866 \nL 703 4441 \nL 1819 4666 \nL 2450 4666 \nL 2450 531 \nL 3481 531 \nL 3481 0 \nL 794 0 \nL 794 531 \nz\n\" id=\"DejaVuSans-31\" transform=\"scale(0.015625)\"/>\n       </defs>\n       <use xlink:href=\"#DejaVuSans-31\"/>\n       <use x=\"63.623047\" xlink:href=\"#DejaVuSans-30\"/>\n       <use x=\"127.246094\" xlink:href=\"#DejaVuSans-30\"/>\n      </g>\n     </g>\n    </g>\n    <g id=\"ytick_3\">\n     <g id=\"line2d_7\">\n      <g>\n       <use style=\"stroke:#000000;stroke-width:0.8;\" x=\"46.965625\" xlink:href=\"#md8be836512\" y=\"230.672869\"/>\n      </g>\n     </g>\n     <g id=\"text_8\">\n      <!-- 200 -->\n      <g transform=\"translate(20.878125 234.472088)scale(0.1 -0.1)\">\n       <defs>\n        <path d=\"M 1228 531 \nL 3431 531 \nL 3431 0 \nL 469 0 \nL 469 531 \nQ 828 903 1448 1529 \nQ 2069 2156 2228 2338 \nQ 2531 2678 2651 2914 \nQ 2772 3150 2772 3378 \nQ 2772 3750 2511 3984 \nQ 2250 4219 1831 4219 \nQ 1534 4219 1204 4116 \nQ 875 4013 500 3803 \nL 500 4441 \nQ 881 4594 1212 4672 \nQ 1544 4750 1819 4750 \nQ 2544 4750 2975 4387 \nQ 3406 4025 3406 3419 \nQ 3406 3131 3298 2873 \nQ 3191 2616 2906 2266 \nQ 2828 2175 2409 1742 \nQ 1991 1309 1228 531 \nz\n\" id=\"DejaVuSans-32\" transform=\"scale(0.015625)\"/>\n       </defs>\n       <use xlink:href=\"#DejaVuSans-32\"/>\n       <use x=\"63.623047\" xlink:href=\"#DejaVuSans-30\"/>\n       <use x=\"127.246094\" xlink:href=\"#DejaVuSans-30\"/>\n      </g>\n     </g>\n    </g>\n    <g id=\"ytick_4\">\n     <g id=\"line2d_8\">\n      <g>\n       <use style=\"stroke:#000000;stroke-width:0.8;\" x=\"46.965625\" xlink:href=\"#md8be836512\" y=\"179.329303\"/>\n      </g>\n     </g>\n     <g id=\"text_9\">\n      <!-- 300 -->\n      <g transform=\"translate(20.878125 183.128522)scale(0.1 -0.1)\">\n       <defs>\n        <path d=\"M 2597 2516 \nQ 3050 2419 3304 2112 \nQ 3559 1806 3559 1356 \nQ 3559 666 3084 287 \nQ 2609 -91 1734 -91 \nQ 1441 -91 1130 -33 \nQ 819 25 488 141 \nL 488 750 \nQ 750 597 1062 519 \nQ 1375 441 1716 441 \nQ 2309 441 2620 675 \nQ 2931 909 2931 1356 \nQ 2931 1769 2642 2001 \nQ 2353 2234 1838 2234 \nL 1294 2234 \nL 1294 2753 \nL 1863 2753 \nQ 2328 2753 2575 2939 \nQ 2822 3125 2822 3475 \nQ 2822 3834 2567 4026 \nQ 2313 4219 1838 4219 \nQ 1578 4219 1281 4162 \nQ 984 4106 628 3988 \nL 628 4550 \nQ 988 4650 1302 4700 \nQ 1616 4750 1894 4750 \nQ 2613 4750 3031 4423 \nQ 3450 4097 3450 3541 \nQ 3450 3153 3228 2886 \nQ 3006 2619 2597 2516 \nz\n\" id=\"DejaVuSans-33\" transform=\"scale(0.015625)\"/>\n       </defs>\n       <use xlink:href=\"#DejaVuSans-33\"/>\n       <use x=\"63.623047\" xlink:href=\"#DejaVuSans-30\"/>\n       <use x=\"127.246094\" xlink:href=\"#DejaVuSans-30\"/>\n      </g>\n     </g>\n    </g>\n    <g id=\"ytick_5\">\n     <g id=\"line2d_9\">\n      <g>\n       <use style=\"stroke:#000000;stroke-width:0.8;\" x=\"46.965625\" xlink:href=\"#md8be836512\" y=\"127.985738\"/>\n      </g>\n     </g>\n     <g id=\"text_10\">\n      <!-- 400 -->\n      <g transform=\"translate(20.878125 131.784957)scale(0.1 -0.1)\">\n       <defs>\n        <path d=\"M 2419 4116 \nL 825 1625 \nL 2419 1625 \nL 2419 4116 \nz\nM 2253 4666 \nL 3047 4666 \nL 3047 1625 \nL 3713 1625 \nL 3713 1100 \nL 3047 1100 \nL 3047 0 \nL 2419 0 \nL 2419 1100 \nL 313 1100 \nL 313 1709 \nL 2253 4666 \nz\n\" id=\"DejaVuSans-34\" transform=\"scale(0.015625)\"/>\n       </defs>\n       <use xlink:href=\"#DejaVuSans-34\"/>\n       <use x=\"63.623047\" xlink:href=\"#DejaVuSans-30\"/>\n       <use x=\"127.246094\" xlink:href=\"#DejaVuSans-30\"/>\n      </g>\n     </g>\n    </g>\n    <g id=\"ytick_6\">\n     <g id=\"line2d_10\">\n      <g>\n       <use style=\"stroke:#000000;stroke-width:0.8;\" x=\"46.965625\" xlink:href=\"#md8be836512\" y=\"76.642172\"/>\n      </g>\n     </g>\n     <g id=\"text_11\">\n      <!-- 500 -->\n      <g transform=\"translate(20.878125 80.441391)scale(0.1 -0.1)\">\n       <defs>\n        <path d=\"M 691 4666 \nL 3169 4666 \nL 3169 4134 \nL 1269 4134 \nL 1269 2991 \nQ 1406 3038 1543 3061 \nQ 1681 3084 1819 3084 \nQ 2600 3084 3056 2656 \nQ 3513 2228 3513 1497 \nQ 3513 744 3044 326 \nQ 2575 -91 1722 -91 \nQ 1428 -91 1123 -41 \nQ 819 9 494 109 \nL 494 744 \nQ 775 591 1075 516 \nQ 1375 441 1709 441 \nQ 2250 441 2565 725 \nQ 2881 1009 2881 1497 \nQ 2881 1984 2565 2268 \nQ 2250 2553 1709 2553 \nQ 1456 2553 1204 2497 \nQ 953 2441 691 2322 \nL 691 4666 \nz\n\" id=\"DejaVuSans-35\" transform=\"scale(0.015625)\"/>\n       </defs>\n       <use xlink:href=\"#DejaVuSans-35\"/>\n       <use x=\"63.623047\" xlink:href=\"#DejaVuSans-30\"/>\n       <use x=\"127.246094\" xlink:href=\"#DejaVuSans-30\"/>\n      </g>\n     </g>\n    </g>\n    <g id=\"ytick_7\">\n     <g id=\"line2d_11\">\n      <g>\n       <use style=\"stroke:#000000;stroke-width:0.8;\" x=\"46.965625\" xlink:href=\"#md8be836512\" y=\"25.298607\"/>\n      </g>\n     </g>\n     <g id=\"text_12\">\n      <!-- 600 -->\n      <g transform=\"translate(20.878125 29.097826)scale(0.1 -0.1)\">\n       <defs>\n        <path d=\"M 2113 2584 \nQ 1688 2584 1439 2293 \nQ 1191 2003 1191 1497 \nQ 1191 994 1439 701 \nQ 1688 409 2113 409 \nQ 2538 409 2786 701 \nQ 3034 994 3034 1497 \nQ 3034 2003 2786 2293 \nQ 2538 2584 2113 2584 \nz\nM 3366 4563 \nL 3366 3988 \nQ 3128 4100 2886 4159 \nQ 2644 4219 2406 4219 \nQ 1781 4219 1451 3797 \nQ 1122 3375 1075 2522 \nQ 1259 2794 1537 2939 \nQ 1816 3084 2150 3084 \nQ 2853 3084 3261 2657 \nQ 3669 2231 3669 1497 \nQ 3669 778 3244 343 \nQ 2819 -91 2113 -91 \nQ 1303 -91 875 529 \nQ 447 1150 447 2328 \nQ 447 3434 972 4092 \nQ 1497 4750 2381 4750 \nQ 2619 4750 2861 4703 \nQ 3103 4656 3366 4563 \nz\n\" id=\"DejaVuSans-36\" transform=\"scale(0.015625)\"/>\n       </defs>\n       <use xlink:href=\"#DejaVuSans-36\"/>\n       <use x=\"63.623047\" xlink:href=\"#DejaVuSans-30\"/>\n       <use x=\"127.246094\" xlink:href=\"#DejaVuSans-30\"/>\n      </g>\n     </g>\n    </g>\n    <g id=\"text_13\">\n     <!-- Number of Species -->\n     <g transform=\"translate(14.798438 217.608125)rotate(-90)scale(0.1 -0.1)\">\n      <defs>\n       <path d=\"M 628 4666 \nL 1478 4666 \nL 3547 763 \nL 3547 4666 \nL 4159 4666 \nL 4159 0 \nL 3309 0 \nL 1241 3903 \nL 1241 0 \nL 628 0 \nL 628 4666 \nz\n\" id=\"DejaVuSans-4e\" transform=\"scale(0.015625)\"/>\n       <path d=\"M 3328 2828 \nQ 3544 3216 3844 3400 \nQ 4144 3584 4550 3584 \nQ 5097 3584 5394 3201 \nQ 5691 2819 5691 2113 \nL 5691 0 \nL 5113 0 \nL 5113 2094 \nQ 5113 2597 4934 2840 \nQ 4756 3084 4391 3084 \nQ 3944 3084 3684 2787 \nQ 3425 2491 3425 1978 \nL 3425 0 \nL 2847 0 \nL 2847 2094 \nQ 2847 2600 2669 2842 \nQ 2491 3084 2119 3084 \nQ 1678 3084 1418 2786 \nQ 1159 2488 1159 1978 \nL 1159 0 \nL 581 0 \nL 581 3500 \nL 1159 3500 \nL 1159 2956 \nQ 1356 3278 1631 3431 \nQ 1906 3584 2284 3584 \nQ 2666 3584 2933 3390 \nQ 3200 3197 3328 2828 \nz\n\" id=\"DejaVuSans-6d\" transform=\"scale(0.015625)\"/>\n       <path d=\"M 3116 1747 \nQ 3116 2381 2855 2742 \nQ 2594 3103 2138 3103 \nQ 1681 3103 1420 2742 \nQ 1159 2381 1159 1747 \nQ 1159 1113 1420 752 \nQ 1681 391 2138 391 \nQ 2594 391 2855 752 \nQ 3116 1113 3116 1747 \nz\nM 1159 2969 \nQ 1341 3281 1617 3432 \nQ 1894 3584 2278 3584 \nQ 2916 3584 3314 3078 \nQ 3713 2572 3713 1747 \nQ 3713 922 3314 415 \nQ 2916 -91 2278 -91 \nQ 1894 -91 1617 61 \nQ 1341 213 1159 525 \nL 1159 0 \nL 581 0 \nL 581 4863 \nL 1159 4863 \nL 1159 2969 \nz\n\" id=\"DejaVuSans-62\" transform=\"scale(0.015625)\"/>\n      </defs>\n      <use xlink:href=\"#DejaVuSans-4e\"/>\n      <use x=\"74.804688\" xlink:href=\"#DejaVuSans-75\"/>\n      <use x=\"138.183594\" xlink:href=\"#DejaVuSans-6d\"/>\n      <use x=\"235.595703\" xlink:href=\"#DejaVuSans-62\"/>\n      <use x=\"299.072266\" xlink:href=\"#DejaVuSans-65\"/>\n      <use x=\"360.595703\" xlink:href=\"#DejaVuSans-72\"/>\n      <use x=\"401.708984\" xlink:href=\"#DejaVuSans-20\"/>\n      <use x=\"433.496094\" xlink:href=\"#DejaVuSans-6f\"/>\n      <use x=\"494.677734\" xlink:href=\"#DejaVuSans-66\"/>\n      <use x=\"529.882812\" xlink:href=\"#DejaVuSans-20\"/>\n      <use x=\"561.669922\" xlink:href=\"#DejaVuSans-53\"/>\n      <use x=\"625.146484\" xlink:href=\"#DejaVuSans-70\"/>\n      <use x=\"688.623047\" xlink:href=\"#DejaVuSans-65\"/>\n      <use x=\"750.146484\" xlink:href=\"#DejaVuSans-63\"/>\n      <use x=\"805.126953\" xlink:href=\"#DejaVuSans-69\"/>\n      <use x=\"832.910156\" xlink:href=\"#DejaVuSans-65\"/>\n      <use x=\"894.433594\" xlink:href=\"#DejaVuSans-73\"/>\n     </g>\n    </g>\n   </g>\n   <g id=\"patch_51\">\n    <path d=\"M 46.965625 333.36 \nL 46.965625 7.2 \n\" style=\"fill:none;stroke:#000000;stroke-linecap:square;stroke-linejoin:miter;stroke-width:0.8;\"/>\n   </g>\n   <g id=\"patch_52\">\n    <path d=\"M 493.365625 333.36 \nL 493.365625 7.2 \n\" style=\"fill:none;stroke:#000000;stroke-linecap:square;stroke-linejoin:miter;stroke-width:0.8;\"/>\n   </g>\n   <g id=\"patch_53\">\n    <path d=\"M 46.965625 333.36 \nL 493.365625 333.36 \n\" style=\"fill:none;stroke:#000000;stroke-linecap:square;stroke-linejoin:miter;stroke-width:0.8;\"/>\n   </g>\n   <g id=\"patch_54\">\n    <path d=\"M 46.965625 7.2 \nL 493.365625 7.2 \n\" style=\"fill:none;stroke:#000000;stroke-linecap:square;stroke-linejoin:miter;stroke-width:0.8;\"/>\n   </g>\n   <g id=\"legend_1\">\n    <g id=\"patch_55\">\n     <path d=\"M 53.965625 206.015625 \nL 189.195313 206.015625 \nQ 191.195313 206.015625 191.195313 204.015625 \nL 191.195313 14.2 \nQ 191.195313 12.2 189.195313 12.2 \nL 53.965625 12.2 \nQ 51.965625 12.2 51.965625 14.2 \nL 51.965625 204.015625 \nQ 51.965625 206.015625 53.965625 206.015625 \nz\n\" style=\"fill:#ffffff;opacity:0.8;stroke:#cccccc;stroke-linejoin:miter;\"/>\n    </g>\n    <g id=\"text_14\">\n     <!-- Category -->\n     <g transform=\"translate(98.739844 23.798437)scale(0.1 -0.1)\">\n      <use xlink:href=\"#DejaVuSans-43\"/>\n      <use x=\"69.824219\" xlink:href=\"#DejaVuSans-61\"/>\n      <use x=\"131.103516\" xlink:href=\"#DejaVuSans-74\"/>\n      <use x=\"170.3125\" xlink:href=\"#DejaVuSans-65\"/>\n      <use x=\"231.835938\" xlink:href=\"#DejaVuSans-67\"/>\n      <use x=\"295.3125\" xlink:href=\"#DejaVuSans-6f\"/>\n      <use x=\"356.494141\" xlink:href=\"#DejaVuSans-72\"/>\n      <use x=\"397.607422\" xlink:href=\"#DejaVuSans-79\"/>\n     </g>\n    </g>\n    <g id=\"patch_56\">\n     <path d=\"M 55.965625 38.476562 \nL 75.965625 38.476562 \nL 75.965625 31.476562 \nL 55.965625 31.476562 \nz\n\" style=\"fill:#1f77b4;\"/>\n    </g>\n    <g id=\"text_15\">\n     <!-- Amphibian -->\n     <g transform=\"translate(83.965625 38.476562)scale(0.1 -0.1)\">\n      <defs>\n       <path d=\"M 2188 4044 \nL 1331 1722 \nL 3047 1722 \nL 2188 4044 \nz\nM 1831 4666 \nL 2547 4666 \nL 4325 0 \nL 3669 0 \nL 3244 1197 \nL 1141 1197 \nL 716 0 \nL 50 0 \nL 1831 4666 \nz\n\" id=\"DejaVuSans-41\" transform=\"scale(0.015625)\"/>\n      </defs>\n      <use xlink:href=\"#DejaVuSans-41\"/>\n      <use x=\"68.408203\" xlink:href=\"#DejaVuSans-6d\"/>\n      <use x=\"165.820312\" xlink:href=\"#DejaVuSans-70\"/>\n      <use x=\"229.296875\" xlink:href=\"#DejaVuSans-68\"/>\n      <use x=\"292.675781\" xlink:href=\"#DejaVuSans-69\"/>\n      <use x=\"320.458984\" xlink:href=\"#DejaVuSans-62\"/>\n      <use x=\"383.935547\" xlink:href=\"#DejaVuSans-69\"/>\n      <use x=\"411.71875\" xlink:href=\"#DejaVuSans-61\"/>\n      <use x=\"472.998047\" xlink:href=\"#DejaVuSans-6e\"/>\n     </g>\n    </g>\n    <g id=\"patch_57\">\n     <path d=\"M 55.965625 53.154688 \nL 75.965625 53.154688 \nL 75.965625 46.154688 \nL 55.965625 46.154688 \nz\n\" style=\"fill:#ff7f0e;\"/>\n    </g>\n    <g id=\"text_16\">\n     <!-- Bird -->\n     <g transform=\"translate(83.965625 53.154688)scale(0.1 -0.1)\">\n      <defs>\n       <path d=\"M 1259 2228 \nL 1259 519 \nL 2272 519 \nQ 2781 519 3026 730 \nQ 3272 941 3272 1375 \nQ 3272 1813 3026 2020 \nQ 2781 2228 2272 2228 \nL 1259 2228 \nz\nM 1259 4147 \nL 1259 2741 \nL 2194 2741 \nQ 2656 2741 2882 2914 \nQ 3109 3088 3109 3444 \nQ 3109 3797 2882 3972 \nQ 2656 4147 2194 4147 \nL 1259 4147 \nz\nM 628 4666 \nL 2241 4666 \nQ 2963 4666 3353 4366 \nQ 3744 4066 3744 3513 \nQ 3744 3084 3544 2831 \nQ 3344 2578 2956 2516 \nQ 3422 2416 3680 2098 \nQ 3938 1781 3938 1306 \nQ 3938 681 3513 340 \nQ 3088 0 2303 0 \nL 628 0 \nL 628 4666 \nz\n\" id=\"DejaVuSans-42\" transform=\"scale(0.015625)\"/>\n      </defs>\n      <use xlink:href=\"#DejaVuSans-42\"/>\n      <use x=\"68.603516\" xlink:href=\"#DejaVuSans-69\"/>\n      <use x=\"96.386719\" xlink:href=\"#DejaVuSans-72\"/>\n      <use x=\"135.75\" xlink:href=\"#DejaVuSans-64\"/>\n     </g>\n    </g>\n    <g id=\"patch_58\">\n     <path d=\"M 55.965625 67.832813 \nL 75.965625 67.832813 \nL 75.965625 60.832813 \nL 55.965625 60.832813 \nz\n\" style=\"fill:#2ca02c;\"/>\n    </g>\n    <g id=\"text_17\">\n     <!-- Crab/Lobster/Shrimp -->\n     <g transform=\"translate(83.965625 67.832813)scale(0.1 -0.1)\">\n      <defs>\n       <path d=\"M 1625 4666 \nL 2156 4666 \nL 531 -594 \nL 0 -594 \nL 1625 4666 \nz\n\" id=\"DejaVuSans-2f\" transform=\"scale(0.015625)\"/>\n       <path d=\"M 628 4666 \nL 1259 4666 \nL 1259 531 \nL 3531 531 \nL 3531 0 \nL 628 0 \nL 628 4666 \nz\n\" id=\"DejaVuSans-4c\" transform=\"scale(0.015625)\"/>\n      </defs>\n      <use xlink:href=\"#DejaVuSans-43\"/>\n      <use x=\"69.824219\" xlink:href=\"#DejaVuSans-72\"/>\n      <use x=\"110.9375\" xlink:href=\"#DejaVuSans-61\"/>\n      <use x=\"172.216797\" xlink:href=\"#DejaVuSans-62\"/>\n      <use x=\"235.693359\" xlink:href=\"#DejaVuSans-2f\"/>\n      <use x=\"269.384766\" xlink:href=\"#DejaVuSans-4c\"/>\n      <use x=\"323.347656\" xlink:href=\"#DejaVuSans-6f\"/>\n      <use x=\"384.529297\" xlink:href=\"#DejaVuSans-62\"/>\n      <use x=\"448.005859\" xlink:href=\"#DejaVuSans-73\"/>\n      <use x=\"500.105469\" xlink:href=\"#DejaVuSans-74\"/>\n      <use x=\"539.314453\" xlink:href=\"#DejaVuSans-65\"/>\n      <use x=\"600.837891\" xlink:href=\"#DejaVuSans-72\"/>\n      <use x=\"641.951172\" xlink:href=\"#DejaVuSans-2f\"/>\n      <use x=\"675.642578\" xlink:href=\"#DejaVuSans-53\"/>\n      <use x=\"739.119141\" xlink:href=\"#DejaVuSans-68\"/>\n      <use x=\"802.498047\" xlink:href=\"#DejaVuSans-72\"/>\n      <use x=\"843.611328\" xlink:href=\"#DejaVuSans-69\"/>\n      <use x=\"871.394531\" xlink:href=\"#DejaVuSans-6d\"/>\n      <use x=\"968.806641\" xlink:href=\"#DejaVuSans-70\"/>\n     </g>\n    </g>\n    <g id=\"patch_59\">\n     <path d=\"M 55.965625 82.510938 \nL 75.965625 82.510938 \nL 75.965625 75.510938 \nL 55.965625 75.510938 \nz\n\" style=\"fill:#d62728;\"/>\n    </g>\n    <g id=\"text_18\">\n     <!-- Fish -->\n     <g transform=\"translate(83.965625 82.510938)scale(0.1 -0.1)\">\n      <defs>\n       <path d=\"M 628 4666 \nL 3309 4666 \nL 3309 4134 \nL 1259 4134 \nL 1259 2759 \nL 3109 2759 \nL 3109 2228 \nL 1259 2228 \nL 1259 0 \nL 628 0 \nL 628 4666 \nz\n\" id=\"DejaVuSans-46\" transform=\"scale(0.015625)\"/>\n      </defs>\n      <use xlink:href=\"#DejaVuSans-46\"/>\n      <use x=\"50.269531\" xlink:href=\"#DejaVuSans-69\"/>\n      <use x=\"78.052734\" xlink:href=\"#DejaVuSans-73\"/>\n      <use x=\"130.152344\" xlink:href=\"#DejaVuSans-68\"/>\n     </g>\n    </g>\n    <g id=\"patch_60\">\n     <path d=\"M 55.965625 97.189063 \nL 75.965625 97.189063 \nL 75.965625 90.189063 \nL 55.965625 90.189063 \nz\n\" style=\"fill:#9467bd;\"/>\n    </g>\n    <g id=\"text_19\">\n     <!-- Fungi -->\n     <g transform=\"translate(83.965625 97.189063)scale(0.1 -0.1)\">\n      <use xlink:href=\"#DejaVuSans-46\"/>\n      <use x=\"52.019531\" xlink:href=\"#DejaVuSans-75\"/>\n      <use x=\"115.398438\" xlink:href=\"#DejaVuSans-6e\"/>\n      <use x=\"178.777344\" xlink:href=\"#DejaVuSans-67\"/>\n      <use x=\"242.253906\" xlink:href=\"#DejaVuSans-69\"/>\n     </g>\n    </g>\n    <g id=\"patch_61\">\n     <path d=\"M 55.965625 111.867188 \nL 75.965625 111.867188 \nL 75.965625 104.867188 \nL 55.965625 104.867188 \nz\n\" style=\"fill:#8c564b;\"/>\n    </g>\n    <g id=\"text_20\">\n     <!-- Insect -->\n     <g transform=\"translate(83.965625 111.867188)scale(0.1 -0.1)\">\n      <use xlink:href=\"#DejaVuSans-49\"/>\n      <use x=\"29.492188\" xlink:href=\"#DejaVuSans-6e\"/>\n      <use x=\"92.871094\" xlink:href=\"#DejaVuSans-73\"/>\n      <use x=\"144.970703\" xlink:href=\"#DejaVuSans-65\"/>\n      <use x=\"206.494141\" xlink:href=\"#DejaVuSans-63\"/>\n      <use x=\"261.474609\" xlink:href=\"#DejaVuSans-74\"/>\n     </g>\n    </g>\n    <g id=\"patch_62\">\n     <path d=\"M 55.965625 126.545313 \nL 75.965625 126.545313 \nL 75.965625 119.545313 \nL 55.965625 119.545313 \nz\n\" style=\"fill:#e377c2;\"/>\n    </g>\n    <g id=\"text_21\">\n     <!-- Mammal -->\n     <g transform=\"translate(83.965625 126.545313)scale(0.1 -0.1)\">\n      <defs>\n       <path d=\"M 628 4666 \nL 1569 4666 \nL 2759 1491 \nL 3956 4666 \nL 4897 4666 \nL 4897 0 \nL 4281 0 \nL 4281 4097 \nL 3078 897 \nL 2444 897 \nL 1241 4097 \nL 1241 0 \nL 628 0 \nL 628 4666 \nz\n\" id=\"DejaVuSans-4d\" transform=\"scale(0.015625)\"/>\n       <path d=\"M 603 4863 \nL 1178 4863 \nL 1178 0 \nL 603 0 \nL 603 4863 \nz\n\" id=\"DejaVuSans-6c\" transform=\"scale(0.015625)\"/>\n      </defs>\n      <use xlink:href=\"#DejaVuSans-4d\"/>\n      <use x=\"86.279297\" xlink:href=\"#DejaVuSans-61\"/>\n      <use x=\"147.558594\" xlink:href=\"#DejaVuSans-6d\"/>\n      <use x=\"244.970703\" xlink:href=\"#DejaVuSans-6d\"/>\n      <use x=\"342.382812\" xlink:href=\"#DejaVuSans-61\"/>\n      <use x=\"403.662109\" xlink:href=\"#DejaVuSans-6c\"/>\n     </g>\n    </g>\n    <g id=\"patch_63\">\n     <path d=\"M 55.965625 141.223437 \nL 75.965625 141.223437 \nL 75.965625 134.223437 \nL 55.965625 134.223437 \nz\n\" style=\"fill:#7f7f7f;\"/>\n    </g>\n    <g id=\"text_22\">\n     <!-- Non-vascular Plant -->\n     <g transform=\"translate(83.965625 141.223437)scale(0.1 -0.1)\">\n      <defs>\n       <path d=\"M 313 2009 \nL 1997 2009 \nL 1997 1497 \nL 313 1497 \nL 313 2009 \nz\n\" id=\"DejaVuSans-2d\" transform=\"scale(0.015625)\"/>\n       <path d=\"M 1259 4147 \nL 1259 2394 \nL 2053 2394 \nQ 2494 2394 2734 2622 \nQ 2975 2850 2975 3272 \nQ 2975 3691 2734 3919 \nQ 2494 4147 2053 4147 \nL 1259 4147 \nz\nM 628 4666 \nL 2053 4666 \nQ 2838 4666 3239 4311 \nQ 3641 3956 3641 3272 \nQ 3641 2581 3239 2228 \nQ 2838 1875 2053 1875 \nL 1259 1875 \nL 1259 0 \nL 628 0 \nL 628 4666 \nz\n\" id=\"DejaVuSans-50\" transform=\"scale(0.015625)\"/>\n      </defs>\n      <use xlink:href=\"#DejaVuSans-4e\"/>\n      <use x=\"74.804688\" xlink:href=\"#DejaVuSans-6f\"/>\n      <use x=\"135.986328\" xlink:href=\"#DejaVuSans-6e\"/>\n      <use x=\"199.365234\" xlink:href=\"#DejaVuSans-2d\"/>\n      <use x=\"232.824219\" xlink:href=\"#DejaVuSans-76\"/>\n      <use x=\"292.003906\" xlink:href=\"#DejaVuSans-61\"/>\n      <use x=\"353.283203\" xlink:href=\"#DejaVuSans-73\"/>\n      <use x=\"405.382812\" xlink:href=\"#DejaVuSans-63\"/>\n      <use x=\"460.363281\" xlink:href=\"#DejaVuSans-75\"/>\n      <use x=\"523.742188\" xlink:href=\"#DejaVuSans-6c\"/>\n      <use x=\"551.525391\" xlink:href=\"#DejaVuSans-61\"/>\n      <use x=\"612.804688\" xlink:href=\"#DejaVuSans-72\"/>\n      <use x=\"653.917969\" xlink:href=\"#DejaVuSans-20\"/>\n      <use x=\"685.705078\" xlink:href=\"#DejaVuSans-50\"/>\n      <use x=\"746.007812\" xlink:href=\"#DejaVuSans-6c\"/>\n      <use x=\"773.791016\" xlink:href=\"#DejaVuSans-61\"/>\n      <use x=\"835.070312\" xlink:href=\"#DejaVuSans-6e\"/>\n      <use x=\"898.449219\" xlink:href=\"#DejaVuSans-74\"/>\n     </g>\n    </g>\n    <g id=\"patch_64\">\n     <path d=\"M 55.965625 155.901563 \nL 75.965625 155.901563 \nL 75.965625 148.901563 \nL 55.965625 148.901563 \nz\n\" style=\"fill:#bcbd22;\"/>\n    </g>\n    <g id=\"text_23\">\n     <!-- Reptile -->\n     <g transform=\"translate(83.965625 155.901563)scale(0.1 -0.1)\">\n      <use xlink:href=\"#DejaVuSans-52\"/>\n      <use x=\"64.982422\" xlink:href=\"#DejaVuSans-65\"/>\n      <use x=\"126.505859\" xlink:href=\"#DejaVuSans-70\"/>\n      <use x=\"189.982422\" xlink:href=\"#DejaVuSans-74\"/>\n      <use x=\"229.191406\" xlink:href=\"#DejaVuSans-69\"/>\n      <use x=\"256.974609\" xlink:href=\"#DejaVuSans-6c\"/>\n      <use x=\"284.757812\" xlink:href=\"#DejaVuSans-65\"/>\n     </g>\n    </g>\n    <g id=\"patch_65\">\n     <path d=\"M 55.965625 170.579687 \nL 75.965625 170.579687 \nL 75.965625 163.579687 \nL 55.965625 163.579687 \nz\n\" style=\"fill:#17becf;\"/>\n    </g>\n    <g id=\"text_24\">\n     <!-- Slug/Snail -->\n     <g transform=\"translate(83.965625 170.579687)scale(0.1 -0.1)\">\n      <use xlink:href=\"#DejaVuSans-53\"/>\n      <use x=\"63.476562\" xlink:href=\"#DejaVuSans-6c\"/>\n      <use x=\"91.259766\" xlink:href=\"#DejaVuSans-75\"/>\n      <use x=\"154.638672\" xlink:href=\"#DejaVuSans-67\"/>\n      <use x=\"218.115234\" xlink:href=\"#DejaVuSans-2f\"/>\n      <use x=\"251.806641\" xlink:href=\"#DejaVuSans-53\"/>\n      <use x=\"315.283203\" xlink:href=\"#DejaVuSans-6e\"/>\n      <use x=\"378.662109\" xlink:href=\"#DejaVuSans-61\"/>\n      <use x=\"439.941406\" xlink:href=\"#DejaVuSans-69\"/>\n      <use x=\"467.724609\" xlink:href=\"#DejaVuSans-6c\"/>\n     </g>\n    </g>\n    <g id=\"patch_66\">\n     <path d=\"M 55.965625 185.257812 \nL 75.965625 185.257812 \nL 75.965625 178.257812 \nL 55.965625 178.257812 \nz\n\" style=\"fill:#1f77b4;\"/>\n    </g>\n    <g id=\"text_25\">\n     <!-- Spider/Scorpion -->\n     <g transform=\"translate(83.965625 185.257812)scale(0.1 -0.1)\">\n      <use xlink:href=\"#DejaVuSans-53\"/>\n      <use x=\"63.476562\" xlink:href=\"#DejaVuSans-70\"/>\n      <use x=\"126.953125\" xlink:href=\"#DejaVuSans-69\"/>\n      <use x=\"154.736328\" xlink:href=\"#DejaVuSans-64\"/>\n      <use x=\"218.212891\" xlink:href=\"#DejaVuSans-65\"/>\n      <use x=\"279.736328\" xlink:href=\"#DejaVuSans-72\"/>\n      <use x=\"320.849609\" xlink:href=\"#DejaVuSans-2f\"/>\n      <use x=\"354.541016\" xlink:href=\"#DejaVuSans-53\"/>\n      <use x=\"418.017578\" xlink:href=\"#DejaVuSans-63\"/>\n      <use x=\"472.998047\" xlink:href=\"#DejaVuSans-6f\"/>\n      <use x=\"534.179688\" xlink:href=\"#DejaVuSans-72\"/>\n      <use x=\"575.292969\" xlink:href=\"#DejaVuSans-70\"/>\n      <use x=\"638.769531\" xlink:href=\"#DejaVuSans-69\"/>\n      <use x=\"666.552734\" xlink:href=\"#DejaVuSans-6f\"/>\n      <use x=\"727.734375\" xlink:href=\"#DejaVuSans-6e\"/>\n     </g>\n    </g>\n    <g id=\"patch_67\">\n     <path d=\"M 55.965625 199.935937 \nL 75.965625 199.935937 \nL 75.965625 192.935937 \nL 55.965625 192.935937 \nz\n\" style=\"fill:#ff7f0e;\"/>\n    </g>\n    <g id=\"text_26\">\n     <!-- Vascular Plant -->\n     <g transform=\"translate(83.965625 199.935937)scale(0.1 -0.1)\">\n      <defs>\n       <path d=\"M 1831 0 \nL 50 4666 \nL 709 4666 \nL 2188 738 \nL 3669 4666 \nL 4325 4666 \nL 2547 0 \nL 1831 0 \nz\n\" id=\"DejaVuSans-56\" transform=\"scale(0.015625)\"/>\n      </defs>\n      <use xlink:href=\"#DejaVuSans-56\"/>\n      <use x=\"60.658203\" xlink:href=\"#DejaVuSans-61\"/>\n      <use x=\"121.9375\" xlink:href=\"#DejaVuSans-73\"/>\n      <use x=\"174.037109\" xlink:href=\"#DejaVuSans-63\"/>\n      <use x=\"229.017578\" xlink:href=\"#DejaVuSans-75\"/>\n      <use x=\"292.396484\" xlink:href=\"#DejaVuSans-6c\"/>\n      <use x=\"320.179688\" xlink:href=\"#DejaVuSans-61\"/>\n      <use x=\"381.458984\" xlink:href=\"#DejaVuSans-72\"/>\n      <use x=\"422.572266\" xlink:href=\"#DejaVuSans-20\"/>\n      <use x=\"454.359375\" xlink:href=\"#DejaVuSans-50\"/>\n      <use x=\"514.662109\" xlink:href=\"#DejaVuSans-6c\"/>\n      <use x=\"542.445312\" xlink:href=\"#DejaVuSans-61\"/>\n      <use x=\"603.724609\" xlink:href=\"#DejaVuSans-6e\"/>\n      <use x=\"667.103516\" xlink:href=\"#DejaVuSans-74\"/>\n     </g>\n    </g>\n   </g>\n  </g>\n </g>\n <defs>\n  <clipPath id=\"pfbd7608190\">\n   <rect height=\"326.16\" width=\"446.4\" x=\"46.965625\" y=\"7.2\"/>\n  </clipPath>\n </defs>\n</svg>\n",
      "image/png": "[encoded data removed]"
     },
     "metadata": {
      "needs_background": "light"
     }
    }
   ],
   "source": [
    "ax = conservationCategory.plot(kind = 'bar', figsize=(8,6), \n",
    "                               stacked=True)\n",
    "ax.set_xlabel(\"Conservation Status\")\n",
    "ax.set_ylabel(\"Number of Species\");"
   ]
  },
  {
   "source": [
    "The next question I wanted to answer was if certain species are more likely to be endangered. To answer the question, first, I created a new column named `Is Protected` which included any species with a value other than `No Intervention`. "
   ],
   "cell_type": "markdown",
   "metadata": {}
  },
  {
   "cell_type": "code",
   "execution_count": 16,
   "metadata": {},
   "outputs": [],
   "source": [
    "df['Is Protected'] = df['Conservation Status'] != 'No Intervention'"
   ]
  },
  {
   "source": [
    "Once I created the new column, I grouped it by `Category` and `Is Protected` to show the breakdown of each species type and protection status. \n",
    "\n",
    "It's easy to see that **Birds**, **Vascular Plants**, and **Mammals** have a higher absolute number of species protected. "
   ],
   "cell_type": "markdown",
   "metadata": {}
  },
  {
   "cell_type": "code",
   "execution_count": 17,
   "metadata": {},
   "outputs": [
    {
     "output_type": "execute_result",
     "data": {
      "text/plain": [
       "                 Category  Not Protected  Protected\n",
       "0               Amphibian           85.0        5.0\n",
       "1                Bacteria          294.0        NaN\n",
       "2                    Bird          304.0      191.0\n",
       "3               Chromista          790.0        NaN\n",
       "4     Crab/Lobster/Shrimp          173.0        3.0\n",
       "5                    Fish          120.0       12.0\n",
       "6                   Fungi         5194.0        9.0\n",
       "7                  Insect        13710.0       35.0\n",
       "8                  Mammal          158.0       36.0\n",
       "9      Non-vascular Plant         1021.0       11.0\n",
       "10  Other Non-vertebrates         1046.0        NaN\n",
       "11               Protozoa          268.0        NaN\n",
       "12                Reptile           89.0        5.0\n",
       "13             Slug/Snail          331.0        9.0\n",
       "14        Spider/Scorpion         4597.0       11.0\n",
       "15         Vascular Plant         5303.0       50.0"
      ],
      "text/html": "<div>\n<style scoped>\n    .dataframe tbody tr th:only-of-type {\n        vertical-align: middle;\n    }\n\n    .dataframe tbody tr th {\n        vertical-align: top;\n    }\n\n    .dataframe thead th {\n        text-align: right;\n    }\n</style>\n<table border=\"1\" class=\"dataframe\">\n  <thead>\n    <tr style=\"text-align: right;\">\n      <th></th>\n      <th>Category</th>\n      <th>Not Protected</th>\n      <th>Protected</th>\n    </tr>\n  </thead>\n  <tbody>\n    <tr>\n      <th>0</th>\n      <td>Amphibian</td>\n      <td>85.0</td>\n      <td>5.0</td>\n    </tr>\n    <tr>\n      <th>1</th>\n      <td>Bacteria</td>\n      <td>294.0</td>\n      <td>NaN</td>\n    </tr>\n    <tr>\n      <th>2</th>\n      <td>Bird</td>\n      <td>304.0</td>\n      <td>191.0</td>\n    </tr>\n    <tr>\n      <th>3</th>\n      <td>Chromista</td>\n      <td>790.0</td>\n      <td>NaN</td>\n    </tr>\n    <tr>\n      <th>4</th>\n      <td>Crab/Lobster/Shrimp</td>\n      <td>173.0</td>\n      <td>3.0</td>\n    </tr>\n    <tr>\n      <th>5</th>\n      <td>Fish</td>\n      <td>120.0</td>\n      <td>12.0</td>\n    </tr>\n    <tr>\n      <th>6</th>\n      <td>Fungi</td>\n      <td>5194.0</td>\n      <td>9.0</td>\n    </tr>\n    <tr>\n      <th>7</th>\n      <td>Insect</td>\n      <td>13710.0</td>\n      <td>35.0</td>\n    </tr>\n    <tr>\n      <th>8</th>\n      <td>Mammal</td>\n      <td>158.0</td>\n      <td>36.0</td>\n    </tr>\n    <tr>\n      <th>9</th>\n      <td>Non-vascular Plant</td>\n      <td>1021.0</td>\n      <td>11.0</td>\n    </tr>\n    <tr>\n      <th>10</th>\n      <td>Other Non-vertebrates</td>\n      <td>1046.0</td>\n      <td>NaN</td>\n    </tr>\n    <tr>\n      <th>11</th>\n      <td>Protozoa</td>\n      <td>268.0</td>\n      <td>NaN</td>\n    </tr>\n    <tr>\n      <th>12</th>\n      <td>Reptile</td>\n      <td>89.0</td>\n      <td>5.0</td>\n    </tr>\n    <tr>\n      <th>13</th>\n      <td>Slug/Snail</td>\n      <td>331.0</td>\n      <td>9.0</td>\n    </tr>\n    <tr>\n      <th>14</th>\n      <td>Spider/Scorpion</td>\n      <td>4597.0</td>\n      <td>11.0</td>\n    </tr>\n    <tr>\n      <th>15</th>\n      <td>Vascular Plant</td>\n      <td>5303.0</td>\n      <td>50.0</td>\n    </tr>\n  </tbody>\n</table>\n</div>"
     },
     "metadata": {},
     "execution_count": 17
    }
   ],
   "source": [
    "category_counts = df.groupby(['Category', 'Is Protected'])\\\n",
    "                        ['Scientific Name'].nunique()\\\n",
    "                        .reset_index()\\\n",
    "                        .pivot(columns='Is Protected',\n",
    "                                      index='Category',\n",
    "                                      values='Scientific Name')\\\n",
    "                        .reset_index()\n",
    "category_counts.columns = ['Category', 'Not Protected', 'Protected']\n",
    "category_counts"
   ]
  },
  {
   "source": [
    "Absolute numbers are not always the most useful statistic. Therefore, it's crucial also to calculate the rate of protection that each `Category` exhibits in the data. From this analysis, one can see that ~19 percent of **mammals** and ~39 percent of **birds** were under guard. "
   ],
   "cell_type": "markdown",
   "metadata": {}
  },
  {
   "cell_type": "code",
   "execution_count": 18,
   "metadata": {},
   "outputs": [
    {
     "output_type": "execute_result",
     "data": {
      "text/plain": [
       "                 Category  Not Protected  Protected  percent_protected\n",
       "0               Amphibian           85.0        5.0           5.555556\n",
       "1                Bacteria          294.0        NaN                NaN\n",
       "2                    Bird          304.0      191.0          38.585859\n",
       "3               Chromista          790.0        NaN                NaN\n",
       "4     Crab/Lobster/Shrimp          173.0        3.0           1.704545\n",
       "5                    Fish          120.0       12.0           9.090909\n",
       "6                   Fungi         5194.0        9.0           0.172977\n",
       "7                  Insect        13710.0       35.0           0.254638\n",
       "8                  Mammal          158.0       36.0          18.556701\n",
       "9      Non-vascular Plant         1021.0       11.0           1.065891\n",
       "10  Other Non-vertebrates         1046.0        NaN                NaN\n",
       "11               Protozoa          268.0        NaN                NaN\n",
       "12                Reptile           89.0        5.0           5.319149\n",
       "13             Slug/Snail          331.0        9.0           2.647059\n",
       "14        Spider/Scorpion         4597.0       11.0           0.238715\n",
       "15         Vascular Plant         5303.0       50.0           0.934056"
      ],
      "text/html": "<div>\n<style scoped>\n    .dataframe tbody tr th:only-of-type {\n        vertical-align: middle;\n    }\n\n    .dataframe tbody tr th {\n        vertical-align: top;\n    }\n\n    .dataframe thead th {\n        text-align: right;\n    }\n</style>\n<table border=\"1\" class=\"dataframe\">\n  <thead>\n    <tr style=\"text-align: right;\">\n      <th></th>\n      <th>Category</th>\n      <th>Not Protected</th>\n      <th>Protected</th>\n      <th>percent_protected</th>\n    </tr>\n  </thead>\n  <tbody>\n    <tr>\n      <th>0</th>\n      <td>Amphibian</td>\n      <td>85.0</td>\n      <td>5.0</td>\n      <td>5.555556</td>\n    </tr>\n    <tr>\n      <th>1</th>\n      <td>Bacteria</td>\n      <td>294.0</td>\n      <td>NaN</td>\n      <td>NaN</td>\n    </tr>\n    <tr>\n      <th>2</th>\n      <td>Bird</td>\n      <td>304.0</td>\n      <td>191.0</td>\n      <td>38.585859</td>\n    </tr>\n    <tr>\n      <th>3</th>\n      <td>Chromista</td>\n      <td>790.0</td>\n      <td>NaN</td>\n      <td>NaN</td>\n    </tr>\n    <tr>\n      <th>4</th>\n      <td>Crab/Lobster/Shrimp</td>\n      <td>173.0</td>\n      <td>3.0</td>\n      <td>1.704545</td>\n    </tr>\n    <tr>\n      <th>5</th>\n      <td>Fish</td>\n      <td>120.0</td>\n      <td>12.0</td>\n      <td>9.090909</td>\n    </tr>\n    <tr>\n      <th>6</th>\n      <td>Fungi</td>\n      <td>5194.0</td>\n      <td>9.0</td>\n      <td>0.172977</td>\n    </tr>\n    <tr>\n      <th>7</th>\n      <td>Insect</td>\n      <td>13710.0</td>\n      <td>35.0</td>\n      <td>0.254638</td>\n    </tr>\n    <tr>\n      <th>8</th>\n      <td>Mammal</td>\n      <td>158.0</td>\n      <td>36.0</td>\n      <td>18.556701</td>\n    </tr>\n    <tr>\n      <th>9</th>\n      <td>Non-vascular Plant</td>\n      <td>1021.0</td>\n      <td>11.0</td>\n      <td>1.065891</td>\n    </tr>\n    <tr>\n      <th>10</th>\n      <td>Other Non-vertebrates</td>\n      <td>1046.0</td>\n      <td>NaN</td>\n      <td>NaN</td>\n    </tr>\n    <tr>\n      <th>11</th>\n      <td>Protozoa</td>\n      <td>268.0</td>\n      <td>NaN</td>\n      <td>NaN</td>\n    </tr>\n    <tr>\n      <th>12</th>\n      <td>Reptile</td>\n      <td>89.0</td>\n      <td>5.0</td>\n      <td>5.319149</td>\n    </tr>\n    <tr>\n      <th>13</th>\n      <td>Slug/Snail</td>\n      <td>331.0</td>\n      <td>9.0</td>\n      <td>2.647059</td>\n    </tr>\n    <tr>\n      <th>14</th>\n      <td>Spider/Scorpion</td>\n      <td>4597.0</td>\n      <td>11.0</td>\n      <td>0.238715</td>\n    </tr>\n    <tr>\n      <th>15</th>\n      <td>Vascular Plant</td>\n      <td>5303.0</td>\n      <td>50.0</td>\n      <td>0.934056</td>\n    </tr>\n  </tbody>\n</table>\n</div>"
     },
     "metadata": {},
     "execution_count": 18
    }
   ],
   "source": [
    "category_counts['percent_protected'] = category_counts['Protected'] / \\\n",
    "                                      (category_counts['Protected'] + category_counts['Not Protected']) * 100\n",
    "category_counts"
   ]
  },
  {
   "source": [
    "#### Statistical Significance\n",
    "\n",
    "I ran a couple of chi-squared tests to see if different species have statistically significant differences in conservation status rates. To start, I created a contingency table. \n",
    "\n",
    "For the first test named `contingency1`, I examined the difference between **Mammals** and **Birds**.\n",
    "\n",
    "The second value (~2.4) is the p-value. The standard p-value to test statistical significance is 0.05. For the value retrieved from this test, the value of 2.4 is much larger than 0.05. There doesn't seem to be any significant relationship between **mammals** and **birds**, i.e., independent variables. "
   ],
   "cell_type": "markdown",
   "metadata": {}
  },
  {
   "cell_type": "code",
   "execution_count": 19,
   "metadata": {},
   "outputs": [
    {
     "output_type": "execute_result",
     "data": {
      "text/plain": [
       "(17.843134063155507,\n",
       " 2.398832418480901e-05,\n",
       " 1,\n",
       " array([[ 78.55163043, 132.44836957],\n",
       "        [195.44836957, 329.55163043]]))"
      ]
     },
     "metadata": {},
     "execution_count": 19
    }
   ],
   "source": [
    "from scipy.stats import chi2_contingency\n",
    "\n",
    "contingency1 = [[53, 158],\n",
    "              [221, 304]]\n",
    "chi2_contingency(contingency1)"
   ]
  },
  {
   "source": [
    "The next pair I tested the difference between was **reptiles** and **mammals**.\n",
    "\n",
    "This time the p-value is ~0.0, which is below the standard threshold of 0.05. Therefore, the difference between **reptiles** and **mammals** is considered statistically significant. **Mammals** have a significantly higher rate of needed protection compared to **reptiles**. "
   ],
   "cell_type": "markdown",
   "metadata": {}
  },
  {
   "cell_type": "code",
   "execution_count": 20,
   "metadata": {},
   "outputs": [
    {
     "output_type": "execute_result",
     "data": {
      "text/plain": [
       "(10.87012078285954,\n",
       " 0.0009772815622185792,\n",
       " 1,\n",
       " array([[ 41.78896104, 169.21103896],\n",
       "        [ 19.21103896,  77.78896104]]))"
      ]
     },
     "metadata": {},
     "execution_count": 20
    }
   ],
   "source": [
    "contingency2 = [[53, 158],\n",
    "               [8, 89]]\n",
    "chi2_contingency(contingency2)"
   ]
  },
  {
   "source": [
    "#### Species in Parks\n",
    "\n",
    "The next set of analyses come from species sighting data.\n",
    "\n",
    "First, I looked at species' `Common Names` to get an idea of the most prevalent animals in the dataset. I split the data up into individual names. "
   ],
   "cell_type": "markdown",
   "metadata": {}
  },
  {
   "cell_type": "code",
   "execution_count": 21,
   "metadata": {},
   "outputs": [
    {
     "output_type": "execute_result",
     "data": {
      "text/plain": [
       "[['Domesticated', 'Cattle'],\n",
       " ['Sheep'],\n",
       " ['Elk'],\n",
       " ['WhiteTailed', 'Deer'],\n",
       " ['Wild', 'Hog'],\n",
       " ['Coyote'],\n",
       " ['Gray', 'Wolf']]"
      ]
     },
     "metadata": {},
     "execution_count": 21
    }
   ],
   "source": [
    "from itertools import chain\n",
    "import string\n",
    "\n",
    "def remove_punctuations(text):\n",
    "    for punctuation in string.punctuation:\n",
    "        text = text.replace(punctuation, '')\n",
    "    return text\n",
    "\n",
    "Common_Names = df[df['Category'] == \"Mammal\"]\\\n",
    "    ['Common Names']\\\n",
    "    .apply(remove_punctuations)\\\n",
    "    .str.split().tolist()\n",
    "\n",
    "Common_Names[76:83]"
   ]
  },
  {
   "source": [
    "Next, II cleaned up duplicate words in each row to not count more than once per species."
   ],
   "cell_type": "markdown",
   "metadata": {}
  },
  {
   "cell_type": "code",
   "execution_count": 22,
   "metadata": {},
   "outputs": [
    {
     "output_type": "execute_result",
     "data": {
      "text/plain": [
       "[['Domesticated', 'Cattle'],\n",
       " ['Sheep'],\n",
       " ['Elk'],\n",
       " ['WhiteTailed', 'Deer'],\n",
       " ['Wild', 'Hog'],\n",
       " ['Coyote'],\n",
       " ['Gray', 'Wolf']]"
      ]
     },
     "metadata": {},
     "execution_count": 22
    }
   ],
   "source": [
    "cleanRows = []\n",
    "\n",
    "for item in Common_Names:\n",
    "    item = list(dict.fromkeys(item))\n",
    "    cleanRows.append(item)\n",
    "    \n",
    "cleanRows[76:83]"
   ]
  },
  {
   "source": [
    "Then, I collapsed the words into one list for easier use."
   ],
   "cell_type": "markdown",
   "metadata": {}
  },
  {
   "cell_type": "code",
   "execution_count": 23,
   "metadata": {},
   "outputs": [
    {
     "output_type": "execute_result",
     "data": {
      "text/plain": [
       "['WhiteTailed',\n",
       " 'Jackrabbit',\n",
       " 'Desert',\n",
       " 'Cottontail',\n",
       " 'Mountain',\n",
       " 'Cottontail',\n",
       " 'American']"
      ]
     },
     "metadata": {},
     "execution_count": 23
    }
   ],
   "source": [
    "res = list(chain.from_iterable(i if isinstance(i, list) else [i] for i in cleanRows))\n",
    "res[76:83]"
   ]
  },
  {
   "source": [
    "At this point, the data was ready to count the number of occurrences of each word. From this analysis, I determined that **bat** occurred the most, 31 times, while **Mouse** came up 29 times."
   ],
   "cell_type": "markdown",
   "metadata": {}
  },
  {
   "cell_type": "code",
   "execution_count": 24,
   "metadata": {},
   "outputs": [
    {
     "output_type": "execute_result",
     "data": {
      "text/plain": [
       "         Word  Count\n",
       "132       Bat     31\n",
       "18      Mouse     29\n",
       "37     Myotis     24\n",
       "169     Shrew     23\n",
       "96       Vole     19\n",
       "35   Squirrel     19\n",
       "53   American     18\n",
       "56   Chipmunk     18\n",
       "36   Northern     15\n",
       "213   Western     15"
      ],
      "text/html": "<div>\n<style scoped>\n    .dataframe tbody tr th:only-of-type {\n        vertical-align: middle;\n    }\n\n    .dataframe tbody tr th {\n        vertical-align: top;\n    }\n\n    .dataframe thead th {\n        text-align: right;\n    }\n</style>\n<table border=\"1\" class=\"dataframe\">\n  <thead>\n    <tr style=\"text-align: right;\">\n      <th></th>\n      <th>Word</th>\n      <th>Count</th>\n    </tr>\n  </thead>\n  <tbody>\n    <tr>\n      <th>132</th>\n      <td>Bat</td>\n      <td>31</td>\n    </tr>\n    <tr>\n      <th>18</th>\n      <td>Mouse</td>\n      <td>29</td>\n    </tr>\n    <tr>\n      <th>37</th>\n      <td>Myotis</td>\n      <td>24</td>\n    </tr>\n    <tr>\n      <th>169</th>\n      <td>Shrew</td>\n      <td>23</td>\n    </tr>\n    <tr>\n      <th>96</th>\n      <td>Vole</td>\n      <td>19</td>\n    </tr>\n    <tr>\n      <th>35</th>\n      <td>Squirrel</td>\n      <td>19</td>\n    </tr>\n    <tr>\n      <th>53</th>\n      <td>American</td>\n      <td>18</td>\n    </tr>\n    <tr>\n      <th>56</th>\n      <td>Chipmunk</td>\n      <td>18</td>\n    </tr>\n    <tr>\n      <th>36</th>\n      <td>Northern</td>\n      <td>15</td>\n    </tr>\n    <tr>\n      <th>213</th>\n      <td>Western</td>\n      <td>15</td>\n    </tr>\n  </tbody>\n</table>\n</div>"
     },
     "metadata": {},
     "execution_count": 24
    }
   ],
   "source": [
    "words_counted = []\n",
    "\n",
    "for i in res:\n",
    "    x = res.count(i)\n",
    "    words_counted.append((i,x))\n",
    "\n",
    "pd.DataFrame(set(words_counted), columns =['Word', 'Count']).sort_values(\"Count\", ascending = False).head(10)"
   ]
  },
  {
   "source": [
    "There are several different scientific names for different types of bats in the data, so I wanted to figure out which rows of species are referring to bats. I created a new column made up of boolean values to check if `is_bat` is `True`."
   ],
   "cell_type": "markdown",
   "metadata": {}
  },
  {
   "cell_type": "code",
   "execution_count": 25,
   "metadata": {},
   "outputs": [
    {
     "output_type": "execute_result",
     "data": {
      "text/plain": [
       "                    Park Name Category           Scientific Name  \\\n",
       "0  Bryce Canyon National Park   Mammal     Antilocapra americana   \n",
       "1  Bryce Canyon National Park   Mammal       Oreamnos americanus   \n",
       "2  Bryce Canyon National Park   Mammal           Ovis canadensis   \n",
       "3  Bryce Canyon National Park   Mammal         Cervus canadensis   \n",
       "4  Bryce Canyon National Park   Mammal       Odocoileus hemionus   \n",
       "5  Bryce Canyon National Park   Mammal             Canis latrans   \n",
       "6  Bryce Canyon National Park   Mammal  Urocyon cinereoargenteus   \n",
       "7  Bryce Canyon National Park   Mammal           Vulpes macrotis   \n",
       "8  Bryce Canyon National Park   Mammal             Vulpes vulpes   \n",
       "9  Bryce Canyon National Park   Mammal           Lynx canadensis   \n",
       "\n",
       "      Common Names     Observations Conservation Status  Is Protected  is_bat  \n",
       "0        Pronghorn  No Intervention     No Intervention         False   False  \n",
       "1    Mountain Goat  No Intervention     No Intervention         False   False  \n",
       "2    Bighorn Sheep  No Intervention  Species of Concern          True   False  \n",
       "3              Elk  No Intervention     No Intervention         False   False  \n",
       "4        Mule Deer  No Intervention     No Intervention         False   False  \n",
       "5           Coyote  No Intervention  Species of Concern          True   False  \n",
       "6  Common Gray Fox  No Intervention     No Intervention         False   False  \n",
       "7          Kit Fox  No Intervention     No Intervention         False   False  \n",
       "8          Red Fox  No Intervention     No Intervention         False   False  \n",
       "9      Canada Lynx              1.0          Threatened          True   False  "
      ],
      "text/html": "<div>\n<style scoped>\n    .dataframe tbody tr th:only-of-type {\n        vertical-align: middle;\n    }\n\n    .dataframe tbody tr th {\n        vertical-align: top;\n    }\n\n    .dataframe thead th {\n        text-align: right;\n    }\n</style>\n<table border=\"1\" class=\"dataframe\">\n  <thead>\n    <tr style=\"text-align: right;\">\n      <th></th>\n      <th>Park Name</th>\n      <th>Category</th>\n      <th>Scientific Name</th>\n      <th>Common Names</th>\n      <th>Observations</th>\n      <th>Conservation Status</th>\n      <th>Is Protected</th>\n      <th>is_bat</th>\n    </tr>\n  </thead>\n  <tbody>\n    <tr>\n      <th>0</th>\n      <td>Bryce Canyon National Park</td>\n      <td>Mammal</td>\n      <td>Antilocapra americana</td>\n      <td>Pronghorn</td>\n      <td>No Intervention</td>\n      <td>No Intervention</td>\n      <td>False</td>\n      <td>False</td>\n    </tr>\n    <tr>\n      <th>1</th>\n      <td>Bryce Canyon National Park</td>\n      <td>Mammal</td>\n      <td>Oreamnos americanus</td>\n      <td>Mountain Goat</td>\n      <td>No Intervention</td>\n      <td>No Intervention</td>\n      <td>False</td>\n      <td>False</td>\n    </tr>\n    <tr>\n      <th>2</th>\n      <td>Bryce Canyon National Park</td>\n      <td>Mammal</td>\n      <td>Ovis canadensis</td>\n      <td>Bighorn Sheep</td>\n      <td>No Intervention</td>\n      <td>Species of Concern</td>\n      <td>True</td>\n      <td>False</td>\n    </tr>\n    <tr>\n      <th>3</th>\n      <td>Bryce Canyon National Park</td>\n      <td>Mammal</td>\n      <td>Cervus canadensis</td>\n      <td>Elk</td>\n      <td>No Intervention</td>\n      <td>No Intervention</td>\n      <td>False</td>\n      <td>False</td>\n    </tr>\n    <tr>\n      <th>4</th>\n      <td>Bryce Canyon National Park</td>\n      <td>Mammal</td>\n      <td>Odocoileus hemionus</td>\n      <td>Mule Deer</td>\n      <td>No Intervention</td>\n      <td>No Intervention</td>\n      <td>False</td>\n      <td>False</td>\n    </tr>\n    <tr>\n      <th>5</th>\n      <td>Bryce Canyon National Park</td>\n      <td>Mammal</td>\n      <td>Canis latrans</td>\n      <td>Coyote</td>\n      <td>No Intervention</td>\n      <td>Species of Concern</td>\n      <td>True</td>\n      <td>False</td>\n    </tr>\n    <tr>\n      <th>6</th>\n      <td>Bryce Canyon National Park</td>\n      <td>Mammal</td>\n      <td>Urocyon cinereoargenteus</td>\n      <td>Common Gray Fox</td>\n      <td>No Intervention</td>\n      <td>No Intervention</td>\n      <td>False</td>\n      <td>False</td>\n    </tr>\n    <tr>\n      <th>7</th>\n      <td>Bryce Canyon National Park</td>\n      <td>Mammal</td>\n      <td>Vulpes macrotis</td>\n      <td>Kit Fox</td>\n      <td>No Intervention</td>\n      <td>No Intervention</td>\n      <td>False</td>\n      <td>False</td>\n    </tr>\n    <tr>\n      <th>8</th>\n      <td>Bryce Canyon National Park</td>\n      <td>Mammal</td>\n      <td>Vulpes vulpes</td>\n      <td>Red Fox</td>\n      <td>No Intervention</td>\n      <td>No Intervention</td>\n      <td>False</td>\n      <td>False</td>\n    </tr>\n    <tr>\n      <th>9</th>\n      <td>Bryce Canyon National Park</td>\n      <td>Mammal</td>\n      <td>Lynx canadensis</td>\n      <td>Canada Lynx</td>\n      <td>1.0</td>\n      <td>Threatened</td>\n      <td>True</td>\n      <td>False</td>\n    </tr>\n  </tbody>\n</table>\n</div>"
     },
     "metadata": {},
     "execution_count": 25
    }
   ],
   "source": [
    "df['is_bat'] = df['Common Names'].str.contains(r\"\\bBat\\b\", regex = True)\n",
    "df.head(10)"
   ]
  },
  {
   "source": [
    "To make the remainder of my analysis less complicated, I set all `No Intervention` values under the `Observations` column to `0` and the type to `float`."
   ],
   "cell_type": "markdown",
   "metadata": {}
  },
  {
   "cell_type": "code",
   "execution_count": 26,
   "metadata": {},
   "outputs": [
    {
     "output_type": "execute_result",
     "data": {
      "text/plain": [
       "                    Park Name Category        Scientific Name   Common Names  \\\n",
       "0  Bryce Canyon National Park   Mammal  Antilocapra americana      Pronghorn   \n",
       "1  Bryce Canyon National Park   Mammal    Oreamnos americanus  Mountain Goat   \n",
       "2  Bryce Canyon National Park   Mammal        Ovis canadensis  Bighorn Sheep   \n",
       "3  Bryce Canyon National Park   Mammal      Cervus canadensis            Elk   \n",
       "4  Bryce Canyon National Park   Mammal    Odocoileus hemionus      Mule Deer   \n",
       "\n",
       "   Observations Conservation Status  Is Protected  is_bat  \n",
       "0           0.0     No Intervention         False   False  \n",
       "1           0.0     No Intervention         False   False  \n",
       "2           0.0  Species of Concern          True   False  \n",
       "3           0.0     No Intervention         False   False  \n",
       "4           0.0     No Intervention         False   False  "
      ],
      "text/html": "<div>\n<style scoped>\n    .dataframe tbody tr th:only-of-type {\n        vertical-align: middle;\n    }\n\n    .dataframe tbody tr th {\n        vertical-align: top;\n    }\n\n    .dataframe thead th {\n        text-align: right;\n    }\n</style>\n<table border=\"1\" class=\"dataframe\">\n  <thead>\n    <tr style=\"text-align: right;\">\n      <th></th>\n      <th>Park Name</th>\n      <th>Category</th>\n      <th>Scientific Name</th>\n      <th>Common Names</th>\n      <th>Observations</th>\n      <th>Conservation Status</th>\n      <th>Is Protected</th>\n      <th>is_bat</th>\n    </tr>\n  </thead>\n  <tbody>\n    <tr>\n      <th>0</th>\n      <td>Bryce Canyon National Park</td>\n      <td>Mammal</td>\n      <td>Antilocapra americana</td>\n      <td>Pronghorn</td>\n      <td>0.0</td>\n      <td>No Intervention</td>\n      <td>False</td>\n      <td>False</td>\n    </tr>\n    <tr>\n      <th>1</th>\n      <td>Bryce Canyon National Park</td>\n      <td>Mammal</td>\n      <td>Oreamnos americanus</td>\n      <td>Mountain Goat</td>\n      <td>0.0</td>\n      <td>No Intervention</td>\n      <td>False</td>\n      <td>False</td>\n    </tr>\n    <tr>\n      <th>2</th>\n      <td>Bryce Canyon National Park</td>\n      <td>Mammal</td>\n      <td>Ovis canadensis</td>\n      <td>Bighorn Sheep</td>\n      <td>0.0</td>\n      <td>Species of Concern</td>\n      <td>True</td>\n      <td>False</td>\n    </tr>\n    <tr>\n      <th>3</th>\n      <td>Bryce Canyon National Park</td>\n      <td>Mammal</td>\n      <td>Cervus canadensis</td>\n      <td>Elk</td>\n      <td>0.0</td>\n      <td>No Intervention</td>\n      <td>False</td>\n      <td>False</td>\n    </tr>\n    <tr>\n      <th>4</th>\n      <td>Bryce Canyon National Park</td>\n      <td>Mammal</td>\n      <td>Odocoileus hemionus</td>\n      <td>Mule Deer</td>\n      <td>0.0</td>\n      <td>No Intervention</td>\n      <td>False</td>\n      <td>False</td>\n    </tr>\n  </tbody>\n</table>\n</div>"
     },
     "metadata": {},
     "execution_count": 26
    }
   ],
   "source": [
    "df.loc[df['Observations'] == 'No Intervention', 'Observations'] = '0'\n",
    "df['Observations'] = df['Observations'].astype(float)\n",
    "df.head()"
   ]
  },
  {
   "source": [
    "Now, here is a subset of the data where `is_bat` is `True`. There are a lot of species of bats and a mix of protected vs. non-protected species. "
   ],
   "cell_type": "markdown",
   "metadata": {}
  },
  {
   "cell_type": "code",
   "execution_count": 27,
   "metadata": {},
   "outputs": [
    {
     "output_type": "execute_result",
     "data": {
      "text/plain": [
       "                                 Park Name Category  \\\n",
       "19              Bryce Canyon National Park   Mammal   \n",
       "20              Bryce Canyon National Park   Mammal   \n",
       "21              Bryce Canyon National Park   Mammal   \n",
       "22              Bryce Canyon National Park   Mammal   \n",
       "23              Bryce Canyon National Park   Mammal   \n",
       "24              Bryce Canyon National Park   Mammal   \n",
       "25              Bryce Canyon National Park   Mammal   \n",
       "26              Bryce Canyon National Park   Mammal   \n",
       "1277   Great Smoky Mountains National Park   Mammal   \n",
       "1279   Great Smoky Mountains National Park   Mammal   \n",
       "1280   Great Smoky Mountains National Park   Mammal   \n",
       "1281   Great Smoky Mountains National Park   Mammal   \n",
       "1282   Great Smoky Mountains National Park   Mammal   \n",
       "1285   Great Smoky Mountains National Park   Mammal   \n",
       "1289   Great Smoky Mountains National Park   Mammal   \n",
       "1290   Great Smoky Mountains National Park   Mammal   \n",
       "22054  Great Smoky Mountains National Park   Insect   \n",
       "29819            Yellowstone National Park   Mammal   \n",
       "29820            Yellowstone National Park   Mammal   \n",
       "29821            Yellowstone National Park   Mammal   \n",
       "29822            Yellowstone National Park   Mammal   \n",
       "29823            Yellowstone National Park   Mammal   \n",
       "29825            Yellowstone National Park   Mammal   \n",
       "33943               Yosemite National Park   Mammal   \n",
       "33944               Yosemite National Park   Mammal   \n",
       "33945               Yosemite National Park   Mammal   \n",
       "33946               Yosemite National Park   Mammal   \n",
       "33947               Yosemite National Park   Mammal   \n",
       "33948               Yosemite National Park   Mammal   \n",
       "33949               Yosemite National Park   Mammal   \n",
       "33950               Yosemite National Park   Mammal   \n",
       "33957               Yosemite National Park   Mammal   \n",
       "\n",
       "                 Scientific Name  \\\n",
       "19          Nyctinomops macrotis   \n",
       "20         Tadarida brasiliensis   \n",
       "21            Antrozous pallidus   \n",
       "22       Corynorhinus townsendii   \n",
       "23              Eptesicus fuscus   \n",
       "24             Euderma maculatum   \n",
       "25        Idionycteris phyllotis   \n",
       "26     Lasionycteris noctivagans   \n",
       "1277    Corynorhinus rafinesquii   \n",
       "1279            Eptesicus fuscus   \n",
       "1280   Lasionycteris noctivagans   \n",
       "1281           Lasiurus borealis   \n",
       "1282          Lasiurus seminolus   \n",
       "1285           Myotis grisescens   \n",
       "1289              Myotis sodalis   \n",
       "1290        Nycticeius humeralis   \n",
       "22054       Myodopsylla insignis   \n",
       "29819         Antrozous pallidus   \n",
       "29820    Corynorhinus townsendii   \n",
       "29821           Eptesicus fuscus   \n",
       "29822          Euderma maculatum   \n",
       "29823  Lasionycteris noctivagans   \n",
       "29825         Myotis ciliolabrum   \n",
       "33943             Eumops perotis   \n",
       "33944      Tadarida brasiliensis   \n",
       "33945         Antrozous pallidus   \n",
       "33946    Corynorhinus townsendii   \n",
       "33947           Eptesicus fuscus   \n",
       "33948          Euderma maculatum   \n",
       "33949  Lasionycteris noctivagans   \n",
       "33950      Lasiurus blossevillii   \n",
       "33957      Parastrellus hesperus   \n",
       "\n",
       "                                            Common Names  Observations  \\\n",
       "19                                   Big Free-Tailed Bat           0.0   \n",
       "20                             Brazilian Free-Tailed Bat           0.0   \n",
       "21                                            Pallid Bat           0.0   \n",
       "22                              Townsend'S Big-Eared Bat           0.0   \n",
       "23                                         Big Brown Bat           0.0   \n",
       "24                                           Spotted Bat           0.0   \n",
       "25                                 Allen'S Big-Eared Bat           0.0   \n",
       "26                                     Silver-Haired Bat           0.0   \n",
       "1277                          Rafinesque'S Big-Eared Bat           3.0   \n",
       "1279                                       Big Brown Bat          25.0   \n",
       "1280                                   Silver-Haired Bat           0.0   \n",
       "1281                                     Eastern Red Bat          16.0   \n",
       "1282                                        Seminole Bat           0.0   \n",
       "1285                               Gray Myotis, Gray Bat           0.0   \n",
       "1289                          Indiana Myotis, Social Bat           4.0   \n",
       "1290                                         Evening Bat           0.0   \n",
       "22054                                           Bat Flea           0.0   \n",
       "29819                             Pallid Bat, Pallid Bat           0.0   \n",
       "29820  Mule-Eared Bat, Pacific Townsend'S Big-Eared B...           0.0   \n",
       "29821                       Big Brown Bat, Big Brown Bat           0.0   \n",
       "29822                           Spotted Bat, Spotted Bat           0.0   \n",
       "29823               Silver-Haired Bat, Silver-Haired Bat           1.0   \n",
       "29825  Small-Footed Myotis, Western Small-Footed Bat,...           0.0   \n",
       "33943                                Western Mastiff Bat           1.0   \n",
       "33944                            Mexican Free-Tailed Bat           5.0   \n",
       "33945                             Pallid Bat, Pallid Bat           8.0   \n",
       "33946                           Townsend'S Big-Eared Bat           0.0   \n",
       "33947                                      Big Brown Bat           5.0   \n",
       "33948                           Spotted Bat, Spotted Bat          13.0   \n",
       "33949               Silver-Haired Bat, Silver-Haired Bat           4.0   \n",
       "33950                                    Western Red Bat           1.0   \n",
       "33957                                         Canyon Bat           2.0   \n",
       "\n",
       "      Conservation Status  Is Protected  is_bat  \n",
       "19     Species of Concern          True    True  \n",
       "20        No Intervention         False    True  \n",
       "21     Species of Concern          True    True  \n",
       "22        No Intervention         False    True  \n",
       "23     Species of Concern          True    True  \n",
       "24     Species of Concern          True    True  \n",
       "25     Species of Concern          True    True  \n",
       "26     Species of Concern          True    True  \n",
       "1277      No Intervention         False    True  \n",
       "1279   Species of Concern          True    True  \n",
       "1280   Species of Concern          True    True  \n",
       "1281      No Intervention         False    True  \n",
       "1282      No Intervention         False    True  \n",
       "1285           Endangered          True    True  \n",
       "1289           Endangered          True    True  \n",
       "1290      No Intervention         False    True  \n",
       "22054     No Intervention         False    True  \n",
       "29819  Species of Concern          True    True  \n",
       "29820     No Intervention         False    True  \n",
       "29821  Species of Concern          True    True  \n",
       "29822  Species of Concern          True    True  \n",
       "29823  Species of Concern          True    True  \n",
       "29825     No Intervention         False    True  \n",
       "33943     No Intervention         False    True  \n",
       "33944     No Intervention         False    True  \n",
       "33945  Species of Concern          True    True  \n",
       "33946     No Intervention         False    True  \n",
       "33947  Species of Concern          True    True  \n",
       "33948  Species of Concern          True    True  \n",
       "33949  Species of Concern          True    True  \n",
       "33950  Species of Concern          True    True  \n",
       "33957  Species of Concern          True    True  "
      ],
      "text/html": "<div>\n<style scoped>\n    .dataframe tbody tr th:only-of-type {\n        vertical-align: middle;\n    }\n\n    .dataframe tbody tr th {\n        vertical-align: top;\n    }\n\n    .dataframe thead th {\n        text-align: right;\n    }\n</style>\n<table border=\"1\" class=\"dataframe\">\n  <thead>\n    <tr style=\"text-align: right;\">\n      <th></th>\n      <th>Park Name</th>\n      <th>Category</th>\n      <th>Scientific Name</th>\n      <th>Common Names</th>\n      <th>Observations</th>\n      <th>Conservation Status</th>\n      <th>Is Protected</th>\n      <th>is_bat</th>\n    </tr>\n  </thead>\n  <tbody>\n    <tr>\n      <th>19</th>\n      <td>Bryce Canyon National Park</td>\n      <td>Mammal</td>\n      <td>Nyctinomops macrotis</td>\n      <td>Big Free-Tailed Bat</td>\n      <td>0.0</td>\n      <td>Species of Concern</td>\n      <td>True</td>\n      <td>True</td>\n    </tr>\n    <tr>\n      <th>20</th>\n      <td>Bryce Canyon National Park</td>\n      <td>Mammal</td>\n      <td>Tadarida brasiliensis</td>\n      <td>Brazilian Free-Tailed Bat</td>\n      <td>0.0</td>\n      <td>No Intervention</td>\n      <td>False</td>\n      <td>True</td>\n    </tr>\n    <tr>\n      <th>21</th>\n      <td>Bryce Canyon National Park</td>\n      <td>Mammal</td>\n      <td>Antrozous pallidus</td>\n      <td>Pallid Bat</td>\n      <td>0.0</td>\n      <td>Species of Concern</td>\n      <td>True</td>\n      <td>True</td>\n    </tr>\n    <tr>\n      <th>22</th>\n      <td>Bryce Canyon National Park</td>\n      <td>Mammal</td>\n      <td>Corynorhinus townsendii</td>\n      <td>Townsend'S Big-Eared Bat</td>\n      <td>0.0</td>\n      <td>No Intervention</td>\n      <td>False</td>\n      <td>True</td>\n    </tr>\n    <tr>\n      <th>23</th>\n      <td>Bryce Canyon National Park</td>\n      <td>Mammal</td>\n      <td>Eptesicus fuscus</td>\n      <td>Big Brown Bat</td>\n      <td>0.0</td>\n      <td>Species of Concern</td>\n      <td>True</td>\n      <td>True</td>\n    </tr>\n    <tr>\n      <th>24</th>\n      <td>Bryce Canyon National Park</td>\n      <td>Mammal</td>\n      <td>Euderma maculatum</td>\n      <td>Spotted Bat</td>\n      <td>0.0</td>\n      <td>Species of Concern</td>\n      <td>True</td>\n      <td>True</td>\n    </tr>\n    <tr>\n      <th>25</th>\n      <td>Bryce Canyon National Park</td>\n      <td>Mammal</td>\n      <td>Idionycteris phyllotis</td>\n      <td>Allen'S Big-Eared Bat</td>\n      <td>0.0</td>\n      <td>Species of Concern</td>\n      <td>True</td>\n      <td>True</td>\n    </tr>\n    <tr>\n      <th>26</th>\n      <td>Bryce Canyon National Park</td>\n      <td>Mammal</td>\n      <td>Lasionycteris noctivagans</td>\n      <td>Silver-Haired Bat</td>\n      <td>0.0</td>\n      <td>Species of Concern</td>\n      <td>True</td>\n      <td>True</td>\n    </tr>\n    <tr>\n      <th>1277</th>\n      <td>Great Smoky Mountains National Park</td>\n      <td>Mammal</td>\n      <td>Corynorhinus rafinesquii</td>\n      <td>Rafinesque'S Big-Eared Bat</td>\n      <td>3.0</td>\n      <td>No Intervention</td>\n      <td>False</td>\n      <td>True</td>\n    </tr>\n    <tr>\n      <th>1279</th>\n      <td>Great Smoky Mountains National Park</td>\n      <td>Mammal</td>\n      <td>Eptesicus fuscus</td>\n      <td>Big Brown Bat</td>\n      <td>25.0</td>\n      <td>Species of Concern</td>\n      <td>True</td>\n      <td>True</td>\n    </tr>\n    <tr>\n      <th>1280</th>\n      <td>Great Smoky Mountains National Park</td>\n      <td>Mammal</td>\n      <td>Lasionycteris noctivagans</td>\n      <td>Silver-Haired Bat</td>\n      <td>0.0</td>\n      <td>Species of Concern</td>\n      <td>True</td>\n      <td>True</td>\n    </tr>\n    <tr>\n      <th>1281</th>\n      <td>Great Smoky Mountains National Park</td>\n      <td>Mammal</td>\n      <td>Lasiurus borealis</td>\n      <td>Eastern Red Bat</td>\n      <td>16.0</td>\n      <td>No Intervention</td>\n      <td>False</td>\n      <td>True</td>\n    </tr>\n    <tr>\n      <th>1282</th>\n      <td>Great Smoky Mountains National Park</td>\n      <td>Mammal</td>\n      <td>Lasiurus seminolus</td>\n      <td>Seminole Bat</td>\n      <td>0.0</td>\n      <td>No Intervention</td>\n      <td>False</td>\n      <td>True</td>\n    </tr>\n    <tr>\n      <th>1285</th>\n      <td>Great Smoky Mountains National Park</td>\n      <td>Mammal</td>\n      <td>Myotis grisescens</td>\n      <td>Gray Myotis, Gray Bat</td>\n      <td>0.0</td>\n      <td>Endangered</td>\n      <td>True</td>\n      <td>True</td>\n    </tr>\n    <tr>\n      <th>1289</th>\n      <td>Great Smoky Mountains National Park</td>\n      <td>Mammal</td>\n      <td>Myotis sodalis</td>\n      <td>Indiana Myotis, Social Bat</td>\n      <td>4.0</td>\n      <td>Endangered</td>\n      <td>True</td>\n      <td>True</td>\n    </tr>\n    <tr>\n      <th>1290</th>\n      <td>Great Smoky Mountains National Park</td>\n      <td>Mammal</td>\n      <td>Nycticeius humeralis</td>\n      <td>Evening Bat</td>\n      <td>0.0</td>\n      <td>No Intervention</td>\n      <td>False</td>\n      <td>True</td>\n    </tr>\n    <tr>\n      <th>22054</th>\n      <td>Great Smoky Mountains National Park</td>\n      <td>Insect</td>\n      <td>Myodopsylla insignis</td>\n      <td>Bat Flea</td>\n      <td>0.0</td>\n      <td>No Intervention</td>\n      <td>False</td>\n      <td>True</td>\n    </tr>\n    <tr>\n      <th>29819</th>\n      <td>Yellowstone National Park</td>\n      <td>Mammal</td>\n      <td>Antrozous pallidus</td>\n      <td>Pallid Bat, Pallid Bat</td>\n      <td>0.0</td>\n      <td>Species of Concern</td>\n      <td>True</td>\n      <td>True</td>\n    </tr>\n    <tr>\n      <th>29820</th>\n      <td>Yellowstone National Park</td>\n      <td>Mammal</td>\n      <td>Corynorhinus townsendii</td>\n      <td>Mule-Eared Bat, Pacific Townsend'S Big-Eared B...</td>\n      <td>0.0</td>\n      <td>No Intervention</td>\n      <td>False</td>\n      <td>True</td>\n    </tr>\n    <tr>\n      <th>29821</th>\n      <td>Yellowstone National Park</td>\n      <td>Mammal</td>\n      <td>Eptesicus fuscus</td>\n      <td>Big Brown Bat, Big Brown Bat</td>\n      <td>0.0</td>\n      <td>Species of Concern</td>\n      <td>True</td>\n      <td>True</td>\n    </tr>\n    <tr>\n      <th>29822</th>\n      <td>Yellowstone National Park</td>\n      <td>Mammal</td>\n      <td>Euderma maculatum</td>\n      <td>Spotted Bat, Spotted Bat</td>\n      <td>0.0</td>\n      <td>Species of Concern</td>\n      <td>True</td>\n      <td>True</td>\n    </tr>\n    <tr>\n      <th>29823</th>\n      <td>Yellowstone National Park</td>\n      <td>Mammal</td>\n      <td>Lasionycteris noctivagans</td>\n      <td>Silver-Haired Bat, Silver-Haired Bat</td>\n      <td>1.0</td>\n      <td>Species of Concern</td>\n      <td>True</td>\n      <td>True</td>\n    </tr>\n    <tr>\n      <th>29825</th>\n      <td>Yellowstone National Park</td>\n      <td>Mammal</td>\n      <td>Myotis ciliolabrum</td>\n      <td>Small-Footed Myotis, Western Small-Footed Bat,...</td>\n      <td>0.0</td>\n      <td>No Intervention</td>\n      <td>False</td>\n      <td>True</td>\n    </tr>\n    <tr>\n      <th>33943</th>\n      <td>Yosemite National Park</td>\n      <td>Mammal</td>\n      <td>Eumops perotis</td>\n      <td>Western Mastiff Bat</td>\n      <td>1.0</td>\n      <td>No Intervention</td>\n      <td>False</td>\n      <td>True</td>\n    </tr>\n    <tr>\n      <th>33944</th>\n      <td>Yosemite National Park</td>\n      <td>Mammal</td>\n      <td>Tadarida brasiliensis</td>\n      <td>Mexican Free-Tailed Bat</td>\n      <td>5.0</td>\n      <td>No Intervention</td>\n      <td>False</td>\n      <td>True</td>\n    </tr>\n    <tr>\n      <th>33945</th>\n      <td>Yosemite National Park</td>\n      <td>Mammal</td>\n      <td>Antrozous pallidus</td>\n      <td>Pallid Bat, Pallid Bat</td>\n      <td>8.0</td>\n      <td>Species of Concern</td>\n      <td>True</td>\n      <td>True</td>\n    </tr>\n    <tr>\n      <th>33946</th>\n      <td>Yosemite National Park</td>\n      <td>Mammal</td>\n      <td>Corynorhinus townsendii</td>\n      <td>Townsend'S Big-Eared Bat</td>\n      <td>0.0</td>\n      <td>No Intervention</td>\n      <td>False</td>\n      <td>True</td>\n    </tr>\n    <tr>\n      <th>33947</th>\n      <td>Yosemite National Park</td>\n      <td>Mammal</td>\n      <td>Eptesicus fuscus</td>\n      <td>Big Brown Bat</td>\n      <td>5.0</td>\n      <td>Species of Concern</td>\n      <td>True</td>\n      <td>True</td>\n    </tr>\n    <tr>\n      <th>33948</th>\n      <td>Yosemite National Park</td>\n      <td>Mammal</td>\n      <td>Euderma maculatum</td>\n      <td>Spotted Bat, Spotted Bat</td>\n      <td>13.0</td>\n      <td>Species of Concern</td>\n      <td>True</td>\n      <td>True</td>\n    </tr>\n    <tr>\n      <th>33949</th>\n      <td>Yosemite National Park</td>\n      <td>Mammal</td>\n      <td>Lasionycteris noctivagans</td>\n      <td>Silver-Haired Bat, Silver-Haired Bat</td>\n      <td>4.0</td>\n      <td>Species of Concern</td>\n      <td>True</td>\n      <td>True</td>\n    </tr>\n    <tr>\n      <th>33950</th>\n      <td>Yosemite National Park</td>\n      <td>Mammal</td>\n      <td>Lasiurus blossevillii</td>\n      <td>Western Red Bat</td>\n      <td>1.0</td>\n      <td>Species of Concern</td>\n      <td>True</td>\n      <td>True</td>\n    </tr>\n    <tr>\n      <th>33957</th>\n      <td>Yosemite National Park</td>\n      <td>Mammal</td>\n      <td>Parastrellus hesperus</td>\n      <td>Canyon Bat</td>\n      <td>2.0</td>\n      <td>Species of Concern</td>\n      <td>True</td>\n      <td>True</td>\n    </tr>\n  </tbody>\n</table>\n</div>"
     },
     "metadata": {},
     "execution_count": 27
    }
   ],
   "source": [
    "bat_observations = df[df.is_bat]\n",
    "bat_observations"
   ]
  },
  {
   "source": [
    "I wanted to see how many total bat observations (across all species) were made at each national park by workers.  \n",
    "\n",
    "Great Smoky Mountains National Park has the most observations (48), and the Bryce Canyon National Park has none. "
   ],
   "cell_type": "markdown",
   "metadata": {}
  },
  {
   "cell_type": "code",
   "execution_count": 28,
   "metadata": {},
   "outputs": [
    {
     "output_type": "execute_result",
     "data": {
      "text/plain": [
       "                             Park Name  Observations\n",
       "0           Bryce Canyon National Park           0.0\n",
       "1  Great Smoky Mountains National Park          48.0\n",
       "2            Yellowstone National Park           1.0\n",
       "3               Yosemite National Park          39.0"
      ],
      "text/html": "<div>\n<style scoped>\n    .dataframe tbody tr th:only-of-type {\n        vertical-align: middle;\n    }\n\n    .dataframe tbody tr th {\n        vertical-align: top;\n    }\n\n    .dataframe thead th {\n        text-align: right;\n    }\n</style>\n<table border=\"1\" class=\"dataframe\">\n  <thead>\n    <tr style=\"text-align: right;\">\n      <th></th>\n      <th>Park Name</th>\n      <th>Observations</th>\n    </tr>\n  </thead>\n  <tbody>\n    <tr>\n      <th>0</th>\n      <td>Bryce Canyon National Park</td>\n      <td>0.0</td>\n    </tr>\n    <tr>\n      <th>1</th>\n      <td>Great Smoky Mountains National Park</td>\n      <td>48.0</td>\n    </tr>\n    <tr>\n      <th>2</th>\n      <td>Yellowstone National Park</td>\n      <td>1.0</td>\n    </tr>\n    <tr>\n      <th>3</th>\n      <td>Yosemite National Park</td>\n      <td>39.0</td>\n    </tr>\n  </tbody>\n</table>\n</div>"
     },
     "metadata": {},
     "execution_count": 28
    }
   ],
   "source": [
    "bat_observations.groupby('Park Name')['Observations'].sum().reset_index()"
   ]
  },
  {
   "source": [
    "Here, I wanted to see each park broken down by protected bat sightings vs. non-protected bat sightings. Except for Bryce Canyon National Park, every place has more sightings of protected bats—a good sign!"
   ],
   "cell_type": "markdown",
   "metadata": {}
  },
  {
   "cell_type": "code",
   "execution_count": 29,
   "metadata": {},
   "outputs": [
    {
     "output_type": "execute_result",
     "data": {
      "text/plain": [
       "                             Park Name  Is Protected  Observations\n",
       "0           Bryce Canyon National Park         False           0.0\n",
       "1           Bryce Canyon National Park          True           0.0\n",
       "2  Great Smoky Mountains National Park         False          19.0\n",
       "3  Great Smoky Mountains National Park          True          29.0\n",
       "4            Yellowstone National Park         False           0.0\n",
       "5            Yellowstone National Park          True           1.0\n",
       "6               Yosemite National Park         False           6.0\n",
       "7               Yosemite National Park          True          33.0"
      ],
      "text/html": "<div>\n<style scoped>\n    .dataframe tbody tr th:only-of-type {\n        vertical-align: middle;\n    }\n\n    .dataframe tbody tr th {\n        vertical-align: top;\n    }\n\n    .dataframe thead th {\n        text-align: right;\n    }\n</style>\n<table border=\"1\" class=\"dataframe\">\n  <thead>\n    <tr style=\"text-align: right;\">\n      <th></th>\n      <th>Park Name</th>\n      <th>Is Protected</th>\n      <th>Observations</th>\n    </tr>\n  </thead>\n  <tbody>\n    <tr>\n      <th>0</th>\n      <td>Bryce Canyon National Park</td>\n      <td>False</td>\n      <td>0.0</td>\n    </tr>\n    <tr>\n      <th>1</th>\n      <td>Bryce Canyon National Park</td>\n      <td>True</td>\n      <td>0.0</td>\n    </tr>\n    <tr>\n      <th>2</th>\n      <td>Great Smoky Mountains National Park</td>\n      <td>False</td>\n      <td>19.0</td>\n    </tr>\n    <tr>\n      <th>3</th>\n      <td>Great Smoky Mountains National Park</td>\n      <td>True</td>\n      <td>29.0</td>\n    </tr>\n    <tr>\n      <th>4</th>\n      <td>Yellowstone National Park</td>\n      <td>False</td>\n      <td>0.0</td>\n    </tr>\n    <tr>\n      <th>5</th>\n      <td>Yellowstone National Park</td>\n      <td>True</td>\n      <td>1.0</td>\n    </tr>\n    <tr>\n      <th>6</th>\n      <td>Yosemite National Park</td>\n      <td>False</td>\n      <td>6.0</td>\n    </tr>\n    <tr>\n      <th>7</th>\n      <td>Yosemite National Park</td>\n      <td>True</td>\n      <td>33.0</td>\n    </tr>\n  </tbody>\n</table>\n</div>"
     },
     "metadata": {},
     "execution_count": 29
    }
   ],
   "source": [
    "obs_by_park = bat_observations.groupby(['Park Name', 'Is Protected'])['Observations'].sum().reset_index()\n",
    "obs_by_park"
   ]
  },
  {
   "source": [
    "Below is a plot from the output of the last data manipulation. One can see that there are more sightings of protected bats compared to non-protected species. The national parks are doing a great job protecting their bat populations! "
   ],
   "cell_type": "markdown",
   "metadata": {}
  },
  {
   "cell_type": "code",
   "execution_count": 30,
   "metadata": {},
   "outputs": [
    {
     "output_type": "display_data",
     "data": {
      "text/plain": "<Figure size 1152x576 with 1 Axes>",
      "image/svg+xml": "<?xml version=\"1.0\" encoding=\"utf-8\" standalone=\"no\"?>\n<!DOCTYPE svg PUBLIC \"-//W3C//DTD SVG 1.1//EN\"\n  \"http://www.w3.org/Graphics/SVG/1.1/DTD/svg11.dtd\">\n<svg height=\"494.754375pt\" version=\"1.1\" viewBox=\"0 0 940.603125 494.754375\" width=\"940.603125pt\" xmlns=\"http://www.w3.org/2000/svg\" xmlns:xlink=\"http://www.w3.org/1999/xlink\">\n <metadata>\n  <rdf:RDF xmlns:cc=\"http://creativecommons.org/ns#\" xmlns:dc=\"http://purl.org/dc/elements/1.1/\" xmlns:rdf=\"http://www.w3.org/1999/02/22-rdf-syntax-ns#\">\n   <cc:Work>\n    <dc:type rdf:resource=\"http://purl.org/dc/dcmitype/StillImage\"/>\n    <dc:date>2021-06-20T00:41:28.705270</dc:date>\n    <dc:format>image/svg+xml</dc:format>\n    <dc:creator>\n     <cc:Agent>\n      <dc:title>Matplotlib v3.4.2, https://matplotlib.org/</dc:title>\n     </cc:Agent>\n    </dc:creator>\n   </cc:Work>\n  </rdf:RDF>\n </metadata>\n <defs>\n  <style type=\"text/css\">*{stroke-linecap:butt;stroke-linejoin:round;}</style>\n </defs>\n <g id=\"figure_1\">\n  <g id=\"patch_1\">\n   <path d=\"M 0 494.754375 \nL 940.603125 494.754375 \nL 940.603125 0 \nL 0 0 \nz\n\" style=\"fill:none;\"/>\n  </g>\n  <g id=\"axes_1\">\n   <g id=\"patch_2\">\n    <path d=\"M 40.603125 457.198125 \nL 933.403125 457.198125 \nL 933.403125 22.318125 \nL 40.603125 22.318125 \nz\n\" style=\"fill:#ffffff;\"/>\n   </g>\n   <g id=\"patch_3\">\n    <path clip-path=\"url(#pb2c975078c)\" d=\"M 62.923125 457.198125 \nL 152.203125 457.198125 \nL 152.203125 457.198125 \nL 62.923125 457.198125 \nz\n\" style=\"fill:#3274a1;\"/>\n   </g>\n   <g id=\"patch_4\">\n    <path clip-path=\"url(#pb2c975078c)\" d=\"M 286.123125 457.198125 \nL 375.403125 457.198125 \nL 375.403125 218.735787 \nL 286.123125 218.735787 \nz\n\" style=\"fill:#3274a1;\"/>\n   </g>\n   <g id=\"patch_5\">\n    <path clip-path=\"url(#pb2c975078c)\" d=\"M 509.323125 457.198125 \nL 598.603125 457.198125 \nL 598.603125 457.198125 \nL 509.323125 457.198125 \nz\n\" style=\"fill:#3274a1;\"/>\n   </g>\n   <g id=\"patch_6\">\n    <path clip-path=\"url(#pb2c975078c)\" d=\"M 732.523125 457.198125 \nL 821.803125 457.198125 \nL 821.803125 381.894229 \nL 732.523125 381.894229 \nz\n\" style=\"fill:#3274a1;\"/>\n   </g>\n   <g id=\"patch_7\">\n    <path clip-path=\"url(#pb2c975078c)\" d=\"M 152.203125 457.198125 \nL 241.483125 457.198125 \nL 241.483125 457.198125 \nL 152.203125 457.198125 \nz\n\" style=\"fill:#e1812c;\"/>\n   </g>\n   <g id=\"patch_8\">\n    <path clip-path=\"url(#pb2c975078c)\" d=\"M 375.403125 457.198125 \nL 464.683125 457.198125 \nL 464.683125 93.229294 \nL 375.403125 93.229294 \nz\n\" style=\"fill:#e1812c;\"/>\n   </g>\n   <g id=\"patch_9\">\n    <path clip-path=\"url(#pb2c975078c)\" d=\"M 598.603125 457.198125 \nL 687.883125 457.198125 \nL 687.883125 444.647476 \nL 598.603125 444.647476 \nz\n\" style=\"fill:#e1812c;\"/>\n   </g>\n   <g id=\"patch_10\">\n    <path clip-path=\"url(#pb2c975078c)\" d=\"M 821.803125 457.198125 \nL 911.083125 457.198125 \nL 911.083125 43.026696 \nL 821.803125 43.026696 \nz\n\" style=\"fill:#e1812c;\"/>\n   </g>\n   <g id=\"matplotlib.axis_1\">\n    <g id=\"xtick_1\">\n     <g id=\"line2d_1\">\n      <defs>\n       <path d=\"M 0 0 \nL 0 3.5 \n\" id=\"m46437542a3\" style=\"stroke:#000000;stroke-width:0.8;\"/>\n      </defs>\n      <g>\n       <use style=\"stroke:#000000;stroke-width:0.8;\" x=\"152.203125\" xlink:href=\"#m46437542a3\" y=\"457.198125\"/>\n      </g>\n     </g>\n     <g id=\"text_1\">\n      <!-- Bryce Canyon National Park -->\n      <g transform=\"translate(82.613281 471.796562)scale(0.1 -0.1)\">\n       <defs>\n        <path d=\"M 1259 2228 \nL 1259 519 \nL 2272 519 \nQ 2781 519 3026 730 \nQ 3272 941 3272 1375 \nQ 3272 1813 3026 2020 \nQ 2781 2228 2272 2228 \nL 1259 2228 \nz\nM 1259 4147 \nL 1259 2741 \nL 2194 2741 \nQ 2656 2741 2882 2914 \nQ 3109 3088 3109 3444 \nQ 3109 3797 2882 3972 \nQ 2656 4147 2194 4147 \nL 1259 4147 \nz\nM 628 4666 \nL 2241 4666 \nQ 2963 4666 3353 4366 \nQ 3744 4066 3744 3513 \nQ 3744 3084 3544 2831 \nQ 3344 2578 2956 2516 \nQ 3422 2416 3680 2098 \nQ 3938 1781 3938 1306 \nQ 3938 681 3513 340 \nQ 3088 0 2303 0 \nL 628 0 \nL 628 4666 \nz\n\" id=\"DejaVuSans-42\" transform=\"scale(0.015625)\"/>\n        <path d=\"M 2631 2963 \nQ 2534 3019 2420 3045 \nQ 2306 3072 2169 3072 \nQ 1681 3072 1420 2755 \nQ 1159 2438 1159 1844 \nL 1159 0 \nL 581 0 \nL 581 3500 \nL 1159 3500 \nL 1159 2956 \nQ 1341 3275 1631 3429 \nQ 1922 3584 2338 3584 \nQ 2397 3584 2469 3576 \nQ 2541 3569 2628 3553 \nL 2631 2963 \nz\n\" id=\"DejaVuSans-72\" transform=\"scale(0.015625)\"/>\n        <path d=\"M 2059 -325 \nQ 1816 -950 1584 -1140 \nQ 1353 -1331 966 -1331 \nL 506 -1331 \nL 506 -850 \nL 844 -850 \nQ 1081 -850 1212 -737 \nQ 1344 -625 1503 -206 \nL 1606 56 \nL 191 3500 \nL 800 3500 \nL 1894 763 \nL 2988 3500 \nL 3597 3500 \nL 2059 -325 \nz\n\" id=\"DejaVuSans-79\" transform=\"scale(0.015625)\"/>\n        <path d=\"M 3122 3366 \nL 3122 2828 \nQ 2878 2963 2633 3030 \nQ 2388 3097 2138 3097 \nQ 1578 3097 1268 2742 \nQ 959 2388 959 1747 \nQ 959 1106 1268 751 \nQ 1578 397 2138 397 \nQ 2388 397 2633 464 \nQ 2878 531 3122 666 \nL 3122 134 \nQ 2881 22 2623 -34 \nQ 2366 -91 2075 -91 \nQ 1284 -91 818 406 \nQ 353 903 353 1747 \nQ 353 2603 823 3093 \nQ 1294 3584 2113 3584 \nQ 2378 3584 2631 3529 \nQ 2884 3475 3122 3366 \nz\n\" id=\"DejaVuSans-63\" transform=\"scale(0.015625)\"/>\n        <path d=\"M 3597 1894 \nL 3597 1613 \nL 953 1613 \nQ 991 1019 1311 708 \nQ 1631 397 2203 397 \nQ 2534 397 2845 478 \nQ 3156 559 3463 722 \nL 3463 178 \nQ 3153 47 2828 -22 \nQ 2503 -91 2169 -91 \nQ 1331 -91 842 396 \nQ 353 884 353 1716 \nQ 353 2575 817 3079 \nQ 1281 3584 2069 3584 \nQ 2775 3584 3186 3129 \nQ 3597 2675 3597 1894 \nz\nM 3022 2063 \nQ 3016 2534 2758 2815 \nQ 2500 3097 2075 3097 \nQ 1594 3097 1305 2825 \nQ 1016 2553 972 2059 \nL 3022 2063 \nz\n\" id=\"DejaVuSans-65\" transform=\"scale(0.015625)\"/>\n        <path id=\"DejaVuSans-20\" transform=\"scale(0.015625)\"/>\n        <path d=\"M 4122 4306 \nL 4122 3641 \nQ 3803 3938 3442 4084 \nQ 3081 4231 2675 4231 \nQ 1875 4231 1450 3742 \nQ 1025 3253 1025 2328 \nQ 1025 1406 1450 917 \nQ 1875 428 2675 428 \nQ 3081 428 3442 575 \nQ 3803 722 4122 1019 \nL 4122 359 \nQ 3791 134 3420 21 \nQ 3050 -91 2638 -91 \nQ 1578 -91 968 557 \nQ 359 1206 359 2328 \nQ 359 3453 968 4101 \nQ 1578 4750 2638 4750 \nQ 3056 4750 3426 4639 \nQ 3797 4528 4122 4306 \nz\n\" id=\"DejaVuSans-43\" transform=\"scale(0.015625)\"/>\n        <path d=\"M 2194 1759 \nQ 1497 1759 1228 1600 \nQ 959 1441 959 1056 \nQ 959 750 1161 570 \nQ 1363 391 1709 391 \nQ 2188 391 2477 730 \nQ 2766 1069 2766 1631 \nL 2766 1759 \nL 2194 1759 \nz\nM 3341 1997 \nL 3341 0 \nL 2766 0 \nL 2766 531 \nQ 2569 213 2275 61 \nQ 1981 -91 1556 -91 \nQ 1019 -91 701 211 \nQ 384 513 384 1019 \nQ 384 1609 779 1909 \nQ 1175 2209 1959 2209 \nL 2766 2209 \nL 2766 2266 \nQ 2766 2663 2505 2880 \nQ 2244 3097 1772 3097 \nQ 1472 3097 1187 3025 \nQ 903 2953 641 2809 \nL 641 3341 \nQ 956 3463 1253 3523 \nQ 1550 3584 1831 3584 \nQ 2591 3584 2966 3190 \nQ 3341 2797 3341 1997 \nz\n\" id=\"DejaVuSans-61\" transform=\"scale(0.015625)\"/>\n        <path d=\"M 3513 2113 \nL 3513 0 \nL 2938 0 \nL 2938 2094 \nQ 2938 2591 2744 2837 \nQ 2550 3084 2163 3084 \nQ 1697 3084 1428 2787 \nQ 1159 2491 1159 1978 \nL 1159 0 \nL 581 0 \nL 581 3500 \nL 1159 3500 \nL 1159 2956 \nQ 1366 3272 1645 3428 \nQ 1925 3584 2291 3584 \nQ 2894 3584 3203 3211 \nQ 3513 2838 3513 2113 \nz\n\" id=\"DejaVuSans-6e\" transform=\"scale(0.015625)\"/>\n        <path d=\"M 1959 3097 \nQ 1497 3097 1228 2736 \nQ 959 2375 959 1747 \nQ 959 1119 1226 758 \nQ 1494 397 1959 397 \nQ 2419 397 2687 759 \nQ 2956 1122 2956 1747 \nQ 2956 2369 2687 2733 \nQ 2419 3097 1959 3097 \nz\nM 1959 3584 \nQ 2709 3584 3137 3096 \nQ 3566 2609 3566 1747 \nQ 3566 888 3137 398 \nQ 2709 -91 1959 -91 \nQ 1206 -91 779 398 \nQ 353 888 353 1747 \nQ 353 2609 779 3096 \nQ 1206 3584 1959 3584 \nz\n\" id=\"DejaVuSans-6f\" transform=\"scale(0.015625)\"/>\n        <path d=\"M 628 4666 \nL 1478 4666 \nL 3547 763 \nL 3547 4666 \nL 4159 4666 \nL 4159 0 \nL 3309 0 \nL 1241 3903 \nL 1241 0 \nL 628 0 \nL 628 4666 \nz\n\" id=\"DejaVuSans-4e\" transform=\"scale(0.015625)\"/>\n        <path d=\"M 1172 4494 \nL 1172 3500 \nL 2356 3500 \nL 2356 3053 \nL 1172 3053 \nL 1172 1153 \nQ 1172 725 1289 603 \nQ 1406 481 1766 481 \nL 2356 481 \nL 2356 0 \nL 1766 0 \nQ 1100 0 847 248 \nQ 594 497 594 1153 \nL 594 3053 \nL 172 3053 \nL 172 3500 \nL 594 3500 \nL 594 4494 \nL 1172 4494 \nz\n\" id=\"DejaVuSans-74\" transform=\"scale(0.015625)\"/>\n        <path d=\"M 603 3500 \nL 1178 3500 \nL 1178 0 \nL 603 0 \nL 603 3500 \nz\nM 603 4863 \nL 1178 4863 \nL 1178 4134 \nL 603 4134 \nL 603 4863 \nz\n\" id=\"DejaVuSans-69\" transform=\"scale(0.015625)\"/>\n        <path d=\"M 603 4863 \nL 1178 4863 \nL 1178 0 \nL 603 0 \nL 603 4863 \nz\n\" id=\"DejaVuSans-6c\" transform=\"scale(0.015625)\"/>\n        <path d=\"M 1259 4147 \nL 1259 2394 \nL 2053 2394 \nQ 2494 2394 2734 2622 \nQ 2975 2850 2975 3272 \nQ 2975 3691 2734 3919 \nQ 2494 4147 2053 4147 \nL 1259 4147 \nz\nM 628 4666 \nL 2053 4666 \nQ 2838 4666 3239 4311 \nQ 3641 3956 3641 3272 \nQ 3641 2581 3239 2228 \nQ 2838 1875 2053 1875 \nL 1259 1875 \nL 1259 0 \nL 628 0 \nL 628 4666 \nz\n\" id=\"DejaVuSans-50\" transform=\"scale(0.015625)\"/>\n        <path d=\"M 581 4863 \nL 1159 4863 \nL 1159 1991 \nL 2875 3500 \nL 3609 3500 \nL 1753 1863 \nL 3688 0 \nL 2938 0 \nL 1159 1709 \nL 1159 0 \nL 581 0 \nL 581 4863 \nz\n\" id=\"DejaVuSans-6b\" transform=\"scale(0.015625)\"/>\n       </defs>\n       <use xlink:href=\"#DejaVuSans-42\"/>\n       <use x=\"68.603516\" xlink:href=\"#DejaVuSans-72\"/>\n       <use x=\"109.716797\" xlink:href=\"#DejaVuSans-79\"/>\n       <use x=\"168.896484\" xlink:href=\"#DejaVuSans-63\"/>\n       <use x=\"223.876953\" xlink:href=\"#DejaVuSans-65\"/>\n       <use x=\"285.400391\" xlink:href=\"#DejaVuSans-20\"/>\n       <use x=\"317.1875\" xlink:href=\"#DejaVuSans-43\"/>\n       <use x=\"387.011719\" xlink:href=\"#DejaVuSans-61\"/>\n       <use x=\"448.291016\" xlink:href=\"#DejaVuSans-6e\"/>\n       <use x=\"511.669922\" xlink:href=\"#DejaVuSans-79\"/>\n       <use x=\"570.849609\" xlink:href=\"#DejaVuSans-6f\"/>\n       <use x=\"632.03125\" xlink:href=\"#DejaVuSans-6e\"/>\n       <use x=\"695.410156\" xlink:href=\"#DejaVuSans-20\"/>\n       <use x=\"727.197266\" xlink:href=\"#DejaVuSans-4e\"/>\n       <use x=\"802.001953\" xlink:href=\"#DejaVuSans-61\"/>\n       <use x=\"863.28125\" xlink:href=\"#DejaVuSans-74\"/>\n       <use x=\"902.490234\" xlink:href=\"#DejaVuSans-69\"/>\n       <use x=\"930.273438\" xlink:href=\"#DejaVuSans-6f\"/>\n       <use x=\"991.455078\" xlink:href=\"#DejaVuSans-6e\"/>\n       <use x=\"1054.833984\" xlink:href=\"#DejaVuSans-61\"/>\n       <use x=\"1116.113281\" xlink:href=\"#DejaVuSans-6c\"/>\n       <use x=\"1143.896484\" xlink:href=\"#DejaVuSans-20\"/>\n       <use x=\"1175.683594\" xlink:href=\"#DejaVuSans-50\"/>\n       <use x=\"1231.486328\" xlink:href=\"#DejaVuSans-61\"/>\n       <use x=\"1292.765625\" xlink:href=\"#DejaVuSans-72\"/>\n       <use x=\"1333.878906\" xlink:href=\"#DejaVuSans-6b\"/>\n      </g>\n     </g>\n    </g>\n    <g id=\"xtick_2\">\n     <g id=\"line2d_2\">\n      <g>\n       <use style=\"stroke:#000000;stroke-width:0.8;\" x=\"375.403125\" xlink:href=\"#m46437542a3\" y=\"457.198125\"/>\n      </g>\n     </g>\n     <g id=\"text_2\">\n      <!-- Great Smoky Mountains National Park -->\n      <g transform=\"translate(280.814062 471.796562)scale(0.1 -0.1)\">\n       <defs>\n        <path d=\"M 3809 666 \nL 3809 1919 \nL 2778 1919 \nL 2778 2438 \nL 4434 2438 \nL 4434 434 \nQ 4069 175 3628 42 \nQ 3188 -91 2688 -91 \nQ 1594 -91 976 548 \nQ 359 1188 359 2328 \nQ 359 3472 976 4111 \nQ 1594 4750 2688 4750 \nQ 3144 4750 3555 4637 \nQ 3966 4525 4313 4306 \nL 4313 3634 \nQ 3963 3931 3569 4081 \nQ 3175 4231 2741 4231 \nQ 1884 4231 1454 3753 \nQ 1025 3275 1025 2328 \nQ 1025 1384 1454 906 \nQ 1884 428 2741 428 \nQ 3075 428 3337 486 \nQ 3600 544 3809 666 \nz\n\" id=\"DejaVuSans-47\" transform=\"scale(0.015625)\"/>\n        <path d=\"M 3425 4513 \nL 3425 3897 \nQ 3066 4069 2747 4153 \nQ 2428 4238 2131 4238 \nQ 1616 4238 1336 4038 \nQ 1056 3838 1056 3469 \nQ 1056 3159 1242 3001 \nQ 1428 2844 1947 2747 \nL 2328 2669 \nQ 3034 2534 3370 2195 \nQ 3706 1856 3706 1288 \nQ 3706 609 3251 259 \nQ 2797 -91 1919 -91 \nQ 1588 -91 1214 -16 \nQ 841 59 441 206 \nL 441 856 \nQ 825 641 1194 531 \nQ 1563 422 1919 422 \nQ 2459 422 2753 634 \nQ 3047 847 3047 1241 \nQ 3047 1584 2836 1778 \nQ 2625 1972 2144 2069 \nL 1759 2144 \nQ 1053 2284 737 2584 \nQ 422 2884 422 3419 \nQ 422 4038 858 4394 \nQ 1294 4750 2059 4750 \nQ 2388 4750 2728 4690 \nQ 3069 4631 3425 4513 \nz\n\" id=\"DejaVuSans-53\" transform=\"scale(0.015625)\"/>\n        <path d=\"M 3328 2828 \nQ 3544 3216 3844 3400 \nQ 4144 3584 4550 3584 \nQ 5097 3584 5394 3201 \nQ 5691 2819 5691 2113 \nL 5691 0 \nL 5113 0 \nL 5113 2094 \nQ 5113 2597 4934 2840 \nQ 4756 3084 4391 3084 \nQ 3944 3084 3684 2787 \nQ 3425 2491 3425 1978 \nL 3425 0 \nL 2847 0 \nL 2847 2094 \nQ 2847 2600 2669 2842 \nQ 2491 3084 2119 3084 \nQ 1678 3084 1418 2786 \nQ 1159 2488 1159 1978 \nL 1159 0 \nL 581 0 \nL 581 3500 \nL 1159 3500 \nL 1159 2956 \nQ 1356 3278 1631 3431 \nQ 1906 3584 2284 3584 \nQ 2666 3584 2933 3390 \nQ 3200 3197 3328 2828 \nz\n\" id=\"DejaVuSans-6d\" transform=\"scale(0.015625)\"/>\n        <path d=\"M 628 4666 \nL 1569 4666 \nL 2759 1491 \nL 3956 4666 \nL 4897 4666 \nL 4897 0 \nL 4281 0 \nL 4281 4097 \nL 3078 897 \nL 2444 897 \nL 1241 4097 \nL 1241 0 \nL 628 0 \nL 628 4666 \nz\n\" id=\"DejaVuSans-4d\" transform=\"scale(0.015625)\"/>\n        <path d=\"M 544 1381 \nL 544 3500 \nL 1119 3500 \nL 1119 1403 \nQ 1119 906 1312 657 \nQ 1506 409 1894 409 \nQ 2359 409 2629 706 \nQ 2900 1003 2900 1516 \nL 2900 3500 \nL 3475 3500 \nL 3475 0 \nL 2900 0 \nL 2900 538 \nQ 2691 219 2414 64 \nQ 2138 -91 1772 -91 \nQ 1169 -91 856 284 \nQ 544 659 544 1381 \nz\nM 1991 3584 \nL 1991 3584 \nz\n\" id=\"DejaVuSans-75\" transform=\"scale(0.015625)\"/>\n        <path d=\"M 2834 3397 \nL 2834 2853 \nQ 2591 2978 2328 3040 \nQ 2066 3103 1784 3103 \nQ 1356 3103 1142 2972 \nQ 928 2841 928 2578 \nQ 928 2378 1081 2264 \nQ 1234 2150 1697 2047 \nL 1894 2003 \nQ 2506 1872 2764 1633 \nQ 3022 1394 3022 966 \nQ 3022 478 2636 193 \nQ 2250 -91 1575 -91 \nQ 1294 -91 989 -36 \nQ 684 19 347 128 \nL 347 722 \nQ 666 556 975 473 \nQ 1284 391 1588 391 \nQ 1994 391 2212 530 \nQ 2431 669 2431 922 \nQ 2431 1156 2273 1281 \nQ 2116 1406 1581 1522 \nL 1381 1569 \nQ 847 1681 609 1914 \nQ 372 2147 372 2553 \nQ 372 3047 722 3315 \nQ 1072 3584 1716 3584 \nQ 2034 3584 2315 3537 \nQ 2597 3491 2834 3397 \nz\n\" id=\"DejaVuSans-73\" transform=\"scale(0.015625)\"/>\n       </defs>\n       <use xlink:href=\"#DejaVuSans-47\"/>\n       <use x=\"77.490234\" xlink:href=\"#DejaVuSans-72\"/>\n       <use x=\"116.353516\" xlink:href=\"#DejaVuSans-65\"/>\n       <use x=\"177.876953\" xlink:href=\"#DejaVuSans-61\"/>\n       <use x=\"239.15625\" xlink:href=\"#DejaVuSans-74\"/>\n       <use x=\"278.365234\" xlink:href=\"#DejaVuSans-20\"/>\n       <use x=\"310.152344\" xlink:href=\"#DejaVuSans-53\"/>\n       <use x=\"373.628906\" xlink:href=\"#DejaVuSans-6d\"/>\n       <use x=\"471.041016\" xlink:href=\"#DejaVuSans-6f\"/>\n       <use x=\"532.222656\" xlink:href=\"#DejaVuSans-6b\"/>\n       <use x=\"586.507812\" xlink:href=\"#DejaVuSans-79\"/>\n       <use x=\"645.6875\" xlink:href=\"#DejaVuSans-20\"/>\n       <use x=\"677.474609\" xlink:href=\"#DejaVuSans-4d\"/>\n       <use x=\"763.753906\" xlink:href=\"#DejaVuSans-6f\"/>\n       <use x=\"824.935547\" xlink:href=\"#DejaVuSans-75\"/>\n       <use x=\"888.314453\" xlink:href=\"#DejaVuSans-6e\"/>\n       <use x=\"951.693359\" xlink:href=\"#DejaVuSans-74\"/>\n       <use x=\"990.902344\" xlink:href=\"#DejaVuSans-61\"/>\n       <use x=\"1052.181641\" xlink:href=\"#DejaVuSans-69\"/>\n       <use x=\"1079.964844\" xlink:href=\"#DejaVuSans-6e\"/>\n       <use x=\"1143.34375\" xlink:href=\"#DejaVuSans-73\"/>\n       <use x=\"1195.443359\" xlink:href=\"#DejaVuSans-20\"/>\n       <use x=\"1227.230469\" xlink:href=\"#DejaVuSans-4e\"/>\n       <use x=\"1302.035156\" xlink:href=\"#DejaVuSans-61\"/>\n       <use x=\"1363.314453\" xlink:href=\"#DejaVuSans-74\"/>\n       <use x=\"1402.523438\" xlink:href=\"#DejaVuSans-69\"/>\n       <use x=\"1430.306641\" xlink:href=\"#DejaVuSans-6f\"/>\n       <use x=\"1491.488281\" xlink:href=\"#DejaVuSans-6e\"/>\n       <use x=\"1554.867188\" xlink:href=\"#DejaVuSans-61\"/>\n       <use x=\"1616.146484\" xlink:href=\"#DejaVuSans-6c\"/>\n       <use x=\"1643.929688\" xlink:href=\"#DejaVuSans-20\"/>\n       <use x=\"1675.716797\" xlink:href=\"#DejaVuSans-50\"/>\n       <use x=\"1731.519531\" xlink:href=\"#DejaVuSans-61\"/>\n       <use x=\"1792.798828\" xlink:href=\"#DejaVuSans-72\"/>\n       <use x=\"1833.912109\" xlink:href=\"#DejaVuSans-6b\"/>\n      </g>\n     </g>\n    </g>\n    <g id=\"xtick_3\">\n     <g id=\"line2d_3\">\n      <g>\n       <use style=\"stroke:#000000;stroke-width:0.8;\" x=\"598.603125\" xlink:href=\"#m46437542a3\" y=\"457.198125\"/>\n      </g>\n     </g>\n     <g id=\"text_3\">\n      <!-- Yellowstone National Park -->\n      <g transform=\"translate(534.521094 471.796562)scale(0.1 -0.1)\">\n       <defs>\n        <path d=\"M -13 4666 \nL 666 4666 \nL 1959 2747 \nL 3244 4666 \nL 3922 4666 \nL 2272 2222 \nL 2272 0 \nL 1638 0 \nL 1638 2222 \nL -13 4666 \nz\n\" id=\"DejaVuSans-59\" transform=\"scale(0.015625)\"/>\n        <path d=\"M 269 3500 \nL 844 3500 \nL 1563 769 \nL 2278 3500 \nL 2956 3500 \nL 3675 769 \nL 4391 3500 \nL 4966 3500 \nL 4050 0 \nL 3372 0 \nL 2619 2869 \nL 1863 0 \nL 1184 0 \nL 269 3500 \nz\n\" id=\"DejaVuSans-77\" transform=\"scale(0.015625)\"/>\n       </defs>\n       <use xlink:href=\"#DejaVuSans-59\"/>\n       <use x=\"47.833984\" xlink:href=\"#DejaVuSans-65\"/>\n       <use x=\"109.357422\" xlink:href=\"#DejaVuSans-6c\"/>\n       <use x=\"137.140625\" xlink:href=\"#DejaVuSans-6c\"/>\n       <use x=\"164.923828\" xlink:href=\"#DejaVuSans-6f\"/>\n       <use x=\"226.105469\" xlink:href=\"#DejaVuSans-77\"/>\n       <use x=\"307.892578\" xlink:href=\"#DejaVuSans-73\"/>\n       <use x=\"359.992188\" xlink:href=\"#DejaVuSans-74\"/>\n       <use x=\"399.201172\" xlink:href=\"#DejaVuSans-6f\"/>\n       <use x=\"460.382812\" xlink:href=\"#DejaVuSans-6e\"/>\n       <use x=\"523.761719\" xlink:href=\"#DejaVuSans-65\"/>\n       <use x=\"585.285156\" xlink:href=\"#DejaVuSans-20\"/>\n       <use x=\"617.072266\" xlink:href=\"#DejaVuSans-4e\"/>\n       <use x=\"691.876953\" xlink:href=\"#DejaVuSans-61\"/>\n       <use x=\"753.15625\" xlink:href=\"#DejaVuSans-74\"/>\n       <use x=\"792.365234\" xlink:href=\"#DejaVuSans-69\"/>\n       <use x=\"820.148438\" xlink:href=\"#DejaVuSans-6f\"/>\n       <use x=\"881.330078\" xlink:href=\"#DejaVuSans-6e\"/>\n       <use x=\"944.708984\" xlink:href=\"#DejaVuSans-61\"/>\n       <use x=\"1005.988281\" xlink:href=\"#DejaVuSans-6c\"/>\n       <use x=\"1033.771484\" xlink:href=\"#DejaVuSans-20\"/>\n       <use x=\"1065.558594\" xlink:href=\"#DejaVuSans-50\"/>\n       <use x=\"1121.361328\" xlink:href=\"#DejaVuSans-61\"/>\n       <use x=\"1182.640625\" xlink:href=\"#DejaVuSans-72\"/>\n       <use x=\"1223.753906\" xlink:href=\"#DejaVuSans-6b\"/>\n      </g>\n     </g>\n    </g>\n    <g id=\"xtick_4\">\n     <g id=\"line2d_4\">\n      <g>\n       <use style=\"stroke:#000000;stroke-width:0.8;\" x=\"821.803125\" xlink:href=\"#m46437542a3\" y=\"457.198125\"/>\n      </g>\n     </g>\n     <g id=\"text_4\">\n      <!-- Yosemite National Park -->\n      <g transform=\"translate(764.557031 471.796562)scale(0.1 -0.1)\">\n       <use xlink:href=\"#DejaVuSans-59\"/>\n       <use x=\"47.833984\" xlink:href=\"#DejaVuSans-6f\"/>\n       <use x=\"109.015625\" xlink:href=\"#DejaVuSans-73\"/>\n       <use x=\"161.115234\" xlink:href=\"#DejaVuSans-65\"/>\n       <use x=\"222.638672\" xlink:href=\"#DejaVuSans-6d\"/>\n       <use x=\"320.050781\" xlink:href=\"#DejaVuSans-69\"/>\n       <use x=\"347.833984\" xlink:href=\"#DejaVuSans-74\"/>\n       <use x=\"387.042969\" xlink:href=\"#DejaVuSans-65\"/>\n       <use x=\"448.566406\" xlink:href=\"#DejaVuSans-20\"/>\n       <use x=\"480.353516\" xlink:href=\"#DejaVuSans-4e\"/>\n       <use x=\"555.158203\" xlink:href=\"#DejaVuSans-61\"/>\n       <use x=\"616.4375\" xlink:href=\"#DejaVuSans-74\"/>\n       <use x=\"655.646484\" xlink:href=\"#DejaVuSans-69\"/>\n       <use x=\"683.429688\" xlink:href=\"#DejaVuSans-6f\"/>\n       <use x=\"744.611328\" xlink:href=\"#DejaVuSans-6e\"/>\n       <use x=\"807.990234\" xlink:href=\"#DejaVuSans-61\"/>\n       <use x=\"869.269531\" xlink:href=\"#DejaVuSans-6c\"/>\n       <use x=\"897.052734\" xlink:href=\"#DejaVuSans-20\"/>\n       <use x=\"928.839844\" xlink:href=\"#DejaVuSans-50\"/>\n       <use x=\"984.642578\" xlink:href=\"#DejaVuSans-61\"/>\n       <use x=\"1045.921875\" xlink:href=\"#DejaVuSans-72\"/>\n       <use x=\"1087.035156\" xlink:href=\"#DejaVuSans-6b\"/>\n      </g>\n     </g>\n    </g>\n    <g id=\"text_5\">\n     <!-- National Parks -->\n     <g transform=\"translate(451.169531 485.474687)scale(0.1 -0.1)\">\n      <use xlink:href=\"#DejaVuSans-4e\"/>\n      <use x=\"74.804688\" xlink:href=\"#DejaVuSans-61\"/>\n      <use x=\"136.083984\" xlink:href=\"#DejaVuSans-74\"/>\n      <use x=\"175.292969\" xlink:href=\"#DejaVuSans-69\"/>\n      <use x=\"203.076172\" xlink:href=\"#DejaVuSans-6f\"/>\n      <use x=\"264.257812\" xlink:href=\"#DejaVuSans-6e\"/>\n      <use x=\"327.636719\" xlink:href=\"#DejaVuSans-61\"/>\n      <use x=\"388.916016\" xlink:href=\"#DejaVuSans-6c\"/>\n      <use x=\"416.699219\" xlink:href=\"#DejaVuSans-20\"/>\n      <use x=\"448.486328\" xlink:href=\"#DejaVuSans-50\"/>\n      <use x=\"504.289062\" xlink:href=\"#DejaVuSans-61\"/>\n      <use x=\"565.568359\" xlink:href=\"#DejaVuSans-72\"/>\n      <use x=\"606.681641\" xlink:href=\"#DejaVuSans-6b\"/>\n      <use x=\"664.591797\" xlink:href=\"#DejaVuSans-73\"/>\n     </g>\n    </g>\n   </g>\n   <g id=\"matplotlib.axis_2\">\n    <g id=\"ytick_1\">\n     <g id=\"line2d_5\">\n      <defs>\n       <path d=\"M 0 0 \nL -3.5 0 \n\" id=\"m2af426fbe6\" style=\"stroke:#000000;stroke-width:0.8;\"/>\n      </defs>\n      <g>\n       <use style=\"stroke:#000000;stroke-width:0.8;\" x=\"40.603125\" xlink:href=\"#m2af426fbe6\" y=\"457.198125\"/>\n      </g>\n     </g>\n     <g id=\"text_6\">\n      <!-- 0 -->\n      <g transform=\"translate(27.240625 460.997344)scale(0.1 -0.1)\">\n       <defs>\n        <path d=\"M 2034 4250 \nQ 1547 4250 1301 3770 \nQ 1056 3291 1056 2328 \nQ 1056 1369 1301 889 \nQ 1547 409 2034 409 \nQ 2525 409 2770 889 \nQ 3016 1369 3016 2328 \nQ 3016 3291 2770 3770 \nQ 2525 4250 2034 4250 \nz\nM 2034 4750 \nQ 2819 4750 3233 4129 \nQ 3647 3509 3647 2328 \nQ 3647 1150 3233 529 \nQ 2819 -91 2034 -91 \nQ 1250 -91 836 529 \nQ 422 1150 422 2328 \nQ 422 3509 836 4129 \nQ 1250 4750 2034 4750 \nz\n\" id=\"DejaVuSans-30\" transform=\"scale(0.015625)\"/>\n       </defs>\n       <use xlink:href=\"#DejaVuSans-30\"/>\n      </g>\n     </g>\n    </g>\n    <g id=\"ytick_2\">\n     <g id=\"line2d_6\">\n      <g>\n       <use style=\"stroke:#000000;stroke-width:0.8;\" x=\"40.603125\" xlink:href=\"#m2af426fbe6\" y=\"394.444878\"/>\n      </g>\n     </g>\n     <g id=\"text_7\">\n      <!-- 5 -->\n      <g transform=\"translate(27.240625 398.244097)scale(0.1 -0.1)\">\n       <defs>\n        <path d=\"M 691 4666 \nL 3169 4666 \nL 3169 4134 \nL 1269 4134 \nL 1269 2991 \nQ 1406 3038 1543 3061 \nQ 1681 3084 1819 3084 \nQ 2600 3084 3056 2656 \nQ 3513 2228 3513 1497 \nQ 3513 744 3044 326 \nQ 2575 -91 1722 -91 \nQ 1428 -91 1123 -41 \nQ 819 9 494 109 \nL 494 744 \nQ 775 591 1075 516 \nQ 1375 441 1709 441 \nQ 2250 441 2565 725 \nQ 2881 1009 2881 1497 \nQ 2881 1984 2565 2268 \nQ 2250 2553 1709 2553 \nQ 1456 2553 1204 2497 \nQ 953 2441 691 2322 \nL 691 4666 \nz\n\" id=\"DejaVuSans-35\" transform=\"scale(0.015625)\"/>\n       </defs>\n       <use xlink:href=\"#DejaVuSans-35\"/>\n      </g>\n     </g>\n    </g>\n    <g id=\"ytick_3\">\n     <g id=\"line2d_7\">\n      <g>\n       <use style=\"stroke:#000000;stroke-width:0.8;\" x=\"40.603125\" xlink:href=\"#m2af426fbe6\" y=\"331.691631\"/>\n      </g>\n     </g>\n     <g id=\"text_8\">\n      <!-- 10 -->\n      <g transform=\"translate(20.878125 335.49085)scale(0.1 -0.1)\">\n       <defs>\n        <path d=\"M 794 531 \nL 1825 531 \nL 1825 4091 \nL 703 3866 \nL 703 4441 \nL 1819 4666 \nL 2450 4666 \nL 2450 531 \nL 3481 531 \nL 3481 0 \nL 794 0 \nL 794 531 \nz\n\" id=\"DejaVuSans-31\" transform=\"scale(0.015625)\"/>\n       </defs>\n       <use xlink:href=\"#DejaVuSans-31\"/>\n       <use x=\"63.623047\" xlink:href=\"#DejaVuSans-30\"/>\n      </g>\n     </g>\n    </g>\n    <g id=\"ytick_4\">\n     <g id=\"line2d_8\">\n      <g>\n       <use style=\"stroke:#000000;stroke-width:0.8;\" x=\"40.603125\" xlink:href=\"#m2af426fbe6\" y=\"268.938385\"/>\n      </g>\n     </g>\n     <g id=\"text_9\">\n      <!-- 15 -->\n      <g transform=\"translate(20.878125 272.737603)scale(0.1 -0.1)\">\n       <use xlink:href=\"#DejaVuSans-31\"/>\n       <use x=\"63.623047\" xlink:href=\"#DejaVuSans-35\"/>\n      </g>\n     </g>\n    </g>\n    <g id=\"ytick_5\">\n     <g id=\"line2d_9\">\n      <g>\n       <use style=\"stroke:#000000;stroke-width:0.8;\" x=\"40.603125\" xlink:href=\"#m2af426fbe6\" y=\"206.185138\"/>\n      </g>\n     </g>\n     <g id=\"text_10\">\n      <!-- 20 -->\n      <g transform=\"translate(20.878125 209.984357)scale(0.1 -0.1)\">\n       <defs>\n        <path d=\"M 1228 531 \nL 3431 531 \nL 3431 0 \nL 469 0 \nL 469 531 \nQ 828 903 1448 1529 \nQ 2069 2156 2228 2338 \nQ 2531 2678 2651 2914 \nQ 2772 3150 2772 3378 \nQ 2772 3750 2511 3984 \nQ 2250 4219 1831 4219 \nQ 1534 4219 1204 4116 \nQ 875 4013 500 3803 \nL 500 4441 \nQ 881 4594 1212 4672 \nQ 1544 4750 1819 4750 \nQ 2544 4750 2975 4387 \nQ 3406 4025 3406 3419 \nQ 3406 3131 3298 2873 \nQ 3191 2616 2906 2266 \nQ 2828 2175 2409 1742 \nQ 1991 1309 1228 531 \nz\n\" id=\"DejaVuSans-32\" transform=\"scale(0.015625)\"/>\n       </defs>\n       <use xlink:href=\"#DejaVuSans-32\"/>\n       <use x=\"63.623047\" xlink:href=\"#DejaVuSans-30\"/>\n      </g>\n     </g>\n    </g>\n    <g id=\"ytick_6\">\n     <g id=\"line2d_10\">\n      <g>\n       <use style=\"stroke:#000000;stroke-width:0.8;\" x=\"40.603125\" xlink:href=\"#m2af426fbe6\" y=\"143.431891\"/>\n      </g>\n     </g>\n     <g id=\"text_11\">\n      <!-- 25 -->\n      <g transform=\"translate(20.878125 147.23111)scale(0.1 -0.1)\">\n       <use xlink:href=\"#DejaVuSans-32\"/>\n       <use x=\"63.623047\" xlink:href=\"#DejaVuSans-35\"/>\n      </g>\n     </g>\n    </g>\n    <g id=\"ytick_7\">\n     <g id=\"line2d_11\">\n      <g>\n       <use style=\"stroke:#000000;stroke-width:0.8;\" x=\"40.603125\" xlink:href=\"#m2af426fbe6\" y=\"80.678644\"/>\n      </g>\n     </g>\n     <g id=\"text_12\">\n      <!-- 30 -->\n      <g transform=\"translate(20.878125 84.477863)scale(0.1 -0.1)\">\n       <defs>\n        <path d=\"M 2597 2516 \nQ 3050 2419 3304 2112 \nQ 3559 1806 3559 1356 \nQ 3559 666 3084 287 \nQ 2609 -91 1734 -91 \nQ 1441 -91 1130 -33 \nQ 819 25 488 141 \nL 488 750 \nQ 750 597 1062 519 \nQ 1375 441 1716 441 \nQ 2309 441 2620 675 \nQ 2931 909 2931 1356 \nQ 2931 1769 2642 2001 \nQ 2353 2234 1838 2234 \nL 1294 2234 \nL 1294 2753 \nL 1863 2753 \nQ 2328 2753 2575 2939 \nQ 2822 3125 2822 3475 \nQ 2822 3834 2567 4026 \nQ 2313 4219 1838 4219 \nQ 1578 4219 1281 4162 \nQ 984 4106 628 3988 \nL 628 4550 \nQ 988 4650 1302 4700 \nQ 1616 4750 1894 4750 \nQ 2613 4750 3031 4423 \nQ 3450 4097 3450 3541 \nQ 3450 3153 3228 2886 \nQ 3006 2619 2597 2516 \nz\n\" id=\"DejaVuSans-33\" transform=\"scale(0.015625)\"/>\n       </defs>\n       <use xlink:href=\"#DejaVuSans-33\"/>\n       <use x=\"63.623047\" xlink:href=\"#DejaVuSans-30\"/>\n      </g>\n     </g>\n    </g>\n    <g id=\"text_13\">\n     <!-- Number of Observations -->\n     <g transform=\"translate(14.798438 300.894062)rotate(-90)scale(0.1 -0.1)\">\n      <defs>\n       <path d=\"M 3116 1747 \nQ 3116 2381 2855 2742 \nQ 2594 3103 2138 3103 \nQ 1681 3103 1420 2742 \nQ 1159 2381 1159 1747 \nQ 1159 1113 1420 752 \nQ 1681 391 2138 391 \nQ 2594 391 2855 752 \nQ 3116 1113 3116 1747 \nz\nM 1159 2969 \nQ 1341 3281 1617 3432 \nQ 1894 3584 2278 3584 \nQ 2916 3584 3314 3078 \nQ 3713 2572 3713 1747 \nQ 3713 922 3314 415 \nQ 2916 -91 2278 -91 \nQ 1894 -91 1617 61 \nQ 1341 213 1159 525 \nL 1159 0 \nL 581 0 \nL 581 4863 \nL 1159 4863 \nL 1159 2969 \nz\n\" id=\"DejaVuSans-62\" transform=\"scale(0.015625)\"/>\n       <path d=\"M 2375 4863 \nL 2375 4384 \nL 1825 4384 \nQ 1516 4384 1395 4259 \nQ 1275 4134 1275 3809 \nL 1275 3500 \nL 2222 3500 \nL 2222 3053 \nL 1275 3053 \nL 1275 0 \nL 697 0 \nL 697 3053 \nL 147 3053 \nL 147 3500 \nL 697 3500 \nL 697 3744 \nQ 697 4328 969 4595 \nQ 1241 4863 1831 4863 \nL 2375 4863 \nz\n\" id=\"DejaVuSans-66\" transform=\"scale(0.015625)\"/>\n       <path d=\"M 2522 4238 \nQ 1834 4238 1429 3725 \nQ 1025 3213 1025 2328 \nQ 1025 1447 1429 934 \nQ 1834 422 2522 422 \nQ 3209 422 3611 934 \nQ 4013 1447 4013 2328 \nQ 4013 3213 3611 3725 \nQ 3209 4238 2522 4238 \nz\nM 2522 4750 \nQ 3503 4750 4090 4092 \nQ 4678 3434 4678 2328 \nQ 4678 1225 4090 567 \nQ 3503 -91 2522 -91 \nQ 1538 -91 948 565 \nQ 359 1222 359 2328 \nQ 359 3434 948 4092 \nQ 1538 4750 2522 4750 \nz\n\" id=\"DejaVuSans-4f\" transform=\"scale(0.015625)\"/>\n       <path d=\"M 191 3500 \nL 800 3500 \nL 1894 563 \nL 2988 3500 \nL 3597 3500 \nL 2284 0 \nL 1503 0 \nL 191 3500 \nz\n\" id=\"DejaVuSans-76\" transform=\"scale(0.015625)\"/>\n      </defs>\n      <use xlink:href=\"#DejaVuSans-4e\"/>\n      <use x=\"74.804688\" xlink:href=\"#DejaVuSans-75\"/>\n      <use x=\"138.183594\" xlink:href=\"#DejaVuSans-6d\"/>\n      <use x=\"235.595703\" xlink:href=\"#DejaVuSans-62\"/>\n      <use x=\"299.072266\" xlink:href=\"#DejaVuSans-65\"/>\n      <use x=\"360.595703\" xlink:href=\"#DejaVuSans-72\"/>\n      <use x=\"401.708984\" xlink:href=\"#DejaVuSans-20\"/>\n      <use x=\"433.496094\" xlink:href=\"#DejaVuSans-6f\"/>\n      <use x=\"494.677734\" xlink:href=\"#DejaVuSans-66\"/>\n      <use x=\"529.882812\" xlink:href=\"#DejaVuSans-20\"/>\n      <use x=\"561.669922\" xlink:href=\"#DejaVuSans-4f\"/>\n      <use x=\"640.380859\" xlink:href=\"#DejaVuSans-62\"/>\n      <use x=\"703.857422\" xlink:href=\"#DejaVuSans-73\"/>\n      <use x=\"755.957031\" xlink:href=\"#DejaVuSans-65\"/>\n      <use x=\"817.480469\" xlink:href=\"#DejaVuSans-72\"/>\n      <use x=\"858.59375\" xlink:href=\"#DejaVuSans-76\"/>\n      <use x=\"917.773438\" xlink:href=\"#DejaVuSans-61\"/>\n      <use x=\"979.052734\" xlink:href=\"#DejaVuSans-74\"/>\n      <use x=\"1018.261719\" xlink:href=\"#DejaVuSans-69\"/>\n      <use x=\"1046.044922\" xlink:href=\"#DejaVuSans-6f\"/>\n      <use x=\"1107.226562\" xlink:href=\"#DejaVuSans-6e\"/>\n      <use x=\"1170.605469\" xlink:href=\"#DejaVuSans-73\"/>\n     </g>\n    </g>\n   </g>\n   <g id=\"patch_11\">\n    <path d=\"M 40.603125 457.198125 \nL 40.603125 22.318125 \n\" style=\"fill:none;stroke:#000000;stroke-linecap:square;stroke-linejoin:miter;stroke-width:0.8;\"/>\n   </g>\n   <g id=\"patch_12\">\n    <path d=\"M 933.403125 457.198125 \nL 933.403125 22.318125 \n\" style=\"fill:none;stroke:#000000;stroke-linecap:square;stroke-linejoin:miter;stroke-width:0.8;\"/>\n   </g>\n   <g id=\"patch_13\">\n    <path d=\"M 40.603125 457.198125 \nL 933.403125 457.198125 \n\" style=\"fill:none;stroke:#000000;stroke-linecap:square;stroke-linejoin:miter;stroke-width:0.8;\"/>\n   </g>\n   <g id=\"patch_14\">\n    <path d=\"M 40.603125 22.318125 \nL 933.403125 22.318125 \n\" style=\"fill:none;stroke:#000000;stroke-linecap:square;stroke-linejoin:miter;stroke-width:0.8;\"/>\n   </g>\n   <g id=\"text_14\">\n    <!-- Bat Observations -->\n    <g transform=\"translate(435.287813 16.318125)scale(0.12 -0.12)\">\n     <use xlink:href=\"#DejaVuSans-42\"/>\n     <use x=\"68.603516\" xlink:href=\"#DejaVuSans-61\"/>\n     <use x=\"129.882812\" xlink:href=\"#DejaVuSans-74\"/>\n     <use x=\"169.091797\" xlink:href=\"#DejaVuSans-20\"/>\n     <use x=\"200.878906\" xlink:href=\"#DejaVuSans-4f\"/>\n     <use x=\"279.589844\" xlink:href=\"#DejaVuSans-62\"/>\n     <use x=\"343.066406\" xlink:href=\"#DejaVuSans-73\"/>\n     <use x=\"395.166016\" xlink:href=\"#DejaVuSans-65\"/>\n     <use x=\"456.689453\" xlink:href=\"#DejaVuSans-72\"/>\n     <use x=\"497.802734\" xlink:href=\"#DejaVuSans-76\"/>\n     <use x=\"556.982422\" xlink:href=\"#DejaVuSans-61\"/>\n     <use x=\"618.261719\" xlink:href=\"#DejaVuSans-74\"/>\n     <use x=\"657.470703\" xlink:href=\"#DejaVuSans-69\"/>\n     <use x=\"685.253906\" xlink:href=\"#DejaVuSans-6f\"/>\n     <use x=\"746.435547\" xlink:href=\"#DejaVuSans-6e\"/>\n     <use x=\"809.814453\" xlink:href=\"#DejaVuSans-73\"/>\n    </g>\n   </g>\n   <g id=\"legend_1\">\n    <g id=\"patch_15\">\n     <path d=\"M 47.603125 74.3525 \nL 110.79375 74.3525 \nQ 112.79375 74.3525 112.79375 72.3525 \nL 112.79375 29.318125 \nQ 112.79375 27.318125 110.79375 27.318125 \nL 47.603125 27.318125 \nQ 45.603125 27.318125 45.603125 29.318125 \nL 45.603125 72.3525 \nQ 45.603125 74.3525 47.603125 74.3525 \nz\n\" style=\"fill:#ffffff;opacity:0.8;stroke:#cccccc;stroke-linejoin:miter;\"/>\n    </g>\n    <g id=\"text_15\">\n     <!-- Is Protected -->\n     <g transform=\"translate(49.603125 38.916562)scale(0.1 -0.1)\">\n      <defs>\n       <path d=\"M 628 4666 \nL 1259 4666 \nL 1259 0 \nL 628 0 \nL 628 4666 \nz\n\" id=\"DejaVuSans-49\" transform=\"scale(0.015625)\"/>\n       <path d=\"M 2906 2969 \nL 2906 4863 \nL 3481 4863 \nL 3481 0 \nL 2906 0 \nL 2906 525 \nQ 2725 213 2448 61 \nQ 2172 -91 1784 -91 \nQ 1150 -91 751 415 \nQ 353 922 353 1747 \nQ 353 2572 751 3078 \nQ 1150 3584 1784 3584 \nQ 2172 3584 2448 3432 \nQ 2725 3281 2906 2969 \nz\nM 947 1747 \nQ 947 1113 1208 752 \nQ 1469 391 1925 391 \nQ 2381 391 2643 752 \nQ 2906 1113 2906 1747 \nQ 2906 2381 2643 2742 \nQ 2381 3103 1925 3103 \nQ 1469 3103 1208 2742 \nQ 947 2381 947 1747 \nz\n\" id=\"DejaVuSans-64\" transform=\"scale(0.015625)\"/>\n      </defs>\n      <use xlink:href=\"#DejaVuSans-49\"/>\n      <use x=\"29.492188\" xlink:href=\"#DejaVuSans-73\"/>\n      <use x=\"81.591797\" xlink:href=\"#DejaVuSans-20\"/>\n      <use x=\"113.378906\" xlink:href=\"#DejaVuSans-50\"/>\n      <use x=\"171.931641\" xlink:href=\"#DejaVuSans-72\"/>\n      <use x=\"210.794922\" xlink:href=\"#DejaVuSans-6f\"/>\n      <use x=\"271.976562\" xlink:href=\"#DejaVuSans-74\"/>\n      <use x=\"311.185547\" xlink:href=\"#DejaVuSans-65\"/>\n      <use x=\"372.708984\" xlink:href=\"#DejaVuSans-63\"/>\n      <use x=\"427.689453\" xlink:href=\"#DejaVuSans-74\"/>\n      <use x=\"466.898438\" xlink:href=\"#DejaVuSans-65\"/>\n      <use x=\"528.421875\" xlink:href=\"#DejaVuSans-64\"/>\n     </g>\n    </g>\n    <g id=\"patch_16\">\n     <path d=\"M 52.644531 53.594687 \nL 72.644531 53.594687 \nL 72.644531 46.594687 \nL 52.644531 46.594687 \nz\n\" style=\"fill:#3274a1;\"/>\n    </g>\n    <g id=\"text_16\">\n     <!-- False -->\n     <g transform=\"translate(80.644531 53.594687)scale(0.1 -0.1)\">\n      <defs>\n       <path d=\"M 628 4666 \nL 3309 4666 \nL 3309 4134 \nL 1259 4134 \nL 1259 2759 \nL 3109 2759 \nL 3109 2228 \nL 1259 2228 \nL 1259 0 \nL 628 0 \nL 628 4666 \nz\n\" id=\"DejaVuSans-46\" transform=\"scale(0.015625)\"/>\n      </defs>\n      <use xlink:href=\"#DejaVuSans-46\"/>\n      <use x=\"48.394531\" xlink:href=\"#DejaVuSans-61\"/>\n      <use x=\"109.673828\" xlink:href=\"#DejaVuSans-6c\"/>\n      <use x=\"137.457031\" xlink:href=\"#DejaVuSans-73\"/>\n      <use x=\"189.556641\" xlink:href=\"#DejaVuSans-65\"/>\n     </g>\n    </g>\n    <g id=\"patch_17\">\n     <path d=\"M 52.644531 68.272812 \nL 72.644531 68.272812 \nL 72.644531 61.272812 \nL 52.644531 61.272812 \nz\n\" style=\"fill:#e1812c;\"/>\n    </g>\n    <g id=\"text_17\">\n     <!-- True -->\n     <g transform=\"translate(80.644531 68.272812)scale(0.1 -0.1)\">\n      <defs>\n       <path d=\"M -19 4666 \nL 3928 4666 \nL 3928 4134 \nL 2272 4134 \nL 2272 0 \nL 1638 0 \nL 1638 4134 \nL -19 4134 \nL -19 4666 \nz\n\" id=\"DejaVuSans-54\" transform=\"scale(0.015625)\"/>\n      </defs>\n      <use xlink:href=\"#DejaVuSans-54\"/>\n      <use x=\"46.333984\" xlink:href=\"#DejaVuSans-72\"/>\n      <use x=\"87.447266\" xlink:href=\"#DejaVuSans-75\"/>\n      <use x=\"150.826172\" xlink:href=\"#DejaVuSans-65\"/>\n     </g>\n    </g>\n   </g>\n  </g>\n </g>\n <defs>\n  <clipPath id=\"pb2c975078c\">\n   <rect height=\"434.88\" width=\"892.8\" x=\"40.603125\" y=\"22.318125\"/>\n  </clipPath>\n </defs>\n</svg>\n",
      "image/png": "[encoded data removed]"
     },
     "metadata": {
      "needs_background": "light"
     }
    }
   ],
   "source": [
    "plt.figure(figsize=(16, 8))\n",
    "sns.barplot(x=obs_by_park['Park Name'], y=obs_by_park['Observations'], hue=obs_by_park['Is Protected'], ci=None)\n",
    "plt.xlabel('National Parks')\n",
    "plt.ylabel('Number of Observations')\n",
    "plt.title('Bat Observations')\n",
    "plt.show()"
   ]
  },
  {
   "source": [
    "## Conclusion\n",
    "\n",
    "This project makes several inferences about the various species in four of the National Parks that comprised this data set.\n",
    "\n",
    "This project was also able to answer some of the questions first posed in the beginning:\n",
    "\n",
    "- What is the distribution of conservation status for species?\n",
    "    - The vast majority of species were not part of the conservation effort (33,473 vs. 377).\n",
    "- Are certain types of species more likely to be endangered?\n",
    "    - **Mammals** and **birds** had the highest percentage of being in protection.\n",
    "- Are the differences between species and their conservation status significant?\n",
    "    - While **mammals** and **birds** did not significantly differ in conservation percentage, **mammals** and **reptiles** exhibited a statistically significant difference.\n",
    "- Which animal is most prevalent, and what is their distribution amongst parks?\n",
    "    - **Bats** were sighted the most, and they were most likely to be found at Great Smoky Mountains National Park."
   ],
   "cell_type": "markdown",
   "metadata": {}
  }
 ],
 "metadata": {
  "kernelspec": {
   "name": "python3",
   "display_name": "Python 3.8.5 64-bit ('3.8')"
  },
  "language_info": {
   "codemirror_mode": {
    "name": "ipython",
    "version": 3
   },
   "file_extension": ".py",
   "mimetype": "text/x-python",
   "name": "python",
   "nbconvert_exporter": "python",
   "pygments_lexer": "ipython3",
   "version": "3.8.5"
  },
  "interpreter": {
   "hash": "082e9a3bcad0a290d0001e938aa60b99250c6c2ef33a923c00b70f9826caf4b7"
  }
 },
 "nbformat": 4,
 "nbformat_minor": 4
}